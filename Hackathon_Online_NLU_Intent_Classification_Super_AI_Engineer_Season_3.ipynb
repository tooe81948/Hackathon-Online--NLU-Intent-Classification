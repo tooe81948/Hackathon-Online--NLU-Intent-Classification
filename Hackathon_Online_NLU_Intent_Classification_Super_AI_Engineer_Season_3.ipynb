{
  "nbformat": 4,
  "nbformat_minor": 0,
  "metadata": {
    "colab": {
      "provenance": [],
      "toc_visible": true
    },
    "kernelspec": {
      "name": "python3",
      "display_name": "Python 3"
    },
    "language_info": {
      "name": "python"
    },
    "accelerator": "GPU",
    "gpuClass": "standard"
  },
  "cells": [
    {
      "cell_type": "markdown",
      "source": [
        "#Setting kaggle"
      ],
      "metadata": {
        "id": "etOEgh_omK0A"
      }
    },
    {
      "cell_type": "code",
      "execution_count": null,
      "metadata": {
        "colab": {
          "base_uri": "https://localhost:8080/"
        },
        "id": "7hl3pq_3l2An",
        "outputId": "667353ab-6df0-4f30-9be4-2d42b77dd439"
      },
      "outputs": [
        {
          "output_type": "stream",
          "name": "stdout",
          "text": [
            "ref                                                      title                                     size  lastUpdated          downloadCount  voteCount  usabilityRating  \n",
            "-------------------------------------------------------  ---------------------------------------  -----  -------------------  -------------  ---------  ---------------  \n",
            "themrityunjaypathak/covid-cases-and-deaths-worldwide     Covid Cases and Deaths WorldWide           8KB  2023-02-01 12:22:51          13274        450  1.0              \n",
            "datascientistanna/customers-dataset                      Shop Customer Data                        23KB  2023-02-07 18:42:21          11495        262  1.0              \n",
            "ulrikthygepedersen/co2-emissions-by-country              CO2 Emissions                            114KB  2023-02-28 12:39:49           1314         35  1.0              \n",
            "amaanansari09/most-streamed-songs-all-time               Most Streamed Songs (All Time)             8KB  2023-03-08 10:56:24           1663         48  1.0              \n",
            "ulrikthygepedersen/populations                           Populations                              124KB  2023-02-28 12:43:44            905         40  1.0              \n",
            "thedevastator/airbnb-prices-in-european-cities           Airbnb Prices in European Cities           4MB  2023-02-20 09:48:04           4217         81  1.0              \n",
            "sunayanagawde/countrywise-covid-cases                    Countrywise COVID cases                    4KB  2023-02-23 15:07:35           1208         33  1.0              \n",
            "amaanansari09/top-100-songs                              Top 100 songs                              6KB  2023-03-12 10:06:03           3203         95  1.0              \n",
            "rkiattisak/mobile-phone-price                            Mobile Phone Price                         5KB  2023-03-09 04:15:24           1036         29  1.0              \n",
            "iabdulw/co2-emissions-uk                                 CO2 Emissions UK                          935B  2023-03-09 01:02:40            303         26  1.0              \n",
            "justin2028/unemployment-in-america-per-us-state          Unemployment in America, Per US State    826KB  2023-03-02 07:26:03           1203         65  1.0              \n",
            "cdeotte/census-data-for-godaddy                          Census Data for GoDaddy                   14MB  2023-02-21 07:59:53           1058        132  0.47058824       \n",
            "rajugc/imdb-top-250-movies-dataset                       IMDB Top 250 Movies Dataset               52KB  2023-02-11 16:02:01           4438         95  1.0              \n",
            "shrikrishnaparab/forbes-billionaires-and-companies-2022  Forbes Billionaires and Companies 2022   735KB  2023-02-17 06:15:43           1444         31  1.0              \n",
            "karkavelrajaj/amazon-sales-dataset                       Amazon Sales Dataset                       2MB  2023-01-17 06:21:15          13207        188  1.0              \n",
            "warcoder/earthquake-dataset                              Earthquake dataset                        35KB  2023-02-26 09:59:04           1530         44  1.0              \n",
            "rkiattisak/salaly-prediction-for-beginer                 Salary Prediction dataset                  3KB  2023-03-07 02:45:11            996         36  1.0              \n",
            "anas123siddiqui/mobiles                                  Mobiles                                   59KB  2023-02-18 16:37:24           1897         51  1.0              \n",
            "rkiattisak/traveler-trip-data                            Traveler Trip Dataset                      4KB  2023-03-06 07:11:05           1061         37  1.0              \n",
            "sujaykapadnis/school-shooting-data                       School Shooting Data                      12KB  2023-02-26 18:16:49           1176         39  1.0              \n",
            "Downloading hackathon-online-nlu-intent-classification.zip to /content\n",
            "100% 389k/389k [00:00<00:00, 553kB/s]\n",
            "100% 389k/389k [00:00<00:00, 552kB/s]\n"
          ]
        }
      ],
      "source": [
        "!pip install -q kaggle\n",
        "!mkdir ~/.kaggle\n",
        "!cp /content/drive/MyDrive/Kaggle/kaggle.json ~/.kaggle/\n",
        "!chmod 600 ~/.kaggle/kaggle.json\n",
        "!kaggle datasets list\n",
        "!kaggle competitions download -c hackathon-online-nlu-intent-classification"
      ]
    },
    {
      "cell_type": "code",
      "source": [
        "!unzip /content/hackathon-online-nlu-intent-classification.zip"
      ],
      "metadata": {
        "colab": {
          "base_uri": "https://localhost:8080/"
        },
        "id": "sygUZFWimhVx",
        "outputId": "2288e584-1501-4a02-d6df-0ee1e11a415e"
      },
      "execution_count": null,
      "outputs": [
        {
          "output_type": "stream",
          "name": "stdout",
          "text": [
            "Archive:  /content/hackathon-online-nlu-intent-classification.zip\n",
            "  inflating: intent_sample_submission.csv  \n",
            "  inflating: small_test.csv          \n",
            "  inflating: test.csv                \n",
            "  inflating: train.json              \n",
            "  inflating: valid.json              \n"
          ]
        }
      ]
    },
    {
      "cell_type": "code",
      "source": [
        "!pip install pythainlp"
      ],
      "metadata": {
        "colab": {
          "base_uri": "https://localhost:8080/"
        },
        "id": "6AmS99tGrQ0n",
        "outputId": "e8df22a7-64ed-412c-d004-f0611a49e6e9"
      },
      "execution_count": null,
      "outputs": [
        {
          "output_type": "stream",
          "name": "stdout",
          "text": [
            "Looking in indexes: https://pypi.org/simple, https://us-python.pkg.dev/colab-wheels/public/simple/\n",
            "Collecting pythainlp\n",
            "  Downloading pythainlp-3.1.1-py3-none-any.whl (9.6 MB)\n",
            "\u001b[2K     \u001b[90m━━━━━━━━━━━━━━━━━━━━━━━━━━━━━━━━━━━━━━━━\u001b[0m \u001b[32m9.6/9.6 MB\u001b[0m \u001b[31m60.5 MB/s\u001b[0m eta \u001b[36m0:00:00\u001b[0m\n",
            "\u001b[?25hRequirement already satisfied: requests>=2.22.0 in /usr/local/lib/python3.9/dist-packages (from pythainlp) (2.27.1)\n",
            "Requirement already satisfied: certifi>=2017.4.17 in /usr/local/lib/python3.9/dist-packages (from requests>=2.22.0->pythainlp) (2022.12.7)\n",
            "Requirement already satisfied: urllib3<1.27,>=1.21.1 in /usr/local/lib/python3.9/dist-packages (from requests>=2.22.0->pythainlp) (1.26.15)\n",
            "Requirement already satisfied: idna<4,>=2.5 in /usr/local/lib/python3.9/dist-packages (from requests>=2.22.0->pythainlp) (3.4)\n",
            "Requirement already satisfied: charset-normalizer~=2.0.0 in /usr/local/lib/python3.9/dist-packages (from requests>=2.22.0->pythainlp) (2.0.12)\n",
            "Installing collected packages: pythainlp\n",
            "Successfully installed pythainlp-3.1.1\n"
          ]
        }
      ]
    },
    {
      "cell_type": "markdown",
      "source": [
        "#Code"
      ],
      "metadata": {
        "id": "WvWuxFBVmW2l"
      }
    },
    {
      "cell_type": "code",
      "source": [
        "import json\n",
        "\n",
        "with open('/content/train.json', 'r') as file:\n",
        "    data = json.load(file)"
      ],
      "metadata": {
        "id": "C0Kun9E6mXXq"
      },
      "execution_count": null,
      "outputs": []
    },
    {
      "cell_type": "code",
      "source": [
        "import json\n",
        "\n",
        "with open('/content/valid.json', 'r') as file:\n",
        "    val_data = json.load(file)"
      ],
      "metadata": {
        "id": "tYOovWtMxCbJ"
      },
      "execution_count": null,
      "outputs": []
    },
    {
      "cell_type": "code",
      "source": [
        "X = []\n",
        "y = []\n",
        "for idx,data_txt in enumerate(data):\n",
        "  text_all = data_txt['utterance']\n",
        "  X.append(text_all)\n",
        "  y.append(data_txt['intent'])"
      ],
      "metadata": {
        "id": "eNOduKwOpizC"
      },
      "execution_count": null,
      "outputs": []
    },
    {
      "cell_type": "code",
      "source": [
        "len(X)"
      ],
      "metadata": {
        "colab": {
          "base_uri": "https://localhost:8080/"
        },
        "id": "hTfI0X1jyfgd",
        "outputId": "2534e11c-370c-466a-89b0-b796f74b8cc0"
      },
      "execution_count": null,
      "outputs": [
        {
          "output_type": "execute_result",
          "data": {
            "text/plain": [
              "13084"
            ]
          },
          "metadata": {},
          "execution_count": 4
        }
      ]
    },
    {
      "cell_type": "code",
      "source": [
        "for idx,data_txt in enumerate(val_data):\n",
        "  text_all = data_txt['utterance']\n",
        "  X.append(text_all)\n",
        "  y.append(data_txt['intent'])"
      ],
      "metadata": {
        "id": "_9kjN6bZx2rb"
      },
      "execution_count": null,
      "outputs": []
    },
    {
      "cell_type": "code",
      "source": [
        "len(X)"
      ],
      "metadata": {
        "colab": {
          "base_uri": "https://localhost:8080/"
        },
        "id": "BbRm4w_cybUG",
        "outputId": "75a0bcbc-11da-4b87-d2cb-d023f29f04ea"
      },
      "execution_count": null,
      "outputs": [
        {
          "output_type": "execute_result",
          "data": {
            "text/plain": [
              "13284"
            ]
          },
          "metadata": {},
          "execution_count": 6
        }
      ]
    },
    {
      "cell_type": "code",
      "source": [
        "from sklearn.feature_extraction.text import CountVectorizer\n",
        "from pythainlp.tokenize import word_tokenize\n",
        "count_vect = CountVectorizer(tokenizer=word_tokenize)\n",
        "Xtrain_count = count_vect.fit_transform(X)\n",
        "Xtrain_count.shape"
      ],
      "metadata": {
        "colab": {
          "base_uri": "https://localhost:8080/"
        },
        "id": "l1OZlh7NnZet",
        "outputId": "4246c3e4-2dad-46dd-c159-8ce41defcbf4"
      },
      "execution_count": null,
      "outputs": [
        {
          "output_type": "stream",
          "name": "stderr",
          "text": [
            "/usr/local/lib/python3.9/dist-packages/sklearn/feature_extraction/text.py:528: UserWarning: The parameter 'token_pattern' will not be used since 'tokenizer' is not None'\n",
            "  warnings.warn(\n"
          ]
        },
        {
          "output_type": "execute_result",
          "data": {
            "text/plain": [
              "(13284, 11216)"
            ]
          },
          "metadata": {},
          "execution_count": 7
        }
      ]
    },
    {
      "cell_type": "code",
      "source": [
        "print(count_vect.vocabulary_)"
      ],
      "metadata": {
        "colab": {
          "base_uri": "https://localhost:8080/"
        },
        "id": "a6erNfhqsa2t",
        "outputId": "734cc129-a5d5-47ea-b648-09e6b10dde26"
      },
      "execution_count": null,
      "outputs": [
        {
          "output_type": "stream",
          "name": "stdout",
          "text": [
            "{'will': 10898, ' ': 0, 'it': 4944, 'be': 1006, 'rainy': 8059, 'in': 4779, 'tenino': 9853, 'add': 304, 'steve': 9479, 'albini': 412, 'album': 414, 'to': 10042, 'my': 6767, 'psychedelic': 7930, 'rock': 8422, 'playlist': 7699, 'book': 1330, 'a': 232, 'table': 9710, 'for': 3689, '3': 172, 'at': 772, 'one': 7213, 'of': 7152, 'the': 9910, 'restaurants': 8265, 'washington': 10743, '  ': 1, 'd': 2543, 'c': 1597, 'riverview': 8387, 'what': 10828, 's': 8574, 'weather': 10778, 'forecast': 3696, 'belknap': 1080, 'play': 7688, 'fereydoun': 3546, 'farrokhzad': 3492, 'best': 1129, 'track': 10148, 'put': 7975, 'kan': 5220, 'mikami': 6464, 'on': 7208, 'pre-party': 7822, 'r': 8018, '&': 7, 'b': 861, 'jams': 4995, 'look': 5848, 'chu': 2005, 'and': 550, 'philly': 7579, 'flash': 3634, 'picture': 7615, 'god': 4057, 'that': 9907, 'failed': 3436, 'vimeo': 10601, 'soundtrack': 9309, 'by': 1595, 'mike': 6466, 'hindert': 4529, 'spotify': 9378, 'want': 10716, 'watch': 10749, 'tv': 10308, 'show': 9025, 'treeful': 10193, 'starling': 9433, 'how': 4654, 'much': 6714, 'hotter': 4644, '40': 188, 'weeks': 10797, 'from': 3794, 'now': 7082, 'blue': 1265, 'island': 4931, 'north': 7050, 'dakota': 2557, 'l': 5485, 'lloyd': 5804, 'gaming': 3860, 'anthems': 611, 'find': 3595, 'trailer': 10158, 'jazz': 5029, 'impressions': 4776, 'u': 10352, 'when': 10835, 'is': 4923, 'percy': 7522, 'jackson': 4977, 'playing': 7695, 'movie': 6698, 'theatre': 9913, 'let': 5683, 'me': 6318, 'get': 3952, 'reservations': 8249, 'party': 7427, 'three': 9969, 'bar': 944, 'with': 10951, 'pool': 7758, 'rate': 8105, 'country': 2365, 'blues': 1267, 'out': 7298, '6': 208, 'stars': 9435, 'i': 4715, 'hear': 4417, 'jimmy': 5088, 'james': 4991, 'thirties': 9948, 'song': 9269, 'groove': 4196, 'shark': 8947, 'sungmin': 9610, 'into': 4873, 'summer': 9602, 'twenties': 10313, 'television': 9832, 'called': 1642, 'milagros': 6467, ':': 230, 'girl': 4007, 'away': 844, 'flying': 3661, 'scotsman': 8763, 'nicodemus': 6949, 'nearby': 6856, 'novel': 7076, 'peace': 7478, 'arch': 673, 'news': 6916, 'please': 7708, 'make': 6041, 'somewhere': 9260, 'eight': 3125, 'people': 7517, 'foley': 3670, 'nv': 7110, 'new': 6911, 'mexico': 6424, 'schedule': 8732, '12': 38, '53': 202, 'am': 491, 'tune': 10279, 'african': 342, 'heat': 4429, 'battlefield': 990, 'network': 6897, 'going': 4067, 'hot': 4641, 'lexington-fayette': 5697, 'time': 10009, 'flies': 3644, '1994': 109, '-': 8, '2009': 126, 'jazzy': 5031, 'romance': 8460, 'can': 1667, 'you': 11106, 'faithless': 3450, 'street': 9528, 'chocolate': 1970, 'rain': 8052, 'creativity': 2419, 'search': 8796, 'mama': 6069, 'windy': 10922, 'here': 4472, 'seven': 8895, 'seconds': 8814, 'would': 11009, 'give': 4013, 'all': 444, 'fresh': 3771, 'box': 1383, 'saga': 8591, 'rating': 8109, '2': 115, 'points': 7737, 'unborn': 10387, 'but': 1584, 'forgotten': 3705, 'rob': 8400, 'tyner': 10343, 'betsy': 1140, 'we': 10773, 'everywhere': 3373, 'this': 9950, 'artist': 738, 'lo': 5806, 'm': 5963, 'á': 11180, 'dance': 2571, 'there': 9931, 'lot': 5874, 'wind': 10916, 'west': 10819, 'fargo': 3480, 'gu': 4209, 'blizzard': 1246, 'saudi': 8697, 'arabia': 666, 'around': 725, 'o': 7113, 'clock': 2096, 'need': 6863, 'two': 10338, 'reservation': 8248, 'faraway': 3477, 'atlantic': 778, 'av-barclays': 825, 'ctr': 2488, 'spa': 9325, 'fast': 3497, 'food': 3683, 'restaurant': 8263, 'zimbabwe': 11160, 'brasserie': 1415, 'has': 4377, 'parking': 7412, 'ancient': 549, 'art': 734, 'war': 10719, 'video': 10582, 'game': 3856, 'titled': 10036, '20': 116, 'hours': 4648, 'america': 509, 'dead': 2633, 'matter': 6242, 'speakeasy': 9340, 'theaters': 9912, '/': 14, '9': 225, '2039': 156, 'florida': 3652, 'caverns': 1803, 'state': 9441, 'park': 7409, 'year': 11079, 'chant': 1866, 'fifties': 3578, 'snows': 9214, 'kilimanjaro': 5350, 'personal': 7541, 'demons': 2709, '0': 15, 'supposed': 9626, 'chilly': 1953, 'de': 2631, 'tonight': 10087, 'claude': 2067, 'vonstroke': 10647, 'under': 10398, 'surface': 9631, 'series': 8875, 'cocktail': 2132, 'kings': 5370, 'tell': 9833, 'inniswold': 4841, 'é': 11188, 'union': 10410, 'pull': 7950, 'up': 10434, 'sanford': 8652, 'herald': 4469, 'wifi': 10880, 'schuyler': 8749, 'lake': 5512, 'any': 627, 'rebecca': 8144, 'hewitt': 4494, 'see': 8825, 'schedules': 8734, 'animated': 579, 'movies': 6699, 'flame': 3629, 'dcode': 2630, '2016': 133, 'music': 6749, '2010': 127, 'jason': 5022, 'donovan': 2915, 'classified': 2066, '00': 16, '09': 28, '07': 26, '5': 198, 'expressive': 3403, 'processing': 7886, 'times': 10014, 'fox': 3729, 'theatres': 9914, 'codebreakers': 2137, 'value': 10485, 'luis': 5932, 'fonsi': 3682, 'resurrection': 8271, 'evil': 3375, 'warm': 10729, 'fernley': 3550, 'overcast': 7314, 'south': 9312, 'carolina': 1744, 'current': 2514, '1': 29, 'getting': 3956, 'wrong': 11024, 'beginning': 1061, '4': 187, 'something': 9257, '1985': 100, 'billy': 1184, 'werner': 10816, 'where': 10836, 'white': 10852, 'bim': 1185, 'black': 1215, 'ear': 3055, 'title': 10035, 'rainwater': 8058, 'lp': 5912, 'like': 5733, 'antonito': 623, 'off': 7154, 'curtis': 2521, 'lee': 5634, 'rough': 8510, 'diamonds': 2767, 'pappu': 7391, 'venugopala': 10535, 'rao': 8092, 'slacker': 9148, 'star': 9428, 'road': 8393, 'reality': 8136, 'complete': 2215, 'guide': 4222, 'laws': 5598, 'universe': 10415, 'saki': 8604, 'nakajima': 6791, 'showing': 9029, 'vanquished': 10500, 'starts': 9439, 'nine': 6992, 'second': 8812, 'closest': 2106, 'harbour': 4339, 'beat': 1023, 'textbook': 9895, 'morning': 6652, 'cold': 2151, 'nevada': 6904, 'half': 4276, 'ten': 9847, 'years': 11081, 'mount': 6685, 'victory': 10578, 'macao': 5973, 'films': 3591, 'alamo': 399, 'drafthouse': 2961, 'cinema': 2027, 'sean': 8795, 'yseult': 11113, 'sort': 9295, 'through': 9974, 'top-': 10096, '50': 199, 'panther': 7383, 'basement': 973, 'four': 3722, 'painting': 7352, 'songs': 9272, 'tsongas': 10260, 'ultra': 10373, 'metal': 6412, 'colony': 2174, 'sri': 9402, 'lanka': 5547, 'next': 6923, 'santikos': 8664, 'kurt': 5472, 'cobain': 2123, 'ballad': 916, 'tunes': 10280, 'five': 3624, 'distant': 2847, 'sutphin': 9648, 'blvd': 1275, 'toxic': 10138, 'avenger': 832, 'ii': 4749, 'skystone': 9146, 'looking': 5850, 'photograph': 7595, 'crimson': 2440, 'climax': 2091, 'freezing': 3765, 'balko': 913, 'monty': 6625, '’': 11209, 'hotel': 4643, 'secunderabad': 8821, 'vermont': 10545, 'banquet': 941, 'damned': 2567, 'serving': 8885, 'soupe': 9311, 'tokelau': 10064, 'essay': 3319, 'willits': 10906, 'christmas': 1999, 'twenty': 10315, 'minutes': 6511, 'emo': 3222, 'forever': 3701, 'naked': 6792, 'gun': 4228, 'original': 7263, 'house': 4649, 'pies': 7623, 'plandome': 7677, 'manor': 6105, 'pa': 7333, 'an': 535, 'american': 510, 'gastropub': 3892, 'mary': 6198, 'crowd': 2468, 'study': 9559, 'popular': 7766, 'mind': 6495, 'listen': 5779, 'imposter': 4774, 'ribbon': 8319, 'deborah': 2652, 'genesis': 3925, 'machine': 5981, 'some': 9254, '1993': 108, 'concerto': 2235, 'indie': 4802, 'hipster': 4539, '45': 193, '24': 165, 'daddy': 2547, 'yankee': 11070, 'bt': 1515, 'independent': 4794, 'monday': 6590, 'kentucky': 5306, 'weekend': 10795, 'spot': 9377, 'savoy': 8706, 'grill': 4183, 'neighboring': 6875, 'wisconsin': 10944, 'edgemoor': 3094, 'month': 6618, 'or': 7242, 'snowy': 9216, 'pillow': 7633, 'indiana': 4800, 'noche': 7019, 'chicas': 1932, 'dres': 2981, 'named': 6794, 'trevor': 10202, 'mcnevan': 6311, 'top': 10095, 'tracks': 10150, 'jane': 4998, 'olivor': 7192, 'sleep': 9161, 'waterscapes': 10755, '8': 219, 'right': 8349, 'meadow': 6320, 'vale': 10474, 'warmer': 10730, 'berkley': 1111, 'amco': 506, 'entertainment': 3272, 'minute': 6510, 'feel': 3528, 'place': 7667, 'july': 5177, 'fork': 3706, 'mountain': 6686, 'sc': 8713, 'valarie': 10473, 'mari': 6149, 'century': 1829, 'twilight': 10328, 'breaking': 1429, 'dawn': 2621, 'part': 7421, 'workout': 10997, 'needs': 6868, 'more': 6644, 'chris': 1990, 'cross': 2456, 'magic': 6011, 'history': 4551, 'theory': 9929, 'practice': 7815, 'wesley': 10818, 'hills': 4524, 'journal': 5143, 'social': 9226, 'work': 10992, 'gets': 3955, 'tuscan': 10305, '7': 213, 'richfield': 8331, 'chronicle': 2003, 'zero': 11155, 'body': 1291, 'secrets': 8818, 'maidens': 6028, 'pura': 7963, 'vida': 10579, 'list': 5777, 'nearest': 6857, 'brunch': 1505, 'lambertville': 5523, 'india': 4797, 'pm': 7723, 'chaos': 1869, 'desire': 2739, 'dan': 2569, 'snaith': 9199, 'falling': 3458, 'intense': 4864, 'studying': 9560, 'gipsy-gordon': 4006, 'wildland': 10893, 'jenifer': 5050, '2000': 117, 'are': 683, 'hits': 4559, 'winter': 10939, '2008': 125, 'onto': 7221, 'ntc': 7087, 'studio': 9558, 'sounds': 9306, 'bayside': 1001, 'sep': 8865, '21': 159, '2034': 151, 'oregon': 7250, 'total': 10114, 'fir': 3611, 'storm': 9508, 'conditions': 2242, 'week': 10793, 'neighbourhood': 6876, 'josie': 5140, 'carissa': 1728, 'lindsay': 5757, 'which': 10838, 'serves': 8881, 'trentino': 10198, 'fort': 3712, 'point': 7735, 'san': 8638, 'francisco': 3742, 'tomorrow': 10078, 'feb': 3523, '18': 56, 'turbonegro': 10285, 'go': 4051, 'genuine': 3934, 'zvooq': 11173, 'nightmare': 6967, 'lands': 5539, 'supper': 9624, 'dresbach': 2982, 'vanuatu': 10502, 'marine': 6159, 'showtimes': 9035, 'wendy': 10808, 'fourties': 3727, 'yoshiki': 11103, 'fukuyama': 3807, 'neighborhood': 6874, 'dearest': 2643, 'enemy': 3249, 'parkers': 7411, 'prairie': 7818, 'va': 10469, '08': 27, '02': 21, 'sound': 9305, '1952': 69, 'goodrich': 4084, 'quality': 7995, 'yma': 11092, 'sumac': 9601, 'animal': 577, 'collective': 2167, 'giv': 4012, 'la': 5486, 'mejor': 6359, 'ú': 11200, 'sica': 9045, '2017': 134, 'highly': 4515, 'rated': 8106, 'truck': 10240, 'adela': 311, 'hallam': 4286, 'nice': 6936, 'pw': 7984, 'innocent': 4843, 'world': 11001, 'close-by': 2103, 'position': 7788, 'wannadies': 10715, 'without': 10953, 'witness': 10954, 'molecular': 6573, 'oncology': 7212, 'netflix': 6893, '2003': 120, 'score': 8758, 'crabfish': 2396, 'rainforest': 8055, 'forward': 3718, 'burger': 1553, 'joint': 5120, 'choate': 1967, '16': 49, 'th': 9898, '2022': 139, 'sandworms': 8650, 'dune': 3028, 'live': 5791, 'ghetto': 3962, 'beau': 1030, 'jocque': 5100, 'singing': 9091, 'trees': 10194, 'rena': 8222, 'radio': 8034, 'locate': 5814, 'ismol': 4937, 'family': 3465, 'so': 9218, 'monson': 6608, 'minor': 6506, 'outlying': 7305, 'islands': 4933, 'quantity': 7996, 'insanity': 4848, 'pop': 7761, 'punk': 7959, 'not': 7062, '300': 174, 'march': 6136, 'glory': 4043, 'local': 5813, 'jewish': 5075, 'gambia': 3853, 'ian': 4718, 'gillan': 3989, 'sixties': 9121, 'do': 2868, 'build': 1533, 'snowman': 9213, 'hip': 4533, 'hop': 4616, 'school': 8742, 'today': 10051, 'holtwood': 4590, 'symphony': 9693, 'google': 4087, 'june': 5181, 'seating': 8806, 'tuvalu': 10306, 'larry': 5559, 'graham': 4120, 'expect': 3391, 'start': 9437, 'bow': 1376, 'tie': 9994, 'cinemas': 2029, 'everytime': 3372, 'touch': 10119, 'anweshaa': 626, 'first': 3617, 'name': 6793, 'brain': 1402, 'brian': 1447, 'troll': 10225, 'central': 1828, 'running': 8546, 'power': 7808, 'yet': 11090, 'come': 2187, 'most': 6672, 'charming': 1885, 'attractive': 795, 'reserve': 8250, 'cubby': 2492, 'bear': 1014, '   ': 2, 'comoros': 2206, 'caretaker': 1721, 'jalal': 4988, 'zolfonun': 11163, 'nature': 6835, 'noise': 7026, 'evening': 3362, 'calipuy': 1638, 'national': 6827, 'foggy': 3666, 'elder': 3144, 'rhode': 8311, 'last': 5565, 'mile': 6469, 'them': 9922, 'guy-manuel': 4239, 'homem-christo': 4594, 'paranormal': 7402, 'activity': 294, 'near': 6855, 'hour': 4647, 'skeets': 9130, 'mcdonald': 6288, 'canal': 1671, 'fulton': 3810, 'hart': 4369, 'wand': 10708, 'wagner': 10670, 'slow': 9181, 'lastfm': 5566, 'april': 660, '2037': 154, 'brunswick': 1508, 'botanical': 1359, 'garden': 3870, 'knierim': 5398, 'kansas': 5228, 'twelve': 10312, 'green': 4160, 'mellowed': 6368, 'ksi': 5459, 'ę': 11202, 'ga': 3838, 'urodzaju': 10449, 'abigail': 256, 'concentraci': 2229, 'ó': 11196, 'n': 6782, '2012': 129, 'xplorer': 11051, 'battle': 989, 'nerves': 6890, 'law': 5594, 'dreams': 2976, 'low': 5904, 'high': 4510, 'intensity': 4865, 'training': 10161, '1973': 88, 'anything': 629, 'jd': 5033, 'natasha': 6820, 'did': 2784, 'steps': 9470, 'georgia': 3938, 'burkina': 1560, 'picnic': 7613, 'cape': 1696, 'conservation': 2277, 'unit': 10412, 'colder': 2152, 'paraguay': 7400, 'cluster': 2115, 'computing': 2225, 'sherry': 8977, 'concepcion': 2231, 'nunam': 7101, 'iqua': 4898, '1967': 83, 'close': 2102, 'plitt': 7711, 'meeres-nationalpark': 6348, 'insel': 4849, 'bastimentos': 982, 'marilyn': 6156, 'manson': 6112, 'latin': 5574, 'thor': 9957, 'meets': 6352, 'captain': 1705, 'sorry': 9294, 'she': 8958, 'nov': 7073, 'wanna': 10713, 'have': 4396, 'southeastern': 9313, 'brazilian': 1421, 'pub': 7937, 'dominica': 2902, 'reading': 8130, 'should': 9022, 'sell': 8841, 'your': 11109, 'honduras': 4601, 'moody': 6629, 'deloris': 2701, 'ester': 3327, 'petra': 7556, 'alvarez': 488, 'cassidy': 1777, 'aug': 801, 'nineteenth': 6994, 'beda': 1046, 'bulgaria': 1538, 'hi': 4500, 'wild': 10888, 'blood': 1257, '10': 30, 'ep': 3284, '1998': 113, 'mc': 6277, 'frontalot': 3797, 'collectors': 2169, 'within': 10952, 'walking': 10690, 'distance': 2845, 'palau': 7358, 'david': 2616, 'henry': 4467, 'hwang': 4705, 'nicky': 6947, 'jam': 4989, 'regal': 8182, 'group': 4202, 'southern': 9314, 'old': 7180, 'furnace': 3825, 'booking': 1332, 'metropolitan': 6420, 'museum': 6747, 'wizard': 10957, 'kb': 5265, 'maksim': 6047, 'trad': 10152, 'folk': 3672, 'digital': 2799, 'line': 5759, 'infantil': 4816, 'easy': 3068, 'listening': 5780, 'hal': 4272, 'patino': 7447, 'ambiente': 501, 'rnb': 8391, 'tom': 10072, 'cochrane': 2128, 'york': 11101, 'currituck': 2517, 'wildlife': 10894, 'refuge': 8180, 'same': 8630, 'area': 684, 'robert': 8406, 'e': 3050, 'birthday': 1201, 'nhl': 6929, 'wy': 11031, 'lonergan': 5840, 'review': 8289, 'far': 3474, 'east': 3062, 'timor': 10018, 'samoa': 8634, 'sleeping': 9163, 'beauty': 1033, 'cobb': 2124, 'favorite': 3510, 'labyrinthe': 5493, 'cara': 1709, 'dios': 2819, 'beloved': 1089, 'rogues': 8450, 'slimm': 9174, 'cutta': 2529, 'calhoun': 1631, 'sing': 9086, 'car': 1708, 'showcase': 9027, 'straight': 9515, 'way': 10768, 'indian': 4799, '22': 163, 'craters': 2408, 'sac': 8581, 'whats': 10830, 'details': 2748, 'giving': 4015, 'fade': 3430, 'midnight': 6455, 'step': 9465, 'father': 3501, 'rumba': 8539, 'y': 11055, 'haley': 4275, 'scarnato': 8726, 'evangeline': 3356, 'cooper': 2312, 'culture': 2499, 'psychology': 7934, 'lest': 5682, 'forget': 3703, 'while': 10840, 'gate': 3893, 'open': 7230, 'hundred': 4683, 'forty': 3717, 'days': 2627, 'mp': 6707, 'galway': 3851, 'races': 8024, 'changes': 1862, 'love': 5891, 'story': 9511, '1954': 71, 'itunes': 4953, 'diner': 2810, 'oklahoma': 7176, 'kulpsville': 5462, 'togo': 10061, 'patrick': 7451, 'cowley': 2390, 'lance': 5534, 'king': 5366, 'fool': 3685, 'hill': 4521, 'khwaja': 5338, 'ghulam': 3968, 'farid': 3483, 'dubstep': 3010, 'dangles': 2582, 'dirty': 2827, 'perfecto': 7528, 'castro': 1784, 'bermuda': 1113, 'sunrise': 9614, 'melva': 6374, 'heidi': 4442, 'ma': 5965, 'master': 6222, 'craft': 2402, 'wanda': 10709, 'olga': 7186, 'souza': 9321, 'virginia': 10617, 'femme': 3542, 'fatale': 3499, 'crossgenesis': 2459, 'edesville': 3092, 'mn': 6549, 'alison': 439, 'sudol': 9584, 'outpost': 7306, 'somis': 9263, 'fill': 3587, 'yourself': 11110, 'ray': 8117, 'manzarek': 6124, 'snow': 9209, 'type': 10345, 'jain': 4987, 'defenestration': 2679, 'ermintrude': 3303, 'inch': 4785, 'hail': 4267, '11': 36, '36': 182, '48': 195, 'boy': 1385, 'george': 3936, 'solo': 9245, 'piano': 7606, 'back': 877, 'porch': 7769, 'spirituals': 9365, 'hit': 4552, 'remix': 8217, 'traffic': 10154, 'policeman': 7743, 'flex': 3642, 'jackass': 4974, 'investing': 4889, 'scott': 8764, 'stella': 9463, 'todd': 10053, 'snider': 9206, 'electro': 3149, 'latino': 5576, 'muireann': 6720, 'nic': 6933, 'amhlaoibh': 513, 'infernus': 4819, 'marsha': 6182, 'camino': 1658, 'clase': 2059, 'winwood': 10941, 'loyalty': 5908, 'snowfall': 9212, 'alton': 484, 'rejoicing': 8196, 'light': 5728, 'goldy': 4074, 'mcjohn': 6298, 'betrayer': 1139, 'worlds': 11003, 'about': 261, 'towel': 10129, 'background': 878, 'blink': 1244, 'eye': 3410, 'boating': 1281, 'river': 8382, 'epte': 3292, 'spooky': 9372, 'sisters': 9108, 'six': 9116, 'rat': 8104, 'short': 9019, 'trips': 10218, 'treasury': 10189, '1969': 85, 'finsbury': 3609, 'dickinson': 2779, 'theme': 9923, 'mohsen': 6565, 'chavoshi': 1898, 'sweden': 9668, 'oct': 7140, 'fifth': 3577, 'hive': 4560, 'propolis': 7913, 'view': 10590, 'dinosaur': 2816, 'deep': 2672, 'private': 7879, 'affairs': 336, 'bel': 1070, 'ami': 514, 'only': 7219, 'foundation': 3720, 'churrascaria': 2013, 'chips': 1962, 'antoinette': 621, 'eat': 3069, 'oyster': 7326, 'pizzette': 7664, 'duxbury': 3041, '56': 205, 'sun': 9605, 'tabor': 9713, 'seventies': 8901, 'depression': 2723, 'bothwell': 1363, 'lodge': 5821, 'historic': 4549, 'site': 9111, 'swan': 9661, 'available': 827, 'childs': 1944, 'brunei': 1506, 'stone': 9497, 'key': 5319, 'buy': 1593, 'brush': 1509, 'jesper': 5062, 'kyd': 5480, 'electronic': 3151, 'gavin': 3902, 'koppell': 5429, 'movement': 6697, 'full': 3808, 'youtube': 11112, 'jem': 5048, 'godfrey': 4059, 'pledge': 7710, 'allegiance': 450, 'grind': 4187, 'sinfon': 9084, 'í': 11191, 'kebab': 5271, 'connection': 2262, 'boys': 1391, 'gutting': 4237, 'couffignal': 2356, 'growth': 4206, 'fetish': 3559, 'previous': 7854, 'abacab': 240, 'beryl': 1127, 'fridays': 3778, 'corn': 2329, 'relish': 8208, 'gateway': 3896, 'sudden': 9583, 'rainstorm': 8057, 'rattus': 8113, 'roundhouse': 8513, 'funk': 3814, 'untold': 10431, 'trail': 10157, 'yukon': 11121, 'viktor': 10594, 'merjanov': 6399, 'california': 1637, 'portugal': 7786, 'deathsmiles': 2649, 'hurricane': 4694, 'paul': 7460, 'landers': 5536, 'noam': 7013, 'pikelny': 7627, 'iheart': 4746, 'varney': 10508, 'vampire': 10489, 'niko': 6977, 'begums': 1064, 'thugs': 9978, 'mughals': 6718, 'guy': 4238, 'warren': 10736, 'bossa': 1356, 'nova': 7074, 'dinner': 2814, 'cloudy': 2110, 'gobler': 4055, 'jersey': 5060, 'incense': 4784, 'vanity': 10498, 'roscoff': 8491, 'valley': 10483, 'mills': 6487, 'rainbow': 8053, 'eyes': 3411, 'seduced': 8822, 'madness': 6001, 'ejigayehu': 3135, 'shibabaw': 8981, 'nineties': 6995, 'polish': 7745, 'economy': 3083, 'josh': 5137, 'kear': 5267, 'myra': 6770, 'highway': 4517, '61': 210, 'gilmour': 3994, 'toys': 10143, 'ledoux': 5633, 'gratin': 4146, 'mummy': 6729, 'cortelyou': 2340, 'rd': 8123, 'center': 1827, 'window': 10919, 'lunch': 5942, 'sweet': 9671, 'suite': 9597, 'marino': 6160, 'temperature': 9839, 'western': 10822, 'sahara': 8592, 'imax': 4765, 'corporation': 2333, 'addicted': 306, 'willie': 10904, 'dixon': 2863, 'shara': 8944, 'worden': 10989, 'baby': 867, 'given': 4014, 'dust': 3036, 'shadow': 8916, 'if': 4740, 'were': 10813, 'mine': 6496, 'classic': 2063, 'transmission': 10171, 'found': 3719, '1958': 75, 'bleeding': 1237, 'crossover': 2462, 'amii': 516, 'stewart': 9485, 'noel': 7022, 'night': 6961, 'hunter': 4689, 'starting': 9438, 'personality': 7542, 'dipson': 2822, 'class': 2061, 'zion': 11161, 'golan': 4068, 'signed': 9062, 'xoxo': 11050, 'diarios': 2773, 'bicicleta': 1170, 'vega': 10516, 'alta': 477, 'peter': 7552, 'frampton': 3737, 'vi': 10557, 'luxury': 5953, 'liner': 5760, 'free': 3760, 'fries': 3785, 'prince': 7865, 'venice': 10533, 'beach': 1007, 'prestige': 7849, 'sunday': 9608, 'express': 3402, 'gates': 3895, 'fl': 3626, 'ennis': 3266, 'snobs': 9208, 'corinne': 2327, 'tisha': 10032, 'guernsey': 4219, 'top-rated': 10099, 'gf': 3959, 'sondra': 9268, 'university': 10416, 'kiahsville': 5340, 'cayman': 1808, '100': 31, 'october': 7143, 'que': 8002, 'suena': 9585, 'yeager': 11077, 'industrial': 4812, 'sunset': 9616, 'before': 1059, 'premiere': 7835, 'sher': 8971, 'merry': 6403, 'andrew': 559, 'opera': 7232, 'trey': 10203, 'songz': 9273, 'maximilian': 6261, 'mutzke': 6765, 'added': 305, 'acoustic': 284, 'concentration': 2230, 'kevin': 5317, 'cadogan': 1608, 'british': 1467, 'virgin': 10616, 'november': 7080, 'lily': 5742, 'rosemary': 8498, 'jack': 4971, 'hearts': 4428, 'goss': 4097, 'teresa': 9863, 'elnora': 3192, 'fish': 3618, 'thap': 9906, 'lan': 5533, 'pig': 7625, 'scrolls': 8783, 'maybe': 6267, 'sells': 8843, 'steak': 9453, 'marcus': 6144, 'quotations': 8017, 'chairman': 1842, 'mao': 6125, 'tse-tung': 10254, 'republic': 8241, 'move': 6695, 'josiah': 5139, 'leming': 5650, 'te': 9800, 'quiero': 8013, 'somiedo': 9262, 'natural': 6834, 'tasher': 9780, 'desh': 2737, 'agent': 354, 'hamilton': 4304, 'concerns': 2233, 'daughter': 2612, 'channel': 1863, 'formby': 3709, 'jr': 5156, 'favorites': 3511, 'drum': 3000, 'bass': 979, 'boiling': 1296, 'spring': 9385, 'lakes': 5516, 'primate': 7860, 'iron': 4911, 'japan': 5009, 'rimsky-korsakoffee': 8358, 'sanibel': 8654, 'members': 6375, 'beaman': 1011, 'federated': 3525, 'states': 9442, 'micronesia': 6448, 'bronislau': 1483, 'kaper': 5231, 'silver': 9067, 'chalice': 1845, 'jono': 5130, 'ben': 1092, 'glade': 4020, 'twenty-fifth': 10317, '2033': 150, 'origins': 7264, 'consciousness': 2273, '06': 25, '30': 173, '26': 168, 'technical': 9811, 'brutal': 1510, 'death': 2645, 'vertexguy': 10551, 'ballachulish': 915, 'against': 350, 'glukoza': 4047, 'calm': 1645, 'medicine': 6338, 'rocks': 8434, 'may': 6265, 'conspiracy': 2281, 'paper': 7387, 'deserves': 2736, 'solid': 9243, 'cash-cash': 1772, 'seats': 8807, 'ri': 8317, 'internet': 4868, 'curse': 2519, 'oak': 7114, 'cloud': 2109, 'coverage': 2384, 'minami': 6494, 'alps': 473, 'koma': 5423, 'prefectural': 7828, 'act': 289, 'valor': 10484, 'tango': 9755, 'tony': 10089, 'mcguinness': 6295, '90': 226, 'scheudle': 8737, 'fire': 3612, 'agreable': 359, 'cock-a-doodle-doo': 2130, 'was': 10741, 'awful': 846, 'birth': 1200, 'nation': 6825, 'det': 2747, 'kimer': 5359, 'nu': 7090, 'til': 10002, 'julefest': 5170, 'adobe': 324, 'editions': 3101, 'vanessa': 10495, 'peters': 7553, 'cynthia': 2536, 'finds': 3597, 'big': 1175, 'delta': 2703, 'remember': 8212, 'city': 2044, 'nets': 6896, 'jim': 5085, 'diamond': 2766, 'project': 7900, 'shadowchaser': 8917, 'eighteen': 3126, 'shawn': 8955, 'camp': 1660, 'soulful': 9302, 'disco': 2830, 'include': 4788, 'brandon': 1409, 'paris': 7408, 'metalsucks': 6416, 'photographic': 7597, 'newest': 6914, 'charlie': 1883, 'adams': 301, 'hitchita': 4554, 'greatest': 4153, '1972': 87, 'wes': 10817, 'dakus': 2558, 'jun': 5179, 'st': 9404, 'apshawa': 662, 'africa': 341, '1991': 106, 'breakfast': 1427, 'women': 10967, 'classical': 2064, 'p': 7332, 'location': 5816, 'ncaa': 6848, 'college': 2170, 'football': 3688, 'k': 5195, 'amc': 505, 'lullaby': 5937, 'broadway': 1474, 'breathtaking': 1434, 'scattered': 8729, 'bodies': 1290, 'zombie': 11164, 'bums': 1546, 'uranus': 10443, '99': 229, 'coffins': 2143, 'clowns': 2111, 'll': 5802, 'juan': 5158, 'capistrano': 1699, 'bok': 1297, 'preparedness': 7839, '101': 33, 'apocalypse': 641, 'things': 9942, 'post': 7793, 'roy': 8520, 'colt': 2181, 'winchester': 10915, 'theology': 9928, 'possible': 7792, 'moon': 6630, 'metalcore': 6414, 'colorado': 2176, 'meast': 6325, 'indoor': 4811, 'louisiana': 5886, 'august': 804, 'fourth': 3726, 'married': 6177, 'austin': 813, 'liechtenstein': 5719, 'bonnaroo': 1320, 'likely': 5735, 'rush': 8550, 'shawnna': 8957, 'good': 4079, 'tunnel': 10282, 'rats': 8112, 'rhythm': 8315, 'hold': 4575, 'tight': 10000, 'throwback': 9975, 'text': 9894, 'finnish': 3607, 'grammar': 4124, 'henrieville': 4465, 'oman': 7202, 'megaplex': 6355, 'paradise': 7397, 'seven-thirty': 8896, 'retrowave': 8277, 'outrun': 7307, 'sex': 8905, 'tape': 9764, 'finiti': 3603, 'rete': 8272, 'baroque': 961, 'picks': 7612, 'christian': 1994, 'gangsta': 3865, 'rap': 8093, '–': 11207, 'justice': 5193, 'bullet': 1540, 'procession': 7887, 'ants': 625, 'fabio': 3417, 'fm': 3662, 'milligan': 6484, 'ak': 388, 'day': 2624, 'klamath': 5390, 'marsh': 6181, 'cafeteria': 1613, 'deviled': 2758, 'crab': 2395, 'olympia': 7198, '1959': 76, 'chicago': 1929, 'nas': 6812, 'sebastian': 8809, 'assassination': 758, 'jesse': 5064, 'coward': 2388, 'ford': 3692, 'tea': 9801, 'el': 3137, 'salvador': 8625, 'journey': 5145, 'end': 3240, 'pizzeria': 7663, 'kellnersville': 5289, 'outdoor': 7301, 'ask': 752, 'woman': 10966, 'who': 10863, 'knows': 5411, 'cut': 2527, 'rope': 8481, 'conrad': 2271, 'sp': 9324, 'balasubrahmanyam': 908, 'rockabilly': 8423, 'mania': 6098, '14': 44, '2038': 155, 'ninth': 7000, 'avatar': 831, 're': 8124, 'winning': 10936, 'countess': 2363, 'court': 2372, 'denmark': 2718, 'marina': 6158, 'verenikina': 10543, 'writing': 11021, 'hearth': 4427, 'deezer': 2678, 'down': 2950, 'buffalo': 1530, 'nauru': 6837, 'municipal': 6735, 'borough': 1350, 'farnworth': 3488, 'loving': 5903, 'palylist': 7371, 'president': 7845, 'coming': 2196, 'bottom': 1367, 'management': 6077, 'unnaturals': 10422, '13': 40, 'exploring': 3400, 'reef': 8174, 'humour': 4680, 'check': 1904, 'zena': 11151, 'arkansas': 704, 'passover': 7435, 'saint': 8600, 'vincent': 10603, 'grenadines': 4172, 'thursday': 9982, 'palisades': 7361, 'anila': 576, 'mirza': 6524, 'dj': 2864, 'yoda': 11096, 'wolfenberger': 10962, 'janell': 5000, 'funked': 3815, 'stuck': 9554, 'nothing': 7069, 'sax': 8709, 'tropic': 10231, 'orange': 7245, 'halal': 4273, 'guys': 4242, '17': 53, 'hess': 4488, 'biography': 1190, 'dick': 2777, 'marx': 6196, 'mailman': 6030, 'tar': 9767, 'midwest': 6458, 'childhood': 1942, '19': 60, 'funiak': 3813, 'springs': 9386, 'serbia': 8868, 'montenegro': 6614, 'packed': 7338, 'rafters': 8038, 'mar': 6130, 'thirteenth': 9947, '2026': 143, 'joeri': 5106, 'basjmet': 978, 'mister': 6535, 'man': 6074, 'gene': 3919, 'seventh': 8900, 'crystal': 2485, 'lawns': 5596, 'guam': 4212, 'melody': 6371, 'wright': 11017, 'pandora': 7377, 'following': 3678, 'montserrat': 6623, '2024': 141, 'temperate': 9838, 'jan': 4996, '2028': 145, 'cambodian': 1649, 'sky': 9143, 'thornville': 9961, 'spirit': 9363, 'pure': 7967, 'soul': 9300, 'better': 1142, 'holi': 4577, 'real': 8134, 'ultimate': 10371, '80': 220, 'education': 3105, 'experience': 3395, 'toms': 10079, 'concert': 2234, 'oh': 7164, 'yeah': 11078, '1999': 114, 'marche': 6137, 'lorraine': 5867, 'rachael': 8025, 'lampa': 5529, 'fred': 3756, 'knoblock': 5403, 'lo-fi': 5807, 'currently': 2515, 'beatmania': 1026, 'iidx': 4751, 'style': 9569, 'leann': 5614, 'rimes': 8357, 'ne': 6854, 'polymer': 7751, 'chemistry': 1914, 'absolutely': 264, 'positively': 7789, 'lost': 5873, 'planet': 7679, 'earth': 3060, 'chicken': 1935, 'french': 3768, 'september': 8866, 'eastlake': 3064, 'sand': 8641, 'malco': 6051, 'iene': 4739, 'miene': 6459, 'mutte': 6763, '15': 46, 'china': 1955, 'cuney': 2505, 'ball': 914, 'anjo': 581, 'johnson': 5113, 'brooke': 1487, 'fraser': 3751, 'broken': 1481, 'hearted': 4425, 'garage': 3868, 'wave': 10764, 'revival': 8292, 'korea': 5431, 'grandkid': 4132, 'springside': 9387, 'deer': 2674, 'late': 5568, 'ever': 3364, 'farristown': 3491, 'tanzania': 9763, 'chisholm': 1964, 'osteria': 7280, 'gabon': 3840, 'donuts': 2917, 'wish': 10947, 'observations': 7127, 'sichuan': 9046, 'indonesia': 4809, 'worldly': 11002, 'goods': 4085, 'sunshine': 9617, 'reggae': 8184, 'exit': 3387, 'brooklyn': 1489, 'bearsville': 1020, 'theater': 9911, 'ms': 6709, 'fondo': 3680, 'al': 396, 'buio': 1536, 'essentials': 3322, 'angelus': 569, 'don': 2907, 'airey': 377, 'gonna': 4077, 'raise': 8060, 'hell': 4452, 'anti': 614, 'esenciales': 3313, 'kelli': 5288, 'jean': 5034, 'elevenses': 3165, '2014': 131, 'lupe': 5945, 'desert': 2734, 'sessions': 8889, 'rollerdisco': 8454, 'read': 8128, 'ecology': 3079, 'dynasties': 3047, 'chronicles': 2004, 'druss': 3003, 'legend': 5638, 'dave': 2615, 'wyndorf': 11035, 'fall-down': 3456, 'robin': 8410, 'sxsw': 9687, 'fog': 3664, 'lansford': 5549, 'always': 489, 'walter': 10705, 'parazaider': 7403, 'luciano': 5920, 'purple': 7970, 'jennifer': 5053, 'lopez': 5855, 'vibrations': 10564, 'marion': 6162, 'elise': 3174, 'raven': 8115, 'tallgrass': 9744, 'preserve': 7844, 'ussr': 10457, 'other': 7287, 'plays': 7704, 'frontier': 3798, 'marshal': 6183, 'swing': 9677, 'native': 6831, 'us': 10451, 'lavern': 5591, 'baker': 901, 'windhorst': 10918, 'drive': 2993, 'manhunt': 6096, 'torn': 10106, 'apart': 633, 'hands': 4321, 'bushkill': 1579, 'philippe': 7576, 'goncalves': 4075, '170': 54, '190': 61, 'bpm': 1392, 'villa': 10596, 'rose': 8492, 'espa': 3314, 'ñ': 11194, 'ol': 7178, 'lovers': 5898, 'bible': 1168, 'translations': 10170, 'hawaii': 4399, 'pidgin': 7618, 'airy': 381, 'further': 3827, 'adventures': 330, 'joker': 5121, '1990': 105, 'cool': 2308, 'hood': 4610, 'queen': 8004, 'katherine': 5251, 'entitled': 3275, 'shore': 9017, 'club': 2112, 'rainfall': 8054, 'windber': 10917, '365': 183, 'ricky': 8334, 'wilson': 10910, 'spectral': 9348, 'dusk': 3034, 'sheryfa': 8978, 'luna': 5940, 'ny': 7111, 'famous': 3466, 'image': 4762, 'space': 9326, 'aliens': 437, 'hord': 4626, 'twenty-seventh': 10321, 'pelican': 7502, 'blandings': 1229, 'gypsy': 4247, 'holtville': 4589, 'nd': 6851, 'eighties': 3129, 'murphy': 6742, 'shack': 8912, 'rakuen': 8067, 'tsuihou': 10263, 'expelled': 3393, 'jon': 5123, 'mclaughlin': 6304, 'armand': 710, 'van': 10491, 'helden': 4445, 'sabbath': 8576, 'ozzy': 7331, 'missing': 6529, 'clerk': 2084, 'watauga': 10748, 'aunt': 808, 'downtown': 2955, '38': 185, 'mokena': 6569, 'kyrgyzstan': 5483, 'andy': 561, 'commute': 2204, 'variation': 10505, 'animals': 578, 'plants': 7682, 'domestication': 2900, 'mann': 6102, 'cafe': 1612, 'access': 271, 'united': 10414, 'paramount': 7401, 'x': 11042, '37': 184, 'red': 8165, 'room': 8475, 'cunningham': 2506, 'manthra': 6114, 'mothiram': 6677, 'welcome': 10804, 'rileys': 8353, 'alla': 445, 'pougatcheva': 7802, 'mi': 6433, 'pursuit': 7972, 'honor': 4608, 'long': 5842, 'months': 6620, 'dales': 2561, 'surf': 9630, 'turf': 10288, 'distrowatch': 2850, 'lobster': 5812, 'newberg': 6912, 'malaysia': 6049, 'gisela': 4010, 'dancehall': 2574, 'official': 7160, 'bistro': 1207, 'lorna': 5866, 'doone': 2923, 'trance': 10165, 'life': 5724, 'en': 3233, 'sardonic': 8677, 'wrath': 11012, 'spyforce': 9392, 'gwynedd': 4245, 'tn': 10041, 'pickled': 7611, 'cucumber': 2494, 'person': 7540, 'does': 2883, 'reasons': 8142, 'amelia': 507, 'chillier': 1950, 'mali': 6059, 'chief': 1938, 'cook': 2306, 'crew': 2433, 'scheduled': 8733, '47': 194, 'il': 4754, 'ghost': 3964, 'pirates': 7654, 'prediction': 7827, 'acworth': 298, 'remains': 8210, 'boots': 1341, 'bert': 1123, 'mccracken': 6283, 'taverna': 9794, 'daily': 2553, 'lift': 5727, 'eddy': 3090, 'duchin': 3014, 'cake': 1623, 'josephine': 5136, 'wiggs': 10881, 'kickass': 5344, 'morris': 6659, 'ranch': 8082, 'sd': 8784, 'twenty-second': 10320, '2023': 140, 'forrecast': 3711, 'xiang': 11046, 'madden': 5992, 'nfl': 6925, 'louis': 5884, 'nelson': 6880, 'delisle': 2697, 'written': 11023, 'keep': 5276, 'faith': 3448, 'avery': 836, 'shaun': 8952, 'sheep': 8963, 'crouch': 2466, 'polynesia': 7752, 'as': 740, 'sure': 9629, 'allenton': 452, 'christie': 1996, 'trattoria': 10178, 'johnston': 5115, 'gang': 3863, 'mystery': 6776, 'betty': 1146, 'bonn': 1319, 'enfield': 3251, 'rosie': 8503, 'tarte': 9774, 'tatin': 9788, 'perez': 7524, 'prado': 7816, 'friend': 3781, 'holy': 4591, 'saturday': 8693, 'capital': 1700, 'arab': 665, 'emirates': 3217, 'they': 9935, 'serve': 8878, 'pepperoni': 7518, 'dishes': 2838, 'convoy': 2304, 'busters': 1583, 'dome': 2898, 'edinburgh': 3096, 'indocumentado': 4808, 'gaslight': 3888, 'caf': 1610, 'curious': 2512, 'ware': 10723, 'shoals': 9001, 'russian': 8556, 'showings': 9030, 'laundry': 5583, 'deaf': 2635, 'leopold': 5671, 'bhutan': 1165, 'nieces': 6954, 'seafood': 8788, 'cle': 2076, 'elum': 3199, 'ascension': 741, 'sailing': 8597, 'seas': 8801, 'cheese': 1909, 'morrow': 6662, 'smart': 9184, 'kids': 5347, 'catchy': 1792, 'sign': 9059, 'anchor': 548, 'britpop': 1469, 'etc': 3332, 'water': 10752, 'bridge': 1452, 'hariprasad': 4353, 'chaurasia': 1896, 'instrumental': 4856, 'service': 8882, 'feather': 3520, 'loews': 5823, 'cineplex': 2030, 'hocus': 4566, 'bogus': 1294, 'pot': 7797, 'doughnuts': 2944, 'greensburg': 4165, 'elvis': 3201, 'alfredo': 430, 'zitarrosa': 11162, 'indiespain': 4804, 'ik': 4753, 'hou': 4645, 'jou': 5141, 'elena': 3160, 'temnikova': 9837, 'know': 5408, 'ye': 11076, 'agincourt': 356, 'ortiz': 7273, 'fernando': 3549, 'muppet': 6736, 'decades': 2656, 'isham': 4927, 'jones': 5127, 'thousand': 9965, 'lies': 5722, 'bring': 1463, 'town': 10132, 'sandwich': 8649, 'burgh': 1556, 'melancholia': 6361, 'katina': 5254, 'josefina': 5134, 'gray': 4151, 'principle': 7871, 'hope': 4618, 'mellow': 6367, 'bars': 965, 'bachelor': 873, 'pad': 7339, 'guitar': 4226, 'heaven': 4432, 'santana': 8662, 'performs': 7531, 'classics': 2065, 'benedict': 1096, 'winnfield': 10933, 'coti': 2349, 'martin': 6186, '70': 214, 'smash': 9185, 'thomas': 9952, 'hynes': 4710, 'minnesota': 6503, 'severe': 8902, 'mercy': 6392, 'lynn': 5958, 'blossom': 1263, 'tolling': 10070, 'bell': 1081, 'alloway': 459, 'among': 524, 'creative': 2418, 'works': 10999, 'associated': 762, 'caryl': 1765, 'friends': 3783, 'beware': 1152, 'blob': 1247, 'than': 9905, 'ct': 2486, 'waiting': 10678, 'sippie': 9102, 'wallace': 10694, 'knife': 5399, 'robertson': 8409, 'joe': 5103, 'pass': 7430, 'ishmon': 4928, 'bracey': 1395, 'inheritance': 4833, 'loss': 5872, 'perfect': 7525, 'craving': 2409, 'mac': 5972, 'portland': 7781, 'ks': 5458, 'anatomy': 545, 'typeface': 10346, 'police': 7742, 'supercop': 9619, 'silence': 9063, 'lambs': 5525, 'possiable': 7791, 'london': 5836, 'fallen': 3457, 'souvlaki': 9320, 'parade': 7396, 'tommy': 10076, 'beyond': 1155, 'spatial': 9338, 'query': 8006, 'server': 8880, 'english': 3259, 'freakbeat': 3755, 'frankfort': 3746, 'khedive': 5334, 'palace': 7357, 'great': 4152, 'mail': 6029, 'robbery': 8404, 'information': 4829, 'porcupine': 7770, 'mountains': 6688, 'edge': 3093, 'mark': 6167, 'schultz': 8747, 'heart': 4420, 'diary': 2774, 'grant': 4139, 'homicide': 4597, 'killing': 5356, 'streets': 9530, 'oleg': 7185, 'anofriyev': 596, '1960': 77, 'banner': 940, 'post-grunge': 7794, 'ok': 7172, 'legendary': 5639, 'solos': 9247, 'zealand': 11143, 'rebirth': 8147, 'kirk': 5374, 'franklin': 3748, 'fiesta': 3572, 'joshua': 5138, 'radin': 8033, 'futuros': 3834, 'young': 11107, 'maylay': 6271, 'elsmore': 3197, 'luxembourg': 5951, 'equatorial': 3295, 'guinea': 4224, 'francesco': 3740, 'gregori': 4169, 'releases': 8203, 'wells': 10806, 'sings': 9094, 'sur': 9628, 'section': 8820, 'neon': 6884, 'melodious': 6370, 'met': 6410, 'miss': 6528, 'nicole': 6951, 'child': 1940, 'owlet': 7323, 'kuwait': 5476, 'middle': 6453, 'rick': 8333, 'astley': 765, 'sam': 8627, 'sparro': 9335, 'vibes': 10562, 'hardinsburg': 4349, 'md': 6317, 'turks': 10294, 'caicos': 1618, 'mother': 6675, 'plkaying': 7713, 'humidity': 4678, 'nh': 6927, 'money': 6594, 'texas': 9892, 'caribbean': 1725, 'online': 7218, 'kaakai': 5198, 'newspaper': 6919, 'stormy': 9509, 'wildorado': 10895, 'latest': 5572, 'faust': 3507, 'cl': 2049, 'sicos': 9048, 'del': 2688, 'during': 3033, 'meal': 6323, 'apr': 659, 'dough': 2942, 'nuts': 7109, 'pennsylvania': 7514, 'forks': 3707, 'lene': 5656, 'lovich': 5902, 'radar': 8030, 'mh': 6431, 'harkins': 4356, 'twelfth': 10311, 'somalia': 9252, 'lima': 5743, 'romania': 8461, 'twist': 10334, 'tale': 9737, 'played': 7691, 'help': 4456, 'graphics': 4142, 'animation': 580, 'system': 9701, 'professionals': 7891, 'manthan': 6113, 'incorporate': 4791, 'warp': 10733, 'fairy': 3446, 'tales': 9738, 'once': 7211, 'home': 4593, 'caledonia': 1628, 'enamor': 3234, 'ndose': 6853, 'koontz': 5428, 'spain': 9331, 'pauline': 7463, 'fourteen': 3724, 'aioli': 370, 'beast': 1021, 'shouted': 9024, 'air': 372, 'soundscape': 9307, 'masterful': 6223, 'tour': 10124, 'dracula': 2960, 'legacy': 5637, 'preaching': 7824, 'perverted': 7546, 'nusic': 7108, 'garrochales': 3882, 'ludlow': 5930, 'lacuna': 5497, 'carpathian': 1749, 'biosphere': 1193, 'skeptic': 9132, 'das': 2607, 'teuflische': 9891, 'haus': 4394, 'words': 10990, 'use': 10453, 'escape': 3310, 'invitation': 4891, 'waltz': 10707, 'casino': 1774, 'boogie': 1329, 'brownfield': 1500, 'arizona': 702, '97': 228, 'shine': 8986, 'playist': 7697, 'shoot': 9009, 'wheeler': 10833, 'december': 2658, '2019': 136, 'fillmore': 3588, 'concerts': 2236, 'stacy': 9407, 'watson': 10758, 'adriana': 328, 'hallowell': 4290, 'afternoon': 347, 'kegs': 5278, 'drive-in': 2994, 'sarah': 8672, 'teen': 9817, 'princess': 7868, 'swedish': 9669, 'butler': 1587, 'saw': 8707, 'myanmar': 6768, 'inspector': 4852, 'duty': 3040, 'enter': 3269, 'matrix': 6238, 'brenda': 1440, 'starr': 9434, 'frescura': 3770, 'temps': 9844, 'augusta': 805, 'fever': 3562, 'prisoner': 7878, 'zenda': 11152, 'shown': 9031, 'another': 598, 'cleaning': 2078, 'inventions': 4883, 'season': 8803, 'yellow': 11082, 'persecution': 7537, 'jews': 5076, 'europe': 3350, '1933': 64, 'wendell': 10807, 'briarwood': 1448, 'colleagues': 2163, 'servec': 8879, 'quiche': 8010, 'christina': 1997, 'sea': 8786, 'chase': 1889, 'liberalism': 5704, 'limits': 5749, 'forecasted': 3697, 'ninaview': 6991, 'girls': 4009, 'subcontract': 9571, 'cyber': 2531, 'sankertown': 8657, 'jeff': 5043, 'irwin': 4922, 'record': 8158, 'le': 5607, 'renouveau': 8230, 'phish': 7587, 'volume': 10642, 'mouth': 6693, 'predicted': 7826, 'loyalhanna': 5907, 'hagerman': 4261, 'nina': 6990, 'persson': 7544, '1962': 78, 'potje': 7800, 'vet': 10554, 'playlis': 7698, 'shell': 8967, 'umbrian': 10377, 'liang': 5701, 'wern': 10815, 'fook': 3684, 'simplest': 9076, 'port': 7774, 'wentworth': 10812, 'coffeehouse': 2141, 'frank': 3744, 'ferrer': 3552, 'edna': 3104, 'millay': 6478, '1966': 82, 'fleetwood': 3638, 'deli': 2695, 'crofton': 2450, 'ukraine': 10365, 'office': 7159, 'upon': 10438, 'ticket': 9990, 'armik': 714, 'comes': 2193, 'snowstorm': 9215, 'jasmund': 5021, 'case': 1768, 'whitechapel': 10854, 'yacoubian': 11056, 'building': 1534, '39': 186, 'twentieth': 10314, 'roman': 8459, 'indietronic': 4806, 'movietimes': 6700, 'treasures': 10188, 'singles': 9093, 'grey': 4176, 'eagle': 3053, 'fifteenth': 3576, '2030': 147, 'raining': 8056, 'thirty': 9949, 'ion': 4894, 'gobles': 4056, 'canada': 1668, 'stumble': 9563, 'stop': 9502, 'repeat': 8233, 'guyra': 4241, 'again': 349, 'yutaka': 11127, 'ozaki': 7328, 'miles': 6470, 'davis': 2618, 'fragile': 3734, 'frontiers': 3799, 'secret': 8816, 'mumbai': 6728, 'terror': 9878, 'attacks': 790, 'laurelhurst': 5586, 'shinya': 8992, 'yamada': 11060, 'prabha': 7813, 'atre': 786, 'fabri': 3418, 'fibra': 3564, 'congo': 2258, 'belgium': 1073, 'wolfe': 10961, 'gilbert': 3984, 'johnny': 5112, 'cash': 1771, 'columbia': 2183, 'collection': 2166, 'wooly': 10986, 'stage': 9410, 'side': 9049, 'religion': 8206, 'dharma': 2763, 'missouri': 6532, 'expected': 3392, 'horton': 4637, 'connecticut': 2261, 'consolidated': 2279, 'covered': 2385, 'wagon': 10671, 'immortals': 4768, 'suwannee': 9652, 'january': 5008, 'twenty-eighth': 10316, 'kentmore': 5304, 'might': 6461, 'well': 10805, 'placers': 7669, 'eiffel': 3124, 'tower': 10130, 'mythologies': 6779, 'olmitz': 7193, 'plot': 7714, 'archivist': 678, 'palm': 7363, 'glenda': 4035, 'lois': 5828, 'tamra': 9752, 'puglia': 7947, 'niger': 6956, 'wylliesburg': 11034, 'humid': 4677, 'take': 9728, 'socca': 9224, 'steakhouse': 9454, 'alabama': 397, 'sia': 9042, 'furler': 3824, 'cancer': 1674, 'choclair': 1968, 'bso': 1514, 'fear': 3517, 'petit': 7555, 'manan': 6080, 'miami': 6435, 'vice': 10566, 'loyola': 5910, 'gus': 4234, 'stevens': 9481, 'buccaneer': 1518, 'lounge': 5887, 'testifying': 9886, 'donna': 2912, 'tokyo': 10066, 'rising': 8373, 'mickey': 6446, 'mouse': 6691, 'dana': 2570, 'primus': 7864, 'curry': 2518, 'nassau': 6816, 'bay': 998, 'uzbekistan': 10466, 'glacier': 4018, 'tobias': 10047, 'tells': 9834, 'divergent': 2854, 'knife-throwing': 5400, 'scene': 8730, 'hindus': 4531, 'alternative': 481, 'maliau-basin-conservation-area': 6060, 'heath': 4430, 'ledger': 5632, 'his': 4544, 'beautiful': 1032, 'mysterious': 6775, 'botna': 1364, 'children': 1943, 'cargray': 1724, 'argentina': 690, 'shw': 9040, 'twin': 10329, 'husbands': 4699, 'hardesty': 4346, 'hiptronix': 4540, 'polka': 7748, 'medley': 6345, 'palying': 7370, 'diplo': 2820, 'scars': 8728, 'solromar': 9248, 'greek': 4159, 'j': 4968, 'yesudas': 11089, 'discography': 2832, 'shines': 8988, 'compilation': 2212, 'warped': 10735, 'twerkout': 10325, 'greenfoot': 4162, 'quarry': 7998, 'helen': 4447, 'miriam': 6518, 'ghostbusters': 3965, 'acchiappafantasmi': 273, 'bon': 1308, 'bakery': 902, '1995': 110, 'abby': 245, 'kraken': 5441, 'tentacles': 9857, 'rage': 8040, 'main': 6033, 'hendley': 4460, 'centenary': 1826, 'richard': 8327, 'sohl': 9237, 'totally': 10116, 'true': 10242, 'suit': 9594, 'too': 10091, 'cinemark': 2028, '1988': 103, 'sardinian': 8675, 'pidcoke': 7617, 'siavash': 9043, 'ghomayshi': 3963, 'speed': 9351, 'chick': 1934, 'corea': 2324, 'spyro': 9393, 'occasional': 7130, 'wife': 10879, 'riley': 8352, 'rosenberg': 8500, 'oldfield': 7182, 'douglas': 2945, 'company': 2209, 'fold': 3669, 'geir': 3915, 'jenssen': 5056, 'aboriginal': 260, 'folio': 3671, 'leasburg': 5620, 'cherry': 1919, 'form': 3708, 'double': 2940, 'somewhee': 9259, 'hollenberg': 4582, 'garner': 3876, 'foie': 3668, 'gras': 4143, 'halloween': 4289, 'northern': 7054, 'mariana': 6152, 'urban': 10444, 'poet': 7730, 'christianity': 1995, 'educational': 3106, 'psychologist': 7933, 'catahoula': 1787, 'mopreme': 6639, 'shakur': 8930, '¡': 11177, 'gift': 3981, 'imagination': 4763, 'erotic': 3305, 'property': 7909, 'council': 2359, 'dads': 2548, 'krizz': 5449, 'kaliko': 5210, 'cass': 1775, 'elliot': 3186, 'sparks': 9334, 'langdon': 5544, '1975': 90, 'accommodate': 277, 'gretchen': 4174, 'trisha': 10219, 'amber': 499, 'pastelaria': 7438, 'dish': 2837, 'sync': 9694, 'noses': 7059, 'toast': 10044, 'profile': 7893, 'id': 4729, 'g': 3836, 'cracking': 2399, 'contraptions': 2295, 'randy': 8086, 'travis': 10185, 'dark': 2593, 'ghosts': 3967, 'clinchco': 2092, 'transatlantic': 10167, 'sharlene': 8948, 'napoleon': 6805, 'xiv': 11049, 'aion': 371, 'justin': 5194, 'mcroberts': 6315, 'chopin': 1981, 'signe': 9061, 'anderson': 552, 'hadar': 4253, 'jboss': 5032, 'enterprise': 3270, 'soa': 9219, 'platform': 7683, 'dominican': 2903, 'titanic': 10033, 'goes': 4064, 'walden': 10686, 'russia': 8555, '2018': 135, 'intruders': 4878, 'mr': 6708, 'medeiros': 6334, 'plau': 7687, 'chef': 1910, 'dream': 2975, '2027': 144, 'ngola': 6926, 'ritmos': 8380, 'top-ten': 10100, 'sudan': 9582, 'orchard': 7247, 'maakii': 5966, 'afterwork': 348, 'cityzen': 2045, 'sparrow': 9336, 'slick': 9171, 'weed': 10791, 'tree': 10192, 'poems': 7729, 'ayumi': 857, 'hamasaki': 4297, 'countdown': 2361, '2007': 124, 'anniversary': 592, 'manos': 6107, 'hatzidakis': 4390, 'los': 5868, 'deweese': 2761, 'word': 10988, 'harmar': 4359, 'heights': 4443, 'sherri': 8975, 'lords': 5861, 'joel': 5104, 'hastings': 4384, 'funtwo': 3820, 'kakko': 5208, 'poverty': 7804, 'nobility': 7014, 'mt': 6711, 'maisonette': 6037, 'folklore': 3674, 'zambia': 11138, 'send': 8853, 'ann': 583, 'lists': 5782, 'sir': 9103, 'john': 5110, 'winston': 10938, 'ono': 7220, 'lennon': 5659, 'her': 4468, 'infinite': 4822, 'acapella': 270, 'lowest': 5906, 'price': 7856, 'sinatra': 9081, 'reprise': 8239, 'very': 10553, 'wi': 10868, 'conduct': 2243, 'unbecoming': 10385, 'recovery': 8162, 'smoking': 9197, 'creola': 2427, 'unleashed': 10419, 'entfesselt': 3273, 'angry': 573, 'men': 6381, 'phoebe': 7591, '25': 166, 'dc': 2629, 'bill': 1181, 'evans': 3357, '\"': 5, 'mixes': 6541, 'watsons': 10759, 'joelia': 5105, 'savitsjeva': 8705, '88': 224, 'keys': 5322, 'fires': 3615, 'third': 9945, 'netherlands': 6894, 'novedades': 7075, 'luck': 5924, 'noon': 7038, 'vaughn': 10514, 'wakarusa': 10680, 'gods': 4062, 'pawns': 7472, 'gristak': 4190, 'final': 3594, 'boma': 1300, 'epic': 3285, 'monster': 6609, 'mash': 6211, 'boo': 1327, 'winnie': 10934, 'pooh': 7757, 'wwe': 11029, 'legends': 5640, 'wrestlemania': 11015, 'ky': 5479, '2036': 153, 'entire': 3274, 'manufacturing': 6121, 'consent': 2274, 'statham': 9443, 'decoration': 2665, 'houses': 4651, 'ufc': 10360, '2011': 128, 'rare': 8100, 'birds': 1197, 'crown': 2469, 'whitebrook': 10853, 'solomon': 9246, 'dec': 2654, 'twenty-third': 10323, '2029': 146, 'sonu': 9286, 'niigaam': 6972, 'giant': 3972, 'devil': 2757, 'dingo': 2813, 'mansion': 6111, 'prodigal': 7888, 'samurai': 8637, 'volver': 10644, 'hokendauqua': 4573, 'mongolia': 6595, 'gotye': 4105, 'learning': 5619, 'behavior': 1065, 'skin': 9138, 'bone': 1314, 'jess': 5063, 'split': 9368, 'difference': 2792, 'lit': 5783, 'soft': 9234, 'myth': 6778, 'soulblighter': 9301, 'luxor': 5952, 'arthur': 736, 'nastya': 6817, 'kamenskih': 5216, 'mashed': 6212, 'pumpkin': 7955, 'abel': 253, 'nchez': 6849, 'passion': 7434, 'norway': 7057, 'together': 10060, 'mcguigan': 6294, 'round': 8512, 'tbe': 9798, 'federico': 3526, 'albert': 409, 'gay': 3903, 'male': 6057, 'pornography': 7772, 'issue': 4941, 'discrimination': 2836, 'brass': 1414, 'rail': 8049, 'booked': 1331, 'fourteenth': 3725, 'bg': 1158, 'knocc': 5404, 'rapcaviar': 8094, 'tavern': 9793, 'common': 2201, 'odeon': 7147, 'hillary': 4522, 'dina': 2808, 'chavez': 1897, 'alexis': 427, 'croatia': 2447, 'chymical': 2015, 'wedding': 10787, 'worth': 11006, 'happy': 4334, 'iii': 4752, 'delaware': 2691, 'bertine': 1125, 'zetlitz': 11156, 'manassa': 6081, 'pacific': 7336, 'ours': 7297, 'kamen': 5215, 'rider': 8339, 'ooo': 7224, 'wonderful': 10970, 'shogun': 9004, 'core': 2323, 'medals': 6333, 'streaming': 9527, 'anywhere': 630, 'incite': 4787, 'mill': 6476, 'coast': 2120, 'brackets': 1396, 'zen': 11150, 'katz': 5255, 'williams': 10902, 'practical': 7814, 'tartine': 9775, 'mississippi': 6531, 'sacred': 8583, 'overload': 7315, 'mikazuki': 6465, 'diana': 2769, 'herself': 4485, 'average': 835, 'fro': 3792, 'willa': 10899, 'panama': 7375, 'asha': 743, 'bhosle': 1163, '1964': 80, 'trifecta': 10209, 'pete': 7551, 'murray': 6743, 'relaxing': 8200, 'wallis': 10697, 'futuna': 3832, 'return': 8278, 'whistler': 10847, '03': 22, '01': 20, 'crow': 2467, 'motion': 6679, 'jonny': 5129, 'buckland': 1520, 'weekly': 10796, 'buzz': 1594, 'alexander': 422, '1981': 96, 'human': 4675, 'being': 1069, 'died': 2788, 'agnew': 357, 'ufo': 10361, 'senshi': 8860, 'dai': 2552, 'apolon': 644, 'warfare': 10725, 'piskies': 7655, 'cornish': 2331, 'butch': 1585, 'trucks': 10241, 'mezes': 6427, 'monkey': 6603, 'made': 5993, 'stevie': 9482, 'crye': 2483, 'thing': 9941, 'sale': 8612, 'creek': 2426, 'hopes': 4621, 'blind': 1242, 'alley': 457, 'thesis': 9934, 'eleven': 3164, 'priscilla': 7876, 'ballet': 920, 'organ': 7255, 'pipe': 7648, 'cactus': 1604, 'monument': 6626, 'twink': 10330, 'jiro': 5091, 'caucasian': 1798, 'pierre': 7622, 'miquelon': 6513, 'call': 1640, 'koshimizu': 5435, 'heavy': 4435, 'frankie': 3747, 'laine': 5511, 'seat': 8805, 'coleslaw': 2154, '44': 192, '58': 206, 'nathan': 6823, 'wise': 10946, 'wandering': 10711, 'detective': 2749, 'harbor': 4338, 'ballads': 917, 'app': 647, 'geraldine': 3941, 'ireland': 4905, 'prayer': 7821, 'leroi': 5676, 'moore': 6634, 'chance': 1857, 'lifetime': 5726, 'travelling': 10182, 'gahan': 3846, 'wipers': 10942, 'gary': 3885, 'conner': 2264, 'wilco': 10886, 'die': 2787, 'armistead': 715, 'burwell': 1574, 'smith': 9192, 'iv': 4955, 'masters': 6226, 'timeless': 10010, 'viderunt': 10584, 'omnes': 7205, 'stonewood': 9499, 'shout': 9023, 'calakmul': 1625, 'izuna': 4967, 'unemployed': 10404, 'ninja': 6999, 'returns': 8280, 'lamp': 5528, 'atticus': 793, 'ross': 8505, 'electrosafari': 3155, 'detroit': 2750, 'district': 2848, 'spine': 9360, 'surfs': 9633, 'alone': 467, 'funny': 3818, 'cheerful': 1907, 'ladies': 5499, 'ava': 826, 'leigh': 5646, 'grime': 4186, 'instrumentals': 4857, 'lie': 5718, 'wondering': 10971, 'beating': 1024, 'uruguay': 10450, 'roxbox': 8518, 'izquierdo': 4966, 'masayoshi': 6206, 'yamazaki': 11064, 'fabulosos': 3420, 'cadillacs': 1607, 'creatures': 2423, 'darkness': 2596, 'citrus': 2043, 'doctor': 2875, 'eleventh': 3166, 'hickerson': 4502, 'crossings': 2461, 'gn': 4049, 'stand': 9421, 'complex': 2217, 'trip': 10214, 'entity': 3276, 'unwelcome': 10432, 'orbison': 7246, 'deathlord': 2647, 'ixia': 4964, 'say': 8712, 'morgan': 6647, 'monroe': 6607, 'forest': 3700, 'lebanese': 5626, 'cinnaminson': 2031, '59': 207, 'taste': 9782, 'pinson': 7644, 'rosanne': 8487, 'riverfront': 8384, 'lil': 5736, 'armstrong': 718, 'adrenaline': 326, 'doris': 2929, 'tulsa': 10276, 'rim': 8356, '2005': 122, 'top-five': 10098, '2004': 121, 'berlin': 1112, 'samba': 8629, 'natchaug': 6822, 'think': 9943, 'sonya': 9287, 'rebekah': 8145, 'latvia': 5579, 'confirm': 2253, 'albertson': 411, 'deception': 2659, 'gibbs': 3975, 'jag': 4984, 'vill': 10595, 'leva': 5690, 'europa': 3349, 'porta': 7775, 'vanishing': 10497, 'thieves': 9939, 'toyan': 10141, 'scratchy': 8770, 'kepler': 5308, 'scientific': 8754, 'workflow': 10994, 'nuestros': 7096, 'chill': 1947, 'lari': 5557, 'gracin': 4114, 'jungle': 5184, 'autobiography': 819, 'alice': 435, 'toklas': 10065, 'rombola': 8464, 'viernes': 10588, 'sudam': 9581, 'rica': 8323, 'brothel': 1494, 'maldives': 6056, 'sentenced': 8862, 'prism': 7877, 'greece': 4158, 'warheart': 10727, 'melcher-dallas': 6365, 'manitou': 6101, 'clem': 2080, 'burke': 1558, 'atmospheric': 782, 'liberation': 5705, 'rak': 8065, 'biszewilo': 1208, 'ginestrata': 3998, 'screened': 8776, 'org': 7254, 'nica': 6934, 'troy': 10239, 'andrews': 560, 'powerhouses': 7809, 'campanian': 1663, 'todo': 10055, 'edm': 3103, 'methuen': 6419, 'uganda': 10362, 'tarzan': 9778, 'apes': 637, 'eliza': 3177, 'carthy': 1761, 'walpole': 10702, 'gas': 3886, 'wars': 10739, 'stops': 9504, 'arclight': 680, 'hollywood': 4586, 'enid': 3262, 'rom': 8457, 'ntica': 7088, 'lisa': 5776, 'ouzeri': 7311, 'klondike': 5394, 'gold': 4070, 'historical': 4550, 'february': 3524, '28': 170, 'acid': 282, 'trace': 10145, 'adkins': 318, 'benjamin': 1100, 'kowalewicz': 5438, 'boom': 1333, 'bust': 1581, 'haruka': 4370, 'shimotsuki': 8985, 'journals': 5144, 'bienville': 1174, 'pioneer': 7646, 'loup': 5888, 'lesotho': 5679, 'kisaki': 5378, 'dragon': 2963, 'seagoville': 8789, '42': 190, 'ruwanga': 8563, 'samath': 8628, 'electric': 3147, 'station': 9444, 'paula': 7461, 'abdul': 252, 'ali': 433, 'lohan': 5827, 'cathedral': 1794, 'grass': 4144, 'beats': 1029, 'mansfield': 6110, 'thailand': 9902, 'lopeno': 5854, 'williamsport': 10903, 'toad': 10043, '1983': 98, 'airi': 378, 'suzuki': 9654, 'nuclear': 7093, 'blast': 1232, 'novelties': 7079, 'cotton': 2351, 'harlem': 4357, 'tortelloni': 10109, 'moving': 6701, 'blobby': 1248, 'penelopiad': 7509, 'udupi': 10356, 'challenge': 1847, 'program': 7896, 'abyss': 267, 'kerasotes': 5309, 'shores': 9018, 'ariston': 701, 'barry': 964, 'mcguire': 6296, 'laugh': 5581, 'tequesta': 9861, 'playlists': 7700, 'costa': 2344, 'angeline': 565, 'anna': 584, 'vissi': 10626, 'thirteen': 9946, 'doch': 2873, 'ū': 11206, '-k': 12, 'ō': 11204, 'tsu': 10261, 'kokhanok': 5419, 'fried': 3779, 'mccoll': 6281, 'ia': 4717, 'bellamy': 1082, 'contributed': 2297, 'setting': 8892, 'bears': 1019, 'mode': 6557, 'warrior': 10737, 'obama': 7123, 'syndrome': 9696, 'minestrone': 6500, 'chamberlain': 1851, 'waits': 10679, 'glass': 4029, 'chin': 1954, '32': 177, 'hey': 4498, 'johnnie': 5111, 'cope': 2315, 'waking': 10685, 'irma': 4910, 'repose': 8238, 'woodruff': 10981, 'symphonic': 9691, 'dr': 2959, 'purchase': 7965, 'scales': 8715, 'czech': 2541, 'cuisine': 2495, 'eighth': 3128, 'divided': 2855, 'paparizou': 7386, 'helix': 4451, 'brokeback': 1480, 'copy': 2318, 'deal': 2636, 'ohio': 7166, 'magical': 6013, 'lyrical': 5961, 'nanoha': 6802, 'strikers': 9536, 'michael': 6436, 'fat': 3498, 'stupid': 9566, 'swords': 9685, 'teenage': 9818, 'mutant': 6760, 'hero': 4480, 'turtles': 10302, 'fall': 3455, 'foot': 3687, 'clan': 2052, 'lets': 5687, 'goiano': 4066, 'pr': 7812, 'virtue': 10620, 'moravian': 6643, 'falls': 3460, 'angelo': 567, 'batio': 985, 'chaw': 1899, 'bach': 870, 'krondor': 5450, 'eighteenth': 3127, 'puerto': 7944, 'rico': 8335, 'mattawan': 6241, 'barth': 967, 'lemy': 5654, 'stephen': 9467, 'mcnally': 6309, 'confidence': 2251, 'boost': 1339, 'tortured': 10112, 'ealing': 3054, 'dawood': 2623, 'sarkhosh': 8679, 'their': 9918, 'billion': 1183, 'arms': 717, 'enough': 3267, 'tawakoni': 9795, 'emerald': 3209, 'carmichaels': 1737, 'seabrook': 8787, 'slovakia': 9179, 'brigitte': 1460, 'taylor': 9796, 'katelyn': 5249, 'natalie': 6819, 'beaver': 1034, 'bock': 1288, 'mirrorshades': 6523, 'benton': 1105, 'libby': 5703, 'michelle': 6440, 'yeoh': 11085, 'christopher': 2000, 'lawrence': 5597, 'bryan': 1511, 'maclean': 5985, 'global': 4040, 'underground': 10399, '006': 18, 'sydney': 9688, 'millennium': 6479, 'directive': 2825, '51': 200, 'mezzes': 6428, 'iowa': 4896, 'photoscape': 7598, 'holladay': 4581, 'kitts': 5386, 'nevis': 6910, 'weathr': 10780, 'akin': 394, 'jamaica': 4990, 'watchman': 10751, 'vadivel': 10472, 'mom': 6578, 'gave': 3901, 'luisa': 5933, 'jump': 5178, 'davies': 2617, 'stuart': 9552, 'donaldson': 2908, 'canadian': 1669, 'patagonia': 7442, 'musical': 6751, 'vatican': 10512, 'samuel': 8636, 'tyne': 10342, 'musica': 6750, 'ola': 7179, 'comedy': 2190, 'israel': 4940, 'guard': 4214, 'denali': 2715, 'meadowood': 6321, 'armenia': 712, 'enemies': 3248, 'beltsville': 1090, 'fei': 3533, 'yu': 11114, 'ching': 1958, 'revolution': 8295, 'pugu': 7948, 'eef': 3111, 'barzelay': 970, 'epstein': 3291, 'rev-raptor': 8282, 'nationalpark': 6829, 'doi': 2888, 'suthep-pui': 9647, 'suitcase': 9596, 'kernersville': 5312, 'chas': 1888, 'chandler': 1858, 'aux': 822, 'cord': 2320, 'privileges': 7880, 'casa': 1766, 'amor': 525, 'exclusive': 3380, 'hamorton': 4310, 'used': 10454, 'dara': 2590, 'morse': 6663, 'songlines': 9271, 'vietnam': 10589, 'noblesville': 7016, 'bison': 1205, 'matt': 6240, 'walker': 10689, 'grandes': 4130, 'unplugged': 10424, 'kim': 5357, 'wilde': 10890, 'para': 7393, 'dormir': 2931, 'kristina': 5447, 'wolves': 10965, 'dogs': 2886, 'choper': 1980, 'coffee': 2140, 'gilson': 3995, 'political': 7746, 'harry': 4367, 'chapin': 1872, 'stress': 9533, 'relief': 8205, 'jasmine': 5020, 'jeannie': 5039, 'leta': 5684, 'hefner': 4441, 'unauthorized': 10384, 'yonder': 11100, 'orleans': 7266, 'profane': 7889, 'co': 2116, 'connie': 2266, 'francis': 3741, 'spanish': 9333, 'yukiko': 11120, 'iwai': 4961, 'jukebox': 5167, 'kurdishmedia': 5468, 'com': 2186, 'seeley': 8831, 'spy': 9391, 'target': 9769, 'chasity': 1891, 'ruiz': 8534, 'duck': 3015, 'kaaawa': 5197, 'manning': 6104, 'nigger': 6959, 'kojak': 5418, 'por': 7767, 'tu': 10268, 'maldito': 6055, 'orgullo': 7257, 'kewanee': 5318, 'seventeen': 8898, 'tioga': 10025, 'soonchild': 9289, 'nebraska': 6859, 'link': 5765, 'copper': 2316, 'hardstyle': 4350, 'marshall': 6184, 'rise': 8372, 'infidels': 4821, 'dukes': 3022, 'mcgee': 6291, 'sweeney': 9670, 'cole': 2153, 'roselle': 8497, 'cia': 2016, 'factbook': 3426, 'pigs': 7626, 'blankets': 1230, 'bodyguard': 1292, 'nil': 6981, 'burak': 1552, 'od': 7144, 'golden': 4071, 'until': 10430, 'everybody': 3369, 'wants': 10718, 'cuban': 2491, 'horatio': 4625, 'calpella': 1646, 'mandrake': 6087, 'came': 1652, 'film': 3589, 'regis': 8187, 'halfway': 4280, 'kick': 5343, 'over': 7313, 'traces': 10146, 'ferry': 3554, 'corsten': 2339, 'salmonella': 8619, 'dub': 3007, 'dvd': 3042, 'mario': 6161, 'rubalcaba': 8524, 'clinton': 2095, 'baking': 903, 'punta': 7961, 'gorda': 4090, 'eastern': 3063, 'shake': 8926, 'powder': 7806, 'puff': 7945, 'foreast': 3694, 'nimba': 6986, 'strict': 9534, 'mccready': 6285, 'cherwell': 1922, 'boathouse': 1280, 'adam': 300, 'deibert': 2684, 'frayser': 3752, 'nubians': 7092, 'plutonia': 7717, 'glenn': 4036, 'stetson': 9477, 'routine': 8515, 'fine': 3598, 'worms': 11004, 'shadows': 8919, 'alive': 441, 'lock': 5818, 'fantasy': 3473, 'zone': 11167, 'tears': 9810, 'opa-opa': 7228, 'penuelas': 7516, 'schenker': 8736, 'ina': 4781, 'emre': 3232, 'aydin': 852, 'todays': 10052, 'pulse': 7951, 'afterlife': 346, 'cashel': 1773, 'hall': 4285, 'antilles': 619, 'chuckys': 2009, 'noxubee': 7083, 'belhaven': 1074, 'sonning': 9276, 'alain': 398, 'caron': 1747, 'heroes': 4481, 'annihilated': 590, 'empires': 3229, 'utah': 10459, 'ground': 4199, 'bowling': 1381, 'zamiast': 11140, 'burzy': 1576, 'phunkadelic': 7602, 'duchess': 3013, 'langeais': 5545, 'shasha': 8949, '43': 191, 'hiphop': 4535, 'leah': 5612, 'kauffman': 5256, 'uncharted': 10390, 'drake': 2966, 'shamus': 8937, 'trinidad': 10213, 'tobago': 10046, 'chasing': 1890, 'fortune': 3715, 'ironbound': 4912, 'crafty': 2404, 'holidays': 4579, 'yarra': 11074, 'doors': 2926, 'perception': 7521, 'alaska': 404, 'nineteen': 6993, 'maid': 6025, 'amsterdam': 531, 'takei': 9729, 'marty': 6191, 'friedman': 3780, 'sugarolly': 9590, 'slaughterhouse': 9157, 'development': 2754, 'perspectives': 7543, 'yearbook': 11080, 'moustapha': 6692, 'amar': 496, 'hangtown': 4323, 'fry': 3803, 'jagual': 4985, 'giovanni': 4005, 'giacomo': 3970, 'gastoldi': 3890, 'newburyport': 6913, 'ocean': 7132, 'breeze': 1438, 'maschi': 6207, 'altri': 485, 'phnom': 7589, 'sankos': 8659, 'sanctuary': 8640, 'kabhi': 5200, 'jo': 5094, 'baadal': 863, 'barse': 966, 'ruth': 8560, 'lorenzo': 5864, 'waar': 10660, 'zon': 11166, 'bread': 1423, 'beer': 1056, 'annunzio': 594, 'paolo': 7384, 'mantovani': 6116, 'walk': 10688, 'shattered': 8950, 'papua': 7392, 'shooby': 9008, 'tearing': 9809, 'charts': 1887, 'octagon': 7141, 'christchurch': 1993, 'allentown': 453, 'bonnie': 1324, 'evolution': 3377, 'joey': 5107, 'ramone': 8078, 'civil': 2046, 'dragons': 2964, 'vanished': 10496, 'connee': 2263, 'boswell': 1358, 'phil': 7574, 'ochs': 7137, 'trabajo': 10144, 'relax': 8198, 'giants': 3973, 'frost': 3800, 'ramesh': 8075, 'narayan': 6807, 'kouglof': 5437, 'incident': 4786, 'cleveland': 2086, 'snowball': 9210, 'kaira': 5206, 'kwong': 5477, 'rudolf': 8526, 'takahito': 9727, 'eguchi': 3120, 'guest': 4220, 'polygon': 7750, 'ape-man': 636, 'howard': 4656, 'levy': 5693, 'amusements': 533, 'manxman': 6122, 'philippines': 7577, 'humphrey': 4681, 'sad': 8585, 'mediterranean': 6344, 'confederate': 2249, 'memorial': 6378, 'grove': 4203, 'flesh': 3640, 'treatment': 10191, 'brightman': 1459, '33': 178, 'wake': 10681, 'mjr': 6548, 'butcher': 1586, 'vera': 10536, 'session': 8888, 'matriarchal': 6236, 'prehistory': 7833, 'teitur': 9827, 'lassen': 5564, 'sonata': 9267, 'cin': 2022, 'demi-gods': 2705, 'semi-devils': 8850, 'mahalakshmi': 6018, 'iyer': 4965, 'wildreservaat': 10896, 'ithala': 4949, 'future': 3833, 'bahar': 895, 'kizil': 5387, 'scoop': 8756, '1974': 89, 'teahouse': 9806, 'chichi': 1933, 'focus': 3663, 'fifty': 3579, 'trapper': 10176, 'peru': 7545, 'bolivia': 1298, 'doyle': 2957, 'hostel': 4639, 'lolo': 5833, 'cum': 2502, 'noize': 7027, 'faer': 3432, 'û': 11201, 'nankin': 6801, 'fr': 3731, 'cheryl': 1923, 'stairs': 9414, 'cropper': 2454, 'timbo': 10008, 'taken': 9730, 'flood': 3649, 'brubeck': 1502, 'å': 11184, 'land': 5535, 'brave': 1418, 'shelby': 8966, 'lynne': 5959, 'cavalero': 1800, 'corner': 2330, 'charles': 1881, 'modern': 6559, 'cter': 2487, 'jaula': 5023, 'oro': 7268, 'iheartradio': 4747, 'just': 5192, 'born': 1349, 'bayou': 1000, 'kudai': 5460, 'slice': 9170, 'oakdale': 7115, 'top-twenty': 10101, 'masaharu': 6203, 'reggaeton': 8185, 'super': 9618, 'scription': 8781, 'data': 2608, 'pickens': 7610, 'interview': 4869, 'documentary': 2878, 'heroquest': 4483, 'sorasil': 9291, 'freddy': 3758, 'fender': 3543, '2006': 123, 'hohenfriedberger': 4572, 'marsch': 6180, 'cookie': 2307, 'cream': 2413, 'sophisticated': 9290, 'helena': 4448, 'iren': 4906, 'michaelsen': 6437, 'offroad': 7161, 'maro': 6175, 'kirsten': 5376, 'orlovista': 7267, 'midday': 6452, 'annet': 587, 'artani': 735, 'wed': 10786, 'athol': 776, 'papa': 7385, 'bue': 1529, 'xitos': 11048, 'layne': 5603, 'staley': 9416, 'twenty-fourth': 10319, 'diego': 2789, 'scratch': 8769, 'lavalette': 5589, 'hanna': 4326, 'sjedokowa': 9124, 'van-pires': 10492, 'dmitry': 2866, 'malikov': 6063, 'lafaro': 5502, 'completely': 2216, 'robot': 8413, 'author': 817, 'silvers': 9069, 'vermicelli': 10544, 'flight': 3645, 'recreation': 8163, 'mourner': 6690, 'sizzles': 9123, 'bunker': 1549, 'ä': 11183, 'tzle': 10351, 'monaco': 6586, 'bombshells': 1307, 'download': 2953, 'input': 4846, 'adassa': 303, 'face': 3422, 'truth': 10249, 'denationalization': 2716, 'partners': 7424, 'crime': 2436, 'edition': 3100, 'hyun-joong': 4714, 'update': 10437, 'manhattan': 6095, 'webb': 10782, 'hickory': 4504, 'ridiculous': 8344, 'boss': 1355, 'glassy': 4030, 'junction': 5180, 'turkey': 10291, 'parent': 7406, 'trap': 10172, 'hawaiian': 4400, 'honeymoon': 4604, 'totality': 10115, 'skatepark': 9129, 'punks': 7960, 'inquiry': 4847, 'kindness': 5365, 'extreme': 3407, 'garrison': 3880, 'unicorn': 10408, 'rates': 8107, 'jonas': 5125, 'hornersville': 4631, 'reno': 8229, 'hogs': 4571, 'povel': 7803, 'ramel': 8074, 'wolin': 10963, 'bottles': 1366, 'selected': 8834, 'letters': 5688, 'h': 4249, 'lovecraft': 5892, 'walt': 10704, 'yiddish': 11091, 'remembered': 8213, 'cyborg': 2532, 'jacob': 4980, 'miller': 6480, 'hardcore': 4342, 'emily': 3215, 'remler': 8219, 'bluegrass': 1266, 'ronnie': 8472, 'wood': 10976, 'wall': 10692, 'records': 8161, 'still': 9487, 'bones': 1316, 'glimpses': 4038, 'marcie': 6143, 'clink': 2093, 'senegal': 8854, 'amir': 518, 'khan': 5329, 'necessary': 6860, 'mettawa': 6421, 'vernon': 10547, 'affair': 335, 'tyrant': 10348, 'seek': 8830, 'destroy': 2744, 'sin': 9080, 'ti': 9985, 'pavo': 7470, 'dustin': 3037, 'viajes': 10560, 'mustard': 6756, 'seed': 8826, 'dalcour': 2559, 'hamelin': 4303, 'cabbage': 1600, 'keiji': 5279, 'haino': 4269, 'oj': 7169, 'jelena': 5047, 'jabuka': 4969, 'zelena': 11149, 'ler': 5675, 'lalonde': 5519, 'socialism': 9227, 'terje': 9866, 'bakken': 904, 'angeles': 564, 'baltic': 923, 'could': 2358, 'approach': 658, 'township': 10137, 'idols': 4737, 'william': 10901, 'ide': 4732, 'relaxations': 8199, 'spiderman': 9359, 'rings': 8365, 'horace': 4624, 'messengers': 6409, 'soultaker': 9304, 'france': 3739, 'winchell': 10914, 'prophecy': 7910, 'pontypool': 7756, 'everything': 3371, 'beethoven': 1058, 'patricia': 7450, 'sholes': 9005, 'teaching': 9804, 'different': 2794, 'slanguages': 9152, 'labour': 5490, 'knew': 5397, 'knight': 5401, 'trottole': 10234, 'max': 6258, 'richter': 8332, 'rosana': 8485, 'baila': 897, 'fogata': 3665, 'courts': 2375, 'papoose': 7390, 'fennesz': 3544, 'wrote': 11025, 'restaurnt': 8266, 'loogootee': 5847, 'ut': 10458, 'angels': 568, 'wauregan': 10761, 'ron': 8469, 'grainer': 4121, 'landing': 5537, 'tide': 9992, 'graduate': 4115, 'sha': 8910, 'miranda': 6517, 'lambert': 5522, 'souls': 9303, 'notes': 7067, 'meltdown': 6373, 'destruction': 2745, '131': 41, 'atanassow-see': 773, 'krista': 5446, 'yolanda': 11099, 'performance': 7529, 'horse': 4634, 'howards': 4657, 'rave': 8114, 'uncommon': 10392, 'grounds': 4201, 'skip': 9139, 'qbert': 7991, 'thorogood': 9962, 'hanksville': 4325, 'temptation': 9845, 'robotix': 8415, 'burundi': 1573, 'breasts': 1431, 'wide': 10872, 'hips': 4538, 'terrible': 9874, 'ad': 299, 'nauseam': 6838, 'engine': 3256, 'leoti': 5672, 'shmini': 9000, 'atzeret': 796, 'sunny': 9612, 'patty': 7459, 'talks': 9742, 'kreator': 5442, 'penalty': 7505, 'adaptive': 302, 'coloration': 2177, 'ã': 11182, 'ncipe': 6850, 'pulaski': 7949, 'australia': 814, '1989': 104, 'pirate': 7653, 'kind': 5362, 'charlotte': 1884, 'charenton': 1878, 'swat': 9665, 'force': 3691, 'hasan': 4378, 'saltik': 8623, 'johan': 5108, 'larsson': 5561, 'travelers': 10181, 'sixteen': 9118, 'infinity': 4824, 'general': 3921, 'tahquamenon': 9718, 'lehigh': 5644, 'heritage': 4476, 'corridor': 2336, '2021': 138, 'jamie': 4994, 't': 9707, 'hallie': 4288, 'borrowed': 1352, 'stacey': 9406, 'bruce': 1503, 'lane': 5541, 'moved': 6696, 'cena': 1823, 'con': 2227, 'amigos': 515, 'nighthawk': 6965, 'hole': 4576, 'siempre': 9052, 'anguilla': 574, 'working': 10996, 'stain': 9411, 'pixley': 7659, 'friday': 3777, 'narew': 6810, 'susumu': 9646, 'hirasawa': 4541, 'allen': 451, 'negerpunk': 6870, 'counting': 2364, 'rosaries': 8488, 'jul': 5168, 'whiteside': 10857, 'cry': 2482, 'folk-rock': 3673, 'monk': 6602, 'masaki': 6204, 'aiba': 367, 'giorgio': 4004, 'moroder': 6656, 'glamour': 4026, 'unexpected': 10405, 'sacaton': 8582, 'gluten': 4048, 'understanding': 10401, 'physics': 7604, 'teenager': 9819, 'really': 8138, 'hellboy': 4454, 'witch': 10948, 'others': 7288, 'mad': 5988, 'special': 9342, 'assignments': 761, 'gasconade': 3887, 'mf': 6429, 'doom': 2920, 'decaturville': 2657, 'provide': 7921, 'noroi': 7049, 'phoenix': 7593, 'toby': 10048, 'nemiciamici': 6881, 'chieko': 1939, 'ochi': 7135, 'breaks': 1430, 'caleigh': 1630, 'origin': 7262, 'milky': 6475, 'episode': 3287, 'crossing': 2460, 'lines': 5761, 'church': 2012, 'news-press': 6917, 'hard': 4340, 'handle': 4318, 'martinique': 6190, 'junior': 5187, 'brown': 1499, 'scarlet': 8725, 'fight': 3580, 'anarchy': 542, 'belongs': 1088, 'hugh': 4669, 'masekela': 6210, 'hull': 4673, 'ragged': 8041, 'curtain': 2520, 'kawabata': 5258, 'makoto': 6046, 'neidich': 6872, 'fascility': 3494, 'thunder': 9979, 'chowder': 1987, 'kiss': 5379, 'flake': 3628, 'servidor': 8883, 'apache': 632, 'age': 353, 'proudly': 7920, 'marches': 6138, 'metamora': 6417, 'wontons': 10974, 'defense': 2680, '2025': 142, 'ettrick': 3342, 'feeling': 3530, 'jodie': 5101, 'aysha': 855, 'steff': 9460, 'freund': 3774, 'rocksteady': 8436, 'elberta': 3142, 'alma': 462, 'deana': 2639, '49': 197, 'tsipouro': 10257, 'pok': 7738, 'mon': 6585, 'mastermind': 6224, 'mirage': 6516, 'cowboy': 2389, 'canteen': 1693, 'nudity': 7095, 'shall': 8931, 'punished': 7956, 'districts': 2849, 'rod': 8439, 'rockers': 8425, 'looney': 5853, 'platinum': 7685, 'pastwatch': 7440, 'redemption': 8170, 'columbus': 2184, 'cissy': 2037, 'houston': 4653, 'maquoketa': 6129, 'sixth': 9120, 'sensation': 8857, 'heard': 4418, 'mariem': 6155, 'hassan': 4381, 'leyoad': 5698, 'reaching': 8127, 'horizons': 4627, 'tkk': 10039, 'sabah': 8575, 'candoli': 1682, 'vl': 10630, 'olivet': 7191, 'laurie': 5587, 'beechman': 1053, 'liberty': 5708, 'buddy': 1527, 'tate': 9786, 'aftercluv': 345, 'bertha': 1124, 'matters': 6243, 'hand': 4313, 'creole': 2428, 'philip': 7575, 'abolition': 258, 'britain': 1465, 'cruel': 2476, 'mirror': 6520, 'lotus': 5879, 'flower': 3656, 'mccoy': 6282, 'stuffed': 9562, 'peppers': 7519, 'woodsfield': 10983, 'dress': 2984, 'belles': 1084, 'clements': 2081, 'merengue': 6395, 'sappho': 8669, 'verde': 10538, 'his-story': 4545, 'leviathan': 5692, 'carol': 1743, 'jessica': 5065, 'delfino': 2692, 'robbie': 8405, 'upbuilding': 10435, 'discourses': 2834, '1844': 58, 'bevilacqua': 1151, 'joan': 5096, 'americana': 511, 'egypt': 3121, 'pagosa': 7349, 'romanian': 8462, 'stle': 9491, 'cusine': 2523, 'empire': 3228, 'blini': 1243, '103': 34, 'saturn': 8694, 'sugarloaf': 9589, 'provincial': 7924, 'marching': 6139, 'band': 930, 'intimate': 4871, 'asiate': 751, 'sturgeon': 9567, 'joseph': 5135, 'genaro': 3918, 'coastal': 2121, 'landscape': 5540, 'tenor': 9856, 'wore': 10991, 'tapshoes': 9766, 'domingo': 2901, 'railway': 8051, 'maritime': 6164, 'sabrina': 8580, 'salerno': 8614, 'madeleine': 5994, 'cartel': 1758, 'vol': 10639, 'haugland': 4392, 'butterfly': 1590, 'wheel': 10832, 'orchestra': 7248, 'cello': 1818, 'kazakhstan': 5264, 'tera': 9862, 'exiled': 3386, 'realm': 8139, 'arborea': 670, 'cameo': 1655, 'reaches': 8126, 'tammi': 9751, 'beverly': 1150, 'alba': 405, 'mesa': 6405, 'offa': 7155, 'doseone': 2938, 'talking': 9740, 'resistance': 8257, 'millions': 6486, 'features': 3522, 'successful': 9578, 'dealmaking': 2637, 'after': 344, 'having': 4398, 'spent': 9356, 'horses': 4635, 'whatever': 10829, 'turns': 10299, 'woods': 10982, '911': 227, 'doctrine': 2877, 'salinas': 8618, 'simple': 9074, 'noodle': 7036, 'however': 4658, 'booze': 1343, 'grand': 4127, 'towne': 10133, 'housemaid': 4650, 'machinery': 5982, 'spector': 9347, 'tatamy': 9784, 'ramsgate': 8080, 'merit': 6397, 'holstein': 4588, 'xquery': 11052, 'api': 639, 'java': 5024, 'chile': 1945, 'suites': 9598, 'sweets': 9672, 'survival': 9638, 'skills': 9137, 'masonville': 6217, 'kasey': 5245, 'chambers': 1852, 'addition': 308, 'salsa': 8621, 'cardinal': 1713, 'strauss': 9522, 'endangered': 3241, 'species': 9346, 'screams': 8774, 'derek': 2725, 'watkins': 10757, 'av': 823, 'anne': 585, 'reason': 8141, 'clone': 2098, 'mimi': 6492, 'biscuit': 1203, 'factory': 3427, 'commit': 2198, 'marriage': 6176, 'sister': 9106, 'workplace': 10998, '1992': 107, 'peaches': 7482, 'warpaint': 10734, 'falkland': 3454, 'uncut': 10395, 'ahmed': 365, 'malik': 6062, 'saintly': 8602, 'switch': 9679, 'matilda': 6232, 'sint': 9099, 'maarten': 5969, 'cotopaxi': 2350, 'colour': 2180, 'between': 1148, 'comeback': 2188, 'assign': 760, 'stephanie': 9466, 'biddle': 1172, 'digster': 2800, 'wrestling': 11016, 'spotlight': 9379, 'narodowy': 6811, 'kushiro-shitsugen': 5474, 'mob': 6552, 'kingdom': 5367, 'catch': 1790, 'screening': 8777, 'shivers': 8999, 'arnett': 722, 'tus': 10304, 'fiestas': 3573, 'edward': 3107, 'ryerson': 8569, 'punishment': 7957, 'suburbia': 9576, 'eden': 3091, 'varieties': 10506, 'grizzled': 4192, 'squirrel': 9400, 'rusty': 8559, 'string': 9537, 'quartet': 8000, 'dancing': 2577, 'ferret': 3553, 'tatjana': 9789, 'iwanowna': 4962, 'bulanowa': 1537, 'tolerance': 10067, 'carter': 1759, 'inn': 4839, 'bonaventure': 1311, 'castillo': 1780, '1986': 101, 'harveys': 4374, 'terri': 9873, 'brasil': 1412, 'becky': 1043, 'path': 7444, '1996': 111, 'duetos': 3018, 'badonviller': 887, 'lateness': 5570, 'hello': 4455, 'must': 6754, 'castle': 1782, 'disney': 2841, 'steven': 9480, 'reineke': 8194, 'floors': 3651, 'vic': 10565, 'ruggiero': 8530, 'heartbreak': 4423, 'change': 1861, 'ship': 8993, 'lollipop': 5832, 'guilty': 4223, 'showstopper': 9033, 'reminderville': 8215, 'dutchess': 3039, 'traverse': 10184, 'bottomland': 1368, 'coon': 2311, 'clarice': 2056, 'debbie': 2650, 'eurovision': 3352, 'contest': 2288, '2015': 132, 'rajinikanth': 8064, 'definitive': 2683, 'anti-semitism': 616, 'resurgence': 8270, 'goethe': 4065, 'ahead': 363, 'blowfly': 1264, 'schubert': 8746, 'bride': 1451, 'easton': 3065, 'rila': 8351, 'tenth': 9858, '23': 164, 'lady': 5500, 'highwayman': 4518, 'kaya': 5262, 'lille': 5739, 'borrow': 1351, 'husband': 4698, 'coney': 2248, 'i-lander': 4716, 'admire': 322, 'tx': 10340, 'goddess': 4058, 'sivamani': 9115, 'westcountry': 10821, 'mamaroneck': 6070, 'daedelus': 2549, 'lazy': 5605, 'shaolin': 8943, 'temple': 9840, 'ludden': 5929, 'valy': 10487, 'martyr': 6193, 'mallett': 6065, 'hughie': 4670, 'vidyadhar': 10585, 'vyas': 10654, 'darlene': 2598, 'tessa': 9883, 'maxine': 6263, '27': 169, 'knockabout': 5405, 'steptoe': 9471, 'eva': 3354, 'newport': 6915, 'creamery': 2416, 'carnot': 1741, 'farmingdale': 3485, 'coffin': 2142, 'bob': 1283, 'tabloid': 9712, 'greenland': 4163, 'oil': 7168, 'endgame': 3243, 'annie': 589, 'herring': 4484, 'eucalyptus': 3344, 'rinascita': 8359, 'judgment': 5163, 'sorted': 9296, 'paulinho': 7464, 'da': 2545, 'viola': 10611, 'gothic': 4101, 'uncle': 10391, 'malta': 6066, 'playground': 7693, 'moments': 6581, 'gloryhole': 4044, 'mani': 6097, 'mosses': 6670, 'manse': 6108, 'harris': 4364, 'cardio': 1715, 'our': 7296, 'drugs': 2998, 'jesus': 5068, 'christ': 1992, 'manifesto': 6099, 'nevermore': 6908, 'ridge': 8342, 'sara': 8670, 'hickman': 4503, 'targeted': 9770, 'henderson': 4459, 'stripes': 9540, 'lemonade': 5652, 'poetry': 7732, 'own': 7324, 'voices': 10637, 'reidland': 8192, 'gamble': 3854, 'castles': 1783, 'steel': 9458, 'gurdas': 4231, 'maan': 5968, 'foghat': 3667, 'lewis': 5694, 'clark': 2057, 'farian': 3482, 'karol': 5241, 'pope': 7763, 'techno-industrial': 9814, 'destination': 2742, 'prague': 7817, 'wenn': 10810, 'lucy': 5928, 'springt': 9388, 'festival': 3557, 'tonopah': 10088, 'lenin': 5658, 'rss': 8523, 'tracking': 10149, 'serenada': 8869, 'sports': 9375, 'windows': 10920, 'jonathan': 5126, 'sprout': 9390, 'shops': 9016, 'looked': 5849, 'handful': 4316, 'stories': 9507, 'cupcakes': 2509, 'twins': 10333, 'boaz': 1282, 'mauda': 6246, 'siouxsie': 9101, 'banshees': 942, 'faustino': 3508, 'oramas': 7244, 'gainesville': 3847, 'register': 8188, 'guatemala': 4215, 'bandas': 932, 'sonoras': 9282, 'alok': 466, 'cusinie': 2524, 'sixty': 9122, 'lights': 5731, 'message': 6406, 'irving': 4921, 'dishwashing': 2839, 'juliff': 5176, 'bucatini': 1517, 'intimidators': 4872, 'submarine': 9572, 'caper': 1697, 'kitchen': 5382, 'swagger': 9658, 'nazad': 6844, 'kalino': 5211, 'mome': 6579, 'escapada': 3309, 'brasileiro': 1413, 'facility': 3425, 'ghana': 3961, '1634': 51, 'ram': 8070, 'rebellion': 8146, 'northeast': 7052, 'cambodia': 1648, 'minnie': 6504, 'riperton': 8369, 'squire': 9398, 'millvale': 6488, 'peaks': 7484, 'kay': 5261, 'slay': 9159, 'decade': 2655, 'vimy': 10602, 'robinette': 8411, 'effortless': 3115, 'mastery': 6228, 'chamber': 1850, 'sixteenth': 9119, 'runkaus': 8544, 'pax': 7473, 'tsidii': 10255, 'loka': 5830, 'episodi': 3289, 'di': 2764, 'sons': 9283, 'bothe-napa': 1361, 'eviatar': 3374, 'banai': 927, 'tgif': 9897, 'nick': 6945, 'mason': 6216, 'sylvia': 9689, 'plath': 7684, 'renewable': 8227, 'electricity': 3148, 'grid': 4179, 'ham': 4296, 'isn': 4938, 'canarsie': 1672, 'rockaway': 8424, 'parkway': 7415, 'bennington': 1103, 'preston': 7850, 'venezuela': 10531, 'zombieland': 11165, 'noct': 7020, 'mbulo': 6276, '1984': 99, 'bettye': 1147, 'lakeisha': 5514, 'jimenez': 5086, 'theodore': 9927, 'boone': 1337, 'accused': 279, 'parnell': 7416, 'vezione': 10556, 'verro': 10550, 'margie': 6147, 'taking': 9733, 'falco': 3452, 'princesas': 7867, 'thurmont': 9981, 'fink': 3604, 'laughs': 5582, 'angela': 563, 'au': 797, 'dangers': 2581, 'mounted': 6689, 'irene': 4907, 'rosella': 8496, 'elephant': 3161, 'nattbuss': 6833, '807': 221, 'infusions': 4831, 'important': 4772, 'gorilla': 4093, 'hunters': 4690, 'gilmer': 3992, 'keeling': 5272, 'two-shoes': 10339, 'no': 7012, 'gravity': 4149, 'drift': 2988, 'unmooring': 10421, 'military': 6473, 'dante': 2587, 'peak': 7483, 'tajikistan': 9725, 'drama': 2967, '1976': 91, 'lenexa': 5657, '31': 176, 'moto': 6682, 'in-birth': 4780, 'wing': 10926, 'cappella': 1702, 'courtney': 2374, 'ruby': 8525, 'major': 6040, 'maxim': 6259, 'morganville': 6648, 'vampires': 10490, 'shelter': 8969, 'wallington': 10696, 'pesterminator': 7548, 'exterminator': 3405, 'quarryville': 7999, 'blackpool': 1221, 'helianthushof': 4450, 'hurffville': 4692, 'nj': 7010, 'fern': 3547, 'cresbard': 2430, 'afghanistan': 339, 'itch': 4948, 'erin': 3301, 'politics': 7747, 'sleepify': 9162, 'strayhorn': 9524, 'logic': 5826, 'sense': 8859, 'tsoi': 10259, 'chillout': 1952, 'taiwan': 9723, 'willimantic': 10905, 'chapman': 1873, 'then': 9924, 'breathless': 1433, 'boris': 1347, 'grebenchtchikov': 4154, 'monkeys': 6604, 'trouble': 10235, 'every': 3368, 'bf': 1157, 'montreal': 6621, 'indiahoma': 4798, 'convicted': 2303, 'hong': 4606, 'kong': 5426, 'mulawin': 6723, 'contemporary': 2286, 'religious': 8207, 'satanism': 8687, 'slave': 9158, 'else': 3195, 'keene': 5274, 'pocket': 7727, 'kryptonite': 5455, 'feast': 3519, 'limit': 5747, 'adieu': 317, 'arsenault': 731, 'sadface': 8587, 'viaje': 10559, 'copperpot': 2317, 'lpaying': 5913, 'italian': 4945, 'hutchings': 4702, 'manassas': 6082, 'simplescreenrecorder': 9075, 'heterocycles': 4493, 'debtors': 2653, 'dahmer': 2551, 'vaughan': 10513, 'hodges': 4567, 'holiday': 4578, 'pianist': 7605, 'mew': 6422, 'jovanotti': 5148, 'bickler': 1171, 'cerebellum': 1830, 'jemez': 5049, 'shaggy': 8920, 'northeastern': 7053, 'delicatessen': 2696, 'autry': 820, 'inman': 4838, 'hanging': 4322, 'lamentation': 5527, 'cloris': 2101, 'hog': 4569, 'crepes': 2429, 'dying': 3044, 'mapa': 6126, 'jerry': 5059, 'walerij': 10687, 'leontjew': 5668, 'sankha': 8658, 'chatterjee': 1894, 'posiabble': 7787, 'irvin': 4919, 'mayfield': 6270, 'occoquan': 7131, 'brixton': 1471, 'academy': 269, 'chyi': 2014, 'carry': 1755, 'hubbardston': 4666, '213': 162, 'yusef': 11126, 'lateef': 5569, 'dive': 2853, 'bomber': 1304, 'markus': 6171, 'grosskopf': 4197, 'carson': 1757, 'parks': 7413, 'ak-suu': 389, 'grunge': 4207, 'francisville': 3743, 'experiment': 3398, 'smile': 9189, 'hominids': 4598, 'elements': 3159, 'remixed': 8218, 'amirbai': 519, 'karnataki': 5239, 'pachangueo': 7335, 'eggo': 3117, 'rhett': 8307, 'son': 9266, 'armenian': 713, 'fais': 3447, 'les': 5677, 'backs': 879, 'geronimo': 3949, 'beardslee': 1016, 'albania': 406, 'cassie': 1778, 'lesley': 5678, 'lafitte': 5504, 'chapel': 1871, 'willy': 10909, 'poor': 7760, 'barbecue': 949, 'shining': 8990, 'tsukiko': 10265, 'amano': 495, 'southside': 9316, '1000': 32, 'tire': 10028, 'happen': 4330, 'janet': 5001, 'paschal': 7428, 'iraq': 4903, 'profiteers': 7894, 'savior': 8703, 'leads': 5609, 'lecanto': 5629, 'birch': 1194, 'run': 8542, '-hour': 11, 'workweek': 11000, 'furano-ashibetsu': 3822, 'montgomery': 6617, 'weathervane': 10779, 'turn': 10295, 'tiny': 10024, 'tim': 10005, 'kosovo': 5436, 'require': 8244, 'romeoville': 8467, 'ice': 4722, 'zebra': 11144, 'ice-cream': 4723, 'leeds': 5635, 'snapfinger': 9201, 'persian': 7539, 'ex': 3379, 'burnley': 1565, 'ready': 8132, 'progressive': 7899, 'cove': 2380, 'dicey': 2776, 'business': 1580, 'iran': 4900, 'lasts': 5567, 'critical': 2445, 'condition': 2241, 'clapton': 2054, 'eric': 3297, 'hollidaysburg': 4583, 'safe': 8589, 'roll': 8453, 'sucks': 9579, 'argentinian': 691, 'iberville': 4719, 'ambient': 500, 'false': 3463, 'wheatley': 10831, 'its': 4951, 'blackman': 1220, 'jordan': 5132, 'maalaea': 5967, 'ra': 8019, 'shoots': 9013, 'salads': 8610, 'shangri-la': 8940, 'lolita': 5831, 'victor': 10575, 'kunonga': 5466, '05': 24, 'rupee': 8549, 'sitek': 9112, 'arcims': 679, 'portage': 7776, 'envoy': 3283, 'lucifer': 5921, '2040': 157, 'fist': 3622, 'rushton': 8551, 'moreve': 6646, 'tailspin': 9721, 'alasdair': 403, 'roberts': 8408, 'nash': 6814, 'slash': 9154, 'tina': 10021, 'cousins': 2378, '1956': 73, 'division': 2857, 'spoils': 9370, '1987': 102, 'junes': 5182, 'doodle': 2918, 'shop': 9014, 'madagascar': 5989, 'gibraltar': 3976, 'brook': 1485, 'tennessee': 9854, 'crash': 2406, 'proceed': 7885, 'hitomi': 4558, 'nabatame': 6784, 'melon': 6372, 'romain': 8458, 'clawson': 2073, 'orienta': 7260, 'chantal': 1867, 'kreviazuk': 5444, 'sheila': 8965, 'harwell': 4376, 'oasis': 7120, '105': 35, 'pero': 7534, 'flag': 3627, 'anthem': 610, 'pencil': 7506, 'thin': 9940, 'mustache': 6755, 'grandfather': 4131, 'darkworld': 2597, 'ironing': 4913, 'cadas': 1605, 'mabel': 5971, 'dramatic': 2968, 'career': 1718, 'therapy': 9930, 'baylor': 999, 'cuba': 2490, 'cooler': 2309, 'climate': 2090, 'tia': 9986, 'madeline': 5995, 'estela': 3325, 'greg': 4167, 'pattillo': 7458, 'megon': 6356, 'mcdonough': 6289, 'slackers': 9149, 'mix': 6540, 'songimvelo': 9270, 'troubles': 10236, 'gladiators': 4022, 'daring': 2592, 'youth': 11111, 'stays': 9451, 'catholic': 1796, 'hurley': 4693, 'honourable': 4609, 'shinji': 8991, 'miyazaki': 6544, 'tailor': 9719, 'judging': 5162, 'madison': 5998, 'ar': 664, 'also': 476, 'mohammad': 6563, 'mamle': 6073, 'yo': 11094, 'ho': 4562, 'pops': 7765, 'balzary': 925, 'mujeres': 6721, 'hombres': 4592, 'thy': 9983, 'stethoscope': 9476, 'verano': 10537, 'triumph': 10223, 'deathcore': 2646, 'nightmute': 6969, 'nephew': 6886, 'biscay': 1202, 'bridges': 1454, 'county': 2367, 'mis': 6525, 'ni': 6930, 'os': 7275, 'scorching': 8757, 'these': 9933, 'feature': 3521, 'little': 5787, 'anymore': 628, 'wee': 10790, 'pamela': 7373, 'nana': 6797, 'kitade': 5381, 'psychedelia': 7929, 'maple': 6127, 'glen': 4033, 'archie': 675, 'custer': 2526, 'patetown': 7443, 'nooks': 7037, 'electronow': 3154, '1965': 81, 'ajoy': 387, 'chakrabarty': 1844, 'care': 1717, 'mauboy': 6245, 'nhat': 6928, 'dieterich': 2791, 'chad': 1837, 'dame': 2565, 'fair': 3440, 'had': 4252, 'hair': 4270, '…': 11212, 'content': 2287, 'wear': 10776, 'brows': 1501, 'restasurant': 8262, 'pohick': 7734, 'nigga': 6958, 'forcast': 3690, 'lavina': 5593, 'innocents': 4844, 'brat': 1416, 'raposo': 8098, 'mu': 6713, 'ko': 5412, 'phetra': 7573, 'greenport': 4164, 'echo': 3074, 'elegante': 3158, 'durant': 3031, 'cholame': 1973, 'funky': 3817, 'grandparents': 4135, 'helens': 4449, 'buttes': 1591, 'leticia': 5686, 'twila': 10327, 'edwards': 3108, 'secondary': 8813, 'residence': 8256, 'gem': 3916, 'starcross': 9429, 'canto': 1694, 'ransom': 8091, 'ashley': 748, 'cafagna': 1611, 'tesoro': 9882, 'dallas': 2562, 'hematite': 4458, 'dine': 2809, 'luray': 5947, 'fayette': 3515, 'shannon': 8942, 'osgood': 7277, 'shot': 9021, 'mysteries': 6774, 'keine': 5280, 'grenzen': 4173, 'kenny': 5301, 'cox': 2391, 'edit': 3098, 'sammy': 8633, 'cahn': 1615, 'atrocity': 787, 'exhibition': 3384, 'phyllis': 7603, 'ward': 10721, 'veronica': 10549, '152': 47, 'compendium': 2210, 'analytical': 540, 'nomenclature': 7031, 'westfield': 10824, 'fare': 3478, 'thee': 9915, 'celebrating': 1816, 'grateful': 4145, 'knocked': 5406, 'loaded': 5808, 'nora': 7042, 'fiji': 3583, 'divine': 2856, 'vinnie': 10607, 'roslin': 8504, 'cokeville': 2150, 'fairwood': 3445, 'nepal': 6885, 'tenderfoot': 9851, 'interesting': 4866, 'success': 9577, 'revelations': 8284, 'tomtegubben': 10080, 'som': 9251, 'hade': 4254, 'snuva': 9217, 'ce': 1811, 'cher': 1916, 'intrus': 4879, 'ah': 361, 'como': 2205, 'un': 10379, 'tatuaje': 9791, 'gil': 3983, 'parris': 7419, 'cup': 2507, 'vegetables': 10520, 'pharrell': 7568, 'cheers': 1908, 'bishop': 1204, 'vacation': 10470, 'petrov': 7560, 'vasechkin': 10509, 'restautant': 8267, 'morton': 6667, 'downey': 2951, 'frankenstein': 3745, 'drag': 2962, 'queens': 8005, 'madwoman': 6003, 'attic': 792, 'cho': 1966, 'kyu': 5484, 'hyun': 4713, 'satanta': 8688, 'techno': 9813, 'ira': 4899, 'losco': 5869, 'hoggard': 4570, 'daniel': 2583, 'burrito': 1570, 'thief': 9938, 'leaves': 5625, 'sergei': 8874, 'anatoljewitsch': 544, 'kurjochin': 5470, 'serving-men': 8886, 'thompson': 9953, 'stobo': 9492, 'quasimoto': 8001, 'bathgate': 983, 'las': 5562, 'aventuras': 833, 'zachary': 11132, 'pembina': 7504, 'gorge': 4092, 'malaysian': 6050, 'dictionary': 2783, 'language': 5546, 'roberto': 8407, 'parra': 7418, 'sandoval': 8646, '333': 179, 'caplinger': 1701, 'hola': 4574, 'lou': 5880, 'prom': 7904, 'ifind': 4741, '04': 23, 'suicide': 9593, 'trapaholics': 10173, 'califon': 1636, 'tunisia': 10281, 'viroqua': 10619, 'delhi': 2694, 'turbulent': 10287, 'term': 9867, 'tyke': 10341, 'tiler': 10003, 'angelita': 566, 'susan': 9641, 'reed': 8173, 'ashlee': 747, 'tatar': 9785, 'pelahatchie': 7499, 'lukasz': 5935, 'gottwald': 4104, 'recent': 8151, 'iw': 4960, 'atch': 775, 'balls': 922, 'vampate': 10488, 'fuoco': 3821, 'wv': 11028, 'aprite': 661, 'finestre': 3601, 'verdi': 10541, 'bed': 1045, 'roses': 8501, 'cisco': 2036, 'adler': 319, 'khao': 5330, 'phanom': 7566, 'bencha': 1093, 'woven': 11010, 'bretton': 1444, 'brief': 1456, 'auschwitz': 812, 'horror': 4633, 'revoluci': 8294, 'jawad': 5027, 'ahmad': 364, 'cistern': 2038, 'adele': 313, 'thornton': 9960, 'pages': 7348, 'clear': 2079, 'smelt': 9188, 'preferably': 7830, 'depot': 2722, 'lomax': 5835, 'icon': 4727, 'koi': 5416, 'senkyo': 8856, 'inning': 4840, '2032': 149, 'lakebay': 5513, '1963': 79, 'yuki': 11119, 'koyanagi': 5440, 'comfort': 2194, 'gear': 3907, 'critic': 2444, 'hisham': 4546, 'abbas': 242, 'u-roy': 10353, 'sonntag': 9277, 'assassin': 757, 'creed': 2424, 'graf': 4119, 'keke': 5284, 'wyatt': 11033, 'stained': 9412, 'destiny': 2743, 'suriname': 9635, 'sumner': 9604, 'ares': 687, 'friona': 3787, 'kool': 5427, 'keith': 5283, 'harrowing': 4366, 'moribund': 6649, 'burgermeister': 1554, 'shades': 8914, 'coxs': 2392, 'killers': 5355, 'beroun': 1119, 'leeuwen': 5636, 'brilliant': 1461, 'tragic': 10156, 'mer': 6388, 'rouge': 8509, 'palestine': 7360, 'trolls': 10226, 'crush': 2480, 'papeton': 7389, 'laying': 5602, 'plan': 7676, 'roni': 8471, 'duani': 3006, 'halo': 4294, 'onyx': 7223, 'foundling': 3721, 'grae': 4118, 'peninsula': 7512, 'zak': 11135, 'starkey': 9431, 'vallecito': 10482, 'sardis': 8676, 'latina': 5575, 'valverde': 10486, 'steampunk': 9457, 'shahram': 8923, 'nazeri': 6845, 'reserved': 8252, 'spooning': 9373, 'croissant': 2451, 'tuesday': 10272, 'rendezvous': 8225, 'upper': 10439, 'marlboro': 6172, 'uproar': 10440, 'medical': 6336, 'dummy': 3023, 'theo': 9926, 'keating': 5270, 'wicked': 10869, 'trek': 10195, 'entre': 3277, 'raices': 8048, 'antenas': 608, 'wade': 10664, 'llp': 5805, 'abdel': 246, 'halim': 4284, 'hafez': 4257, 'conexiones': 2247, 'pine': 7639, 'roots': 8480, 'lualualei': 5915, 'stuff': 9561, 'illinois': 4757, 'maison': 6036, 'parthenais-perrault': 7422, 'sandy': 8651, 'tender': 9850, 'deeds': 2670, 'finn': 3606, 'maccool': 5976, 'dishyum': 2840, 'roger': 8447, 'whittaker': 10861, 'sicilian': 9047, 'conshohocken': 2278, 'karl': 5236, 'davydov': 2620, 'reyna': 8301, 'moye': 6704, 'write': 11020, 'invisible': 4890, 'hook': 4611, 'massachusetts': 6219, 'fey': 3563, 'head': 4409, 'daimidaler': 2554, 'vs': 10651, 'penguin': 7511, '%': 6, 'ljubam': 5800, 'mirrored': 6521, 'heavens': 4434, 'barbados': 946, 'neo': 6883, 'baruch': 969, 'chait': 1843, 'elysium': 3203, 'ryan': 8568, 'cayabyab': 1807, 'endless': 3245, 'awaiting': 840, 'strange': 9517, 'weird': 10801, 'lovecraftian': 5893, 'fictions': 3567, 'execution': 3381, 'cats': 1797, '    ': 3, 'living': 5794, 'majesty': 6039, 'patrol': 7453, 'lauryn': 5588, 'ringside': 8366, 'sold': 9241, 'lousy': 5890, 'cham': 1849, 'teyana': 9896, 'scorpio': 8759, 'illusion': 4758, 'whitewater': 10858, 'chestnut': 1924, 'mare': 6145, 'recalled': 8149, 'alejandro': 419, 'ndez': 6852, 'tracie': 10147, 'noyack': 7084, 'race': 8023, 'cyprus': 2538, 'michigan': 6441, 'ilo': 4759, 'whitby': 10851, 'synth': 9697, 'flow': 3655, 'caribou': 1726, 'morten': 6666, 'harket': 4355, 'puccini': 7941, 'standing': 9423, 'kennedy': 5299, 'runaljod': 8543, 'gap': 3867, 'var': 10503, 'ginnunga': 4001, 'harrison': 4365, 'crawford': 2410, 'tetsuya': 9890, 'komuro': 5425, '1955': 72, 'videogames': 10583, 'chapter': 1874, 'odessa': 7148, 'mea': 6319, 'culpa': 2498, 'rahim': 8044, 'shah': 8922, 'rest': 8260, 'arcola': 681, 'difficult': 2795, 'loves': 5899, 'swordsman': 9686, 'laarni': 5487, 'lozada': 5911, 'endorphin': 3246, 'bees': 1057, 'cinderella': 2024, 'outside': 7308, 'syndicate': 9695, 'millicent': 6482, 'herbie': 4470, 'fields': 3569, 'competitors': 2211, 'deadly': 2634, 'skies': 9135, 'gloria': 4041, 'ottumwa': 7293, 'dressing': 2986, 'exmore': 3388, 'puzzles': 7983, 'pimpernel': 7637, 'terminator': 9869, 'holly': 4585, 'tibetan': 9989, 'vybz': 10655, 'kartel': 5242, 'jueves': 5165, 'anta': 604, 'maid-rite': 6026, 'gardens': 3871, 'dear': 2642, 'assault': 759, '188': 59, 'warriors': 10738, 'broadrick': 1473, 'prophets': 7912, 'infernal': 4817, 'devices': 2756, 'seagraves': 8790, 'truly': 10244, 'citizen': 2042, 'kenya': 5307, 'whiskers': 10842, 'favourite': 3512, 'nursery': 7105, 'rhymes': 8314, 'rogers': 8448, 'jeanne': 5038, 'mayotte': 6273, 'dog': 2884, 'osyka': 7284, 'break': 1425, 'warcraft': 10720, 'tides': 9993, 'moroccan': 6654, 'hagar': 4259, 'meaning': 6324, 'action': 291, 'bernard': 1115, 'teeth': 9822, 'haunted': 4393, 'orthodox': 7272, 'talk': 9739, 'nm': 7011, 'michel': 6438, 'strogoff': 9542, 'memories': 6379, 'rag': 8039, 'covers': 2387, 'ups': 10441, 'singapore': 9087, 'martine': 6188, 'mccutcheon': 6287, 'jazzmasters': 5030, 'vickie': 10571, 'caitlin': 1621, '1979': 94, 'dungeons': 3030, 'mystara': 6773, 'wash': 10742, 'eleanor': 3146, 'rigby': 8348, '1951': 68, 'splendido': 9366, 'isthmus': 4943, 'leonard': 5663, 'cohen': 2144, 'brazuca': 1422, 'shingleton': 8989, 'railroad': 8050, 'model': 6558, 'craftsman': 2403, 'brought': 1498, 'medal': 6332, 'thomson': 9955, 'chompa': 1976, 'toung': 10123, 'datil': 2611, 'tupelo': 10284, 'honey': 4603, 'nokio': 7029, 'tity': 10037, 'bb': 1004, 'crisis': 2441, 'vii': 10593, 'sealed': 8792, '163': 50, 'htoo': 4663, 'ein': 3132, 'wilderness': 10891, 'oxford': 7325, 'wyoming': 11040, 'lunchbox': 5943, 'nicht': 6944, 'sprechen': 9383, 'cretu': 2432, 'sifow': 9056, 'dreamt': 2978, 'ouachita': 7294, 'jill': 5083, 'sobule': 9222, 'exile': 3385, 'single': 9092, 'hotchpotch': 4642, 'thrills': 9970, 'inca': 4783, 'roads': 8396, 'italian-american': 4946, 'notebook': 7065, 'trigorin': 10210, 'closer': 2105, 'meatball': 6329, 'stehekin': 9461, 'stracciatella': 9513, 'provider': 7923, 'kingdoms': 5368, 'territories': 9876, 'gulfport': 4227, 'hank': 4324, 'shermann': 8974, 'panic': 7380, 'needle': 6866, 'hungarian': 4686, 'alexia': 426, 'fra': 3732, 'mols': 6577, 'skagen': 9126, 'riders': 8340, 'whistling': 10848, 'skull': 9141, 'stereo': 9472, 'advocate': 332, 'gilmore': 3993, 'nc': 6847, 'chatyrkul': 1895, 'cal': 1624, 'teacher': 9803, 'magnificent': 6015, 'scoundrels': 8766, 'extended': 3404, 'disorderly': 2842, 'abuja': 266, 'plaid': 7672, 'retina': 8273, 'even': 3361, 'jebel': 5041, 'savannah': 8701, 'lauderdale': 5580, 'meek': 6347, 'taberville': 9709, 'bondage': 1313, 'freedom': 3762, 'marcia': 6141, 'carolus': 1746, 'rex': 8298, 'xyy': 11054, 'loved': 5894, 'thousands': 9966, 'puppet': 7962, 'hermann': 4478, 'baumann': 995, 'dirt': 2826, 'faroe': 3489, 'serendipity': 8871, 'veyo': 10555, 'fernandina': 3548, 'supernatural': 9622, 'unseen': 10428, 'powers': 7810, 'andorra': 556, 'brigade': 1457, 'hamburger': 4300, 'casualties': 1785, 'groundhog': 4200, 'slovenia': 9180, 'square': 9396, 'vazquez': 10515, 'ristigouche': 8374, 'ecological': 3078, 'haiti': 4271, 'corpus': 2334, 'selena': 8838, 'southford': 9315, 'amityville': 520, 'tyrolean': 10350, 'harper': 4361, 'bird': 1195, 'match': 6229, 'leanne': 5615, 'tami': 9749, 'katiejane': 5253, 'garside': 3884, 'games': 3858, 'definitely': 2682, 'oneonta': 7214, 'wits': 10955, 'nardwuar': 6809, 'serviette': 8884, 'carlos': 1731, '2002': 119, 'parempi': 7405, 'mies': 6460, 'leche': 5630, 'fifteen': 3575, 'boyett': 1389, 'kk': 5389, 'nishi': 7004, 'sonogi': 9280, 'hant': 4329, 'genre': 3931, 'sehlabathebe-nationalpark': 8832, 'bahamas': 894, '1970': 86, 'goa': 4052, 'chanson': 1865, 'hundred-year': 4685, 'americans': 512, 'gether': 3954, 'jade': 4983, 'puget': 7946, 'exploits': 3399, 'beatrice': 1028, 'emilie': 3214, 'autumn': 821, 'na': 6783, 'çã': 11186, 'aransas': 668, 'fourche': 3723, 'victim': 10573, 'hawkshaw': 4404, 'hawkins': 4403, 'insoc': 4851, 'reflection': 8177, 'foreign': 3699, 'superior': 9621, 'ibm': 4720, 'temporary': 9843, 'fix': 3625, 'actrices': 297, 'nokia': 7028, 'crazy': 2411, 'trust': 10248, 'lord': 5859, 'worship': 11005, 'moen': 6560, 'sashimi': 8682, 'alkabli': 443, 'barker': 957, '1978': 93, 'paint': 7351, 'masterpiece': 6225, 'hardy': 4351, 'jingle': 5089, 'jillian': 5084, 'moss': 6669, '1997': 112, 'mcgill': 6292, 'pleasures': 7709, 'javine': 5026, 'hylton': 4708, 'ethel': 3336, 'course': 2371, 'chippewa': 1961, 'salaam-e-ishq': 8606, 'tribute': 10207, 'glades': 4021, 'ribs': 8321, 'lexington': 5696, 'av-': 824, 'breckenridge': 1436, 'spider': 9358, 'backyard': 880, 'leong': 5665, 'campus': 1665, 'bacon': 881, 'getzville': 3958, 'sword': 9684, 'beauregard': 1031, 'qriii': 7993, 'confessions': 2250, 'shi': 8980, 'xin': 11047, 'hui': 4671, 'eddie': 3089, 'playcanvas': 7690, 'colette': 2155, 'culver': 2501, 'wa': 10659, 'recite': 8152, 'programming': 7897, 'ken': 5294, 'symphonique': 9692, 'isobel': 4939, 'campbell': 1664, 'clayton': 2075, 'meet': 6350, 'vogues': 10636, 'pimp': 7636, 'inlet': 4837, 'lebanon': 5627, 'friendship': 3784, 'circus': 2034, 'farm': 3484, 'lamy': 5532, 'santa': 8661, 'fe': 3516, 'readstown': 8131, 'niece': 6953, 'hopatcong': 4617, 'shada': 8913, 'hassoun': 4383, 'grace': 4113, 'fly': 3660, 'waves': 10766, 'klute': 5396, 'winifred': 10930, 'madera': 5996, 'sauce': 8695, 'airport': 379, 'parc': 7404, 'kolkheti': 5422, 'vengeance': 10532, 'ansonia': 600, 'murcof': 6737, 'killer': 5354, 'instinkt': 4855, 'chair': 1841, 'color': 2175, 'alana': 401, 'korean': 5432, 'osts': 7281, 'postman': 7796, 'crossroads': 2464, 'robyn': 8417, 'hitchcock': 4553, 'romantic': 8463, 'nike': 6975, 'tempo': 9842, 'insurrection': 4859, 'hampartsoum': 4311, 'limondjian': 5750, 'jared': 5015, 'hasselhoff': 4382, 'meze': 6426, 'roseville': 8502, 'meredith': 6394, 'louisa': 5885, 'corrine': 2338, 'baro': 960, 'grigorjewna': 4181, 'semenowitsch': 8849, 'lick': 5714, 'floor': 3650, 'em': 3204, 'jay': 5028, 'maxime': 6260, 'benin': 1099, 'maya': 6266, 'brit': 1464, 'tarpon': 9773, 'slut': 9182, '2031': 148, 'inheritors': 4834, 'harassed': 4337, 'pictures': 7616, 'each': 3052, 'went': 10811, 'antarctica': 605, 'gregory': 4170, 'ashes': 744, '1957': 74, 'niagara': 6931, 'sleeps': 9164, 'sierraville': 9054, 'connick': 2265, 'teide': 9826, 'clash': 2060, 'codes': 2138, 'loudon': 5882, 'timings': 10016, 'cracked': 2398, 'pitcairn': 7656, 'ottoville': 7292, 'located': 5815, 'computer': 2224, 'switzerland': 9683, 'breakers': 1426, 'emerado': 3208, 'tres': 10201, 'kamrar': 5219, 'chong': 1977, 'nee': 6862, 'spread': 9382, 'gospel': 4096, 'mj': 6547, 'cartwright': 1762, 'scarabaeus': 8721, 'llegando': 5803, 'screwed': 8778, 'naches': 6785, 'sierra': 9053, 'leone': 5664, 'beardyman': 1017, 'try': 10250, 'howling': 4659, 'werewolf': 10814, 'redington': 8171, 'rented': 8231, 'lips': 5772, 'experienced': 3396, 'embrace': 3206, '2013': 130, 'budokan': 1528, 'emoji': 3223, 'maryland': 6200, 'deasy': 2644, 'toy': 10140, 'elmer': 3190, 'bernstein': 1118, 'control': 2298, 'yemen': 11084, 'kaori': 5230, 'mochida': 6555, 'hash': 4379, 'kinbrae': 5361, 'hampshire': 4312, 'dyskografia': 3048, 'cave': 1801, 'bad': 882, 'seeds': 8827, 'televised': 9831, 'morality': 6641, 'reverie': 8287, 'nicer': 6937, 'hamel': 4302, 'belize': 1079, 'stadium': 9408, 'poetic': 7731, 'delft': 2693, 'oblivion': 7125, '2035': 152, 'dubach': 3008, 'douglass': 2946, 'barberville': 950, 'filipp': 3586, 'bedrossowitsch': 1049, 'kirkorow': 5375, 'sidnaw': 9051, 'virales': 10615, 'naomi': 6804, 'bedroom': 1048, 'whosoever': 10866, 'offend': 7156, 'diamondville': 2768, 'turk': 10290, 'sebastien': 8810, 'grainger': 4122, 'budapest': 1524, 'beacon': 1008, 'strabane': 9512, 'maximum': 6262, 'accidentally': 275, 'wynnedale': 11036, 'slane': 9150, 'haifa': 4265, 'wehbe': 10798, 'nickelsville': 6946, 'duson': 3035, 'grisham': 4189, 'mim': 6491, 'noew': 7024, 'dundee': 3027, 'repeating': 8234, 'hammer': 4307, 'using': 10456, 'object': 7124, 'bartok': 968, 'othappu': 7286, 'mask': 6213, 'prentice': 7838, 'rhames': 8304, 'madlib': 5999, 'invazion': 4882, 'prog': 7895, 'monsters': 6610, 'fantas': 3471, 'bobcat': 1286, 'bite': 1211, 'needmore': 6867, 'coaldale': 2119, 'bush': 1578, 'isles': 4935, 'bugs': 1532, 'bunny': 1550, 'nips': 7003, 'owes': 7320, 'sins': 9098, 'fathers': 3502, 'vertically': 10552, 'challenged': 1848, 'tarja': 9771, 'turunen': 10303, 'bean': 1013, 'leaf': 5610, 'kommeni': 5424, 'tin': 10020, 'anasa': 543, 'propuesta': 7915, 'alternativa': 480, 'lighthouse': 5729, 'letty': 5689, 'leonor': 5667, 'mendoza': 6384, 'imogene': 4770, 'sanchez': 8639, 'als': 475, 'het': 4492, 'om': 7200, 'liefde': 5721, 'gaat': 3839, 'handel': 4315, 'studies': 9557, 'cahoots': 1616, 'teens': 9821, 'beverley': 1149, 'martyn': 6192, 'cohesive': 2145, 'surprise': 9636, 'pump': 7953, 'neighbor': 6873, 'kloden': 5393, 'drejer': 2980, 'listas': 5778, 'petree': 7557, 'noko': 7030, 'dilvish': 2803, 'belarus': 1071, 'warning': 10732, 'banana': 928, 'granbury': 4126, 'clooney': 2100, 'freed': 3761, 'juneteenth': 5183, 'arena': 686, 'level': 5691, 'libre': 5709, 'eather': 3071, 'kerry': 5315, 'linnane': 5767, 'labworth': 5491, 'ethiopia': 3338, 'parables': 7395, 'wooden': 10979, 'ears': 3059, 'visalia': 10621, 'idaho': 4731, 'sarban': 8674, 'ninety': 6996, 'bradner': 1400, '79': 218, 'flint': 3646, '2020': 137, 'broadway-lafayette': 1475, 'daughters': 2613, 'antero': 609, 'manninen': 6103, 'playmaker': 7703, 'salade': 8608, 'plague': 7671, 'ruel': 8528, 'sport': 9374, 'pastime': 7439, 'prescription': 7840, 'unbelievable': 10386, 'frederick': 3759, 'cyclone': 2535, 'thelma': 9921, 'aoyama': 631, 'swift': 9673, 'ace': 280, 'saddle': 8586, 'shuffle': 9038, 'kokomo': 5421, 'metalblood': 6413, 'algeria': 432, 'based': 972, 'milk': 6474, 'milladore': 6477, 'ultimatum': 10372, 'places': 7670, 'macedonia': 5978, 'wayning': 10770, 'rabbit': 8021, 'raisins': 8061, 'secs': 8819, 'et': 3331, 'amandes': 494, 'since': 9082, 'a-z': 235, 'arranged': 727, 'indonesian': 4810, 'berry': 1121, 'wow': 11011, 'kid': 5346, 'bandits': 933, 'terrorism': 9879, 'preventable': 7852, 'catastrophe': 1789, 'sonja': 9275, 'enjoy': 3263, 'barre': 962, 'canfield': 1685, 'compound': 2220, 'fracture': 3733, 'applied': 656, 'linguistics': 5764, 'avantgarde': 830, 'mina': 6493, 'caputo': 1707, 'tourist': 10125, 'cabinet': 1603, 'karina': 5235, 'candy': 1683, 'sahuarita': 8593, 'monte': 6613, 'sereno': 8872, 'fairouz': 3443, 'sloane': 9177, 'nicaragua': 6935, 'peveril': 7562, 'brad': 1397, 'paisley': 7353, 'grantsburg': 4140, 'spaghetti': 9330, 'warehouse': 10724, 'catalina': 1788, 'delores': 2700, 'brandie': 1407, 'parksdale': 7414, 'bundrick': 1548, 'rosebud': 8494, '~': 11176, 'top-fifty': 10097, 'dennis': 2719, 'aviation': 837, 'nights': 6970, 'mornings': 6653, 'bosnia': 1354, 'herzegovina': 4487, 'ramy': 8081, 'ayach': 851, 'badass': 883, 'abominations': 259, 'slap': 9153, 'seaside': 8802, 'bombay': 1303, 'society': 9228, 'monro': 6606, 'homo': 4599, 'handbook': 4314, 'fun-punk': 3812, 'marlene': 6173, 'jermaine': 5058, 'fagan': 3433, 'switzer': 9682, 'restaraunt': 8261, 'clifton': 2089, 'fleischmanns': 3639, 'lavender': 5590, 'lace': 5495, 'clubbing': 2113, 'rice': 8325, 'hoping': 4622, 'nijinsky': 6973, 'belinda': 1078, 'dena': 2714, 'syria': 9700, 'musiri': 6752, 'subramania': 9574, 'hype': 4711, 'introducing': 4876, 'rahman': 8045, 'elizaveta': 3180, 'khripounova': 5336, 'solitude': 9244, 'carny': 1742, 'karin': 5234, 'dreijer': 2979, 'andersson': 553, 'flesh-colored': 3641, 'cavour': 1804, 'dee': 2668, 'regurgitation': 8190, 'bright': 1458, 'lion': 5770, 'tofy': 10059, 'az': 858, 'question': 8008, 'isaac': 4924, 'hayes': 4405, 'sweat': 9667, 'norfolk': 7045, 'entertaining': 3271, 'according': 278, 'mongolian': 6596, 'northway': 7056, 'hexum': 4497, 'saxophone': 8711, 'supremacy': 9627, 'ofelia': 7153, 'vivian': 10628, 'stanshall': 9427, 'michiru': 6443, 'yamane': 11062, 'kurious': 5469, 'jorge': 5133, 'norma': 7047, 'italy': 4947, 'digging': 2797, 'budayeen': 1525, 'electronica': 3152, 'ellington': 3185, 'chaparral': 1870, 'invasion': 4881, 'maps': 6128, 'wenham': 10809, 'woodsmen': 10984, 'dollar': 2892, 'bitch': 1210, 'julee': 5169, 'cruise': 2478, 'mist': 6533, 'chatschatrjan': 1892, 'becoming': 1044, 'royston': 8522, 'agate': 351, 'teh': 9823, 'telogia': 9835, 'kavanaughs': 5257, 'job': 5098, 'entry': 3280, 'sapin': 8668, 'lela': 5648, 'whether': 10837, '34': 180, 'annette': 588, 'selinsgrove': 8840, 'moron': 6657, 'crying': 2484, 'satisfied': 8692, 'rockin': 8430, 'roc': 8418, 'executioner': 3382, 'zez': 11158, 'camargo': 1647, 'dihan': 2801, 'slabbert': 9147, 'berowra': 1120, 'waters': 10754, 'tactics': 9716, 'pretty': 7851, 'takahashi': 9726, '55': 204, 'kjetil': 5388, 'vidar': 10581, 'haraldstad': 4336, 'entrenar': 3278, 'quiet': 8014, 'timour': 10019, 'moutsouraev': 6694, 'pangaea': 7379, 'literary': 5785, 'potato': 7799, 'peel': 7494, 'pie': 7619, 'outlaw': 7303, 'finland': 3605, 'mcnamara': 6310, 'nimal': 6985, 'mendis': 6383, 'victoria': 10576, 'banks': 939, 'draper': 2969, 'era': 3296, 'edison': 3097, 'khlong': 5335, 'phraya': 7600, 'beard': 1015, 'picasso': 7608, 'shahrum': 8924, 'kashani': 5246, 'vegas': 10519, 'monie': 6598, 'pilgrims': 7630, 'rayne': 8118, 'richards': 8328, 'aretha': 688, 'marcella': 6135, 'erma': 3302, 'rivera': 8383, 'plya': 7720, 'kancherla': 5221, 'gopanna': 4088, 'brazen': 1419, 'hecker': 4438, 'shenandoah': 8970, 'altyn-emel-nationalpark': 486, 'coin': 2148, 'shoe': 9002, 'bonaire': 1309, 'moonlight': 6632, 'gilluly': 3991, 'dungeonmaster': 3029, 'dio': 2818, 'ecola': 3077, 'a-hunting': 233, 'fighting': 3582, 'lapponia': 5554, 'flamenco': 3631, 'expresi': 3401, 'bald': 909, 'kaskade': 5247, 'episodes': 3288, 'musketeers': 6753, 'spears': 9341, 'vue': 10653, 'sawtooth': 8708, 'relentless': 8204, 'baxter': 997, 'specialist': 9344, 'brother': 1495, 'amt': 532, 'lakemoor': 5515, 'heartache': 4421, 'abbott': 243, 'paulette': 7462, 'wide-eyed': 10873, 'ignorant': 4743, 'seung': 8894, 'gi': 3969, 'moo': 6627, 'umatilla': 10375, 'colfax': 2157, 'extraordinary': 3406, 'patrolman': 7454, 'individuals': 4807, 'ecosystems': 3084, 'australian': 815, 'economic': 3081, 'shit': 8997, 'chowchilla': 1986, 'brady': 1401, 'lacy': 5498, 'impossible': 4773, 'fruit': 3802, 'worthy': 11008, 'hammett': 4309, 'julie': 5175, 'driscoll': 2992, 'carpathians': 1750, 'psychopathic': 7935, 'carnegie': 1739, 'science': 8752, 'fiction': 3566, 'novels': 7078, 'therese': 9932, 'clara': 2055, 'chinese': 1957, 'wikipedia': 10883, 'faced': 3423, 'tschetter': 10253, 'verona': 10548, 'bystrzyca': 1596, 'confusion': 2256, 'novena': 7081, 'nocturn': 7021, 'emile': 3213, 'beggar': 1060, 'fashion': 3496, 'satanas': 8686, 'legions': 5642, 'select': 8833, 'darling': 2599, 'rolf': 8452, 'healy': 4414, 'press': 7846, 'crossroad': 2463, 'bal': 905, 'ganesh': 3862, '72': 215, 'moa': 6551, 'anbessa': 547, 'cova': 2379, 'frisco': 3789, 'bank': 937, 'birta': 1199, 'limited': 5748, 'hurts': 4697, 'carmen': 1736, '29': 171, 'ecstatic': 3086, 'dangerous': 2580, 'olive': 7187, 'clontarf': 2099, 'claudine': 2069, 'kelsey': 5292, 'shelley': 8968, 'small': 9183, 'inside': 4850, 'twinkie': 10331, 'ruled': 8536, 'britannia': 1466, 'adeline': 314, 'apartment': 634, 'incredible': 4792, 'hulk': 4672, 'portman': 7782, 'beech': 1052, 'wayside': 10772, 'una': 10380, 'cabeza': 1601, 'sherlock': 8973, 'holmes': 4587, 'tuna': 10278, 'casserole': 1776, 'sirusho': 9105, 'peddling': 7491, 'prosperity': 7917, 'paducah': 7342, 'graduates': 4116, 'malibu': 6061, 'waconia': 10662, 'fickle': 3565, 'drumline': 3001, 'pet': 7549, 'cairo': 1620, 'zoo': 11168, 'canyon': 1695, 'fusion': 3831, 'fest': 3556, 'chipmunk': 1960, 'adventure': 329, 'cheapest': 1902, 'pay': 7474, 'darkest': 2595, 'ballard': 919, 'snowbound': 9211, '180': 57, 'jennie': 5052, 'won': 10968, 'gladys': 4024, 'pillar': 7631, 'bioruby': 1192, 'bury': 1575, 'tamagotchi': 9747, '64': 211, 'minna': 6502, 'mexican': 6423, 'woodcliff': 10978, 'crusher': 2481, 'wielding': 10877, 'bestiary': 1131, 'mentioned': 6387, 'smiles': 9190, 'fenton': 3545, 'molino': 6574, 'topton': 10104, 'clean': 2077, 'sober': 9221, 'ric': 8322, 'fierabracci': 3570, 'sebesky': 8811, 'refugee': 8181, 'limberlost': 5744, 'brandy': 1410, 'albums': 415, 'melly': 6369, 'makers': 6043, 'sailor': 8598, 'supers': 9623, 'testing': 9887, 'got': 4098, 'peyroux': 7563, 'rank': 8090, 'realization': 8137, 'danger': 2579, 'elsewhere': 3196, 'â': 11181, 'nico': 6948, 'shakti': 8929, 'believer': 1077, 'ricardo': 8324, 'villalobos': 10598, 'penthouse': 7515, 'whiteman': 10856, 'barchetta': 955, 'lemon': 5651, 'jefferson': 5044, 'allan': 447, 'tremonti': 10197, 'manadonese': 6076, 'maher': 6021, 'collision': 2172, 'sot': 9298, 'european': 3351, 'stringtown': 9539, 'apples': 653, 'estr': 3329, 'rodna': 8441, 'montana': 6611, 'tomohisa': 10077, 'yamashita': 11063, 'ideas': 4734, 'door': 2925, 'hat': 4385, 'topinabee': 10102, 'pe': 7477, 'ivy': 4959, 'page': 7347, 'egg': 3116, 'collecting': 2165, 'eyota': 3413, 'touches': 10122, 'lego': 5643, 'godlike': 4060, 'genius': 3928, 'guests': 4221, 'tullytown': 10275, 'wadsworth': 10665, 'luther': 5950, 'tha': 9899, 'funkee': 3816, 'homosapien': 4600, 'parents': 7407, 'premiering': 7836, 'memory': 6380, 'akers': 391, 'harder': 4344, 'plant': 7681, 'attack': 789, 'smashers': 9186, 'hows': 4660, 'lyons': 5960, 'oriel': 7259, 'allison': 458, 'heartbroken': 4424, 'im': 4761, 'jarvis': 5018, 'cocker': 2131, 'luckiest': 5925, 'duel': 3017, 'pakistan': 7354, 'proof': 7908, 'cierra': 2020, 'puerta': 7943, 'awakened': 841, 'rapids': 8097, 'roadhouse': 8394, 'anthony': 613, 'iha': 4745, 'swaziland': 9666, 'landmark': 5538, 'moffett': 6561, 'lure': 5948, 'nightfall': 6964, 'ply': 7719, 'rules': 8537, 'effie': 3114, 'joyal': 5152, 'celestial': 1817, 'hawk': 4401, 'hans': 4328, 'nilsson': 6984, 'shakira': 8928, 'semenovich': 8848, 'alchemyst': 417, 'immortal': 4767, 'nicholas': 6939, 'flamel': 3630, 'carencro': 1720, 'nicholaus': 6941, 'arson': 733, 'strong': 9546, 'primavera': 7861, 'barcelona': 954, 'dovre-nationalpark': 2949, 'eternally': 3334, 'fain': 3438, 'stroll': 9544, 'pork': 7771, 'maine': 6034, 'plain': 7673, 'sneetches': 9205, 'mayya': 6274, 'lunchtime': 5944, 'moldy': 6571, 'doda': 2880, 'calientes': 1635, 'descanso': 2732, 'infinito': 4823, 'bhoomi': 1161, 'geetha': 3914, 'vyechnyy': 10656, 'strannik': 9519, 'voyages': 10650, 'starlight': 9432, 'demotte': 2712, 'nightcall': 6962, 'surfer': 9632, 'snare': 9202, 'ghader': 3960, 'abdollahzadeh': 250, 'passenger': 7432, 'pilot': 7634, 'mound': 6684, 'kiara': 5341, 'cities': 2041, 'sundanese': 9607, 'dedicated': 2667, 'jla': 5093, 'trapped': 10175, 'careless': 1719, 'nuba': 7091, 'wideacre': 10874, 'those': 9963, 'z': 11130, 'selections': 8836, 'der': 2724, 'und': 10396, 'kalypso': 5214, 'aus': 811, 'wien': 10878, 'vonda': 10646, 'sanger': 8653, 'pause': 7467, 'bonneville': 1323, 'porter': 7779, 'wagoner': 10672, '2001': 118, 'mars': 6179, 'cie': 2017, 'ń': 11203, 'caseya': 1770, 'statistics': 9447, 'rhialto': 8308, 'marvellous': 6195, 'portrait': 7783, 'scandinavian': 8717, 'bonita': 1318, 'waffles': 10668, 'yauch': 11075, 'bleed': 1236, 'tenacious': 9848, 'pick': 7609, 'lambeth': 5524, 'iris': 4908, 'dement': 2704, 'operation': 7235, 'thunderbolt': 9980, 'bliss': 1245, 'yoakum': 11095, 'funtime': 3819, 'salt': 8622, 'jetta': 5072, 'lenny': 5660, 'leblanc': 5628, 'suffer': 9586, 'tatico': 9787, 'henriquez': 4466, 'bleeps': 1238, 'bloops': 1262, 'crossett': 2457, 'achilles': 281, 'tortoise': 10110, 'crucible': 2474, 'kitlope': 5385, 'conservancy': 2276, 'wartime': 10740, 'patient': 7446, 'bahrain': 896, 'capture': 1706, 'handover': 4320, 'portales': 7778, 'danny': 2584, 'carey': 1722, 'springtime': 9389, 'dickson': 2781, 'mccunn': 6286, 'trilogy': 10211, 'lictor': 5716, 'conker': 2260, 'reloaded': 8209, 'maryanne': 6199, 'per': 7520, 'yngve': 11093, 'ohlin': 7167, 'margaret': 6146, 'kelly': 5291, 'cosby': 2341, 'presents': 7843, 'cosnarati': 2343, 'emergency': 3210, 'zec': 11145, 'mitchinamecus': 6539, 'edie': 3095, 'brickell': 1450, 'falmouth': 3461, 'hungary': 4687, 'lightning': 5730, 'castaway': 1779, 'afghan': 338, 'doves': 2948, 'pythons': 7988, 'jeanette': 5036, 'skaggs': 9127, 'girlfriend': 4008, 'truffade': 10243, 'dorothy': 2933, 'oz': 7327, 'hut': 4701, 'overton': 7316, 'hemanta': 4457, 'kumar': 5463, 'mukhopadhyay': 6722, 'descendants': 2733, 'congeniality': 2257, 'louse': 5889, 'juniper': 5188, 'che': 1900, 'ë': 11190, 'platnum': 7686, 'elrow': 3193, 'goodland': 4081, 'easel': 3061, 'sandman': 8645, 'diabolico': 2765, 'barbiere': 951, 'fleet': 3637, 'umbrellas': 10376, 'cherbourg': 1917, 'owen': 7317, 'colombia': 2173, 'decides': 2661, 'finestone': 3600, 'gad': 3843, 'elbaz': 3141, 'suwanee': 9651, 'midfield': 6454, 'yossif': 11105, 'kobzon': 5415, 'ren': 8221, 'cebu': 1812, 'protected': 7918, 'past': 7436, 'mavis': 6256, 'intrepid': 4874, 'potter': 7801, 'deathly': 2648, 'hallows': 4291, 'cliff': 2087, '—': 11208, 'victini': 10574, 'reshiram': 8255, 'zekrom': 11148, 'gaudi': 3899, 'monifah': 6599, 'dry': 3004, 'prong': 7907, 'kent': 5302, 'seasons': 8804, 'rosco': 8490, 'gordon': 4091, 'sencha': 8852, 'seamus': 8794, 'heaney': 4415, 'collected': 2164, 'trivial': 10224, 'set': 8890, 'sail': 8596, 'gilgamesh': 3987, 'toward': 10128, 'scribblings': 8779, 'keeneland': 5275, 'donnelly': 2913, 'unraveling': 10426, 'kitchener': 5383, 'soudan': 9299, 'save': 8702, 'rum': 8538, 'canciones': 1676, 'lindas': 5755, 'mundo': 6732, 'baez': 890, 'grande': 4129, 'gina': 3997, 'schock': 8740, 'gabrial': 3841, 'mcnair': 6308, 'shutdown': 9039, 'eastport': 3066, 'oswego': 7283, 'ojo': 7170, 'amarillo': 497, 'elizabeth': 3178, 'suryavanshi': 9640, 'reklaw': 8197, 'discovery': 2835, 'papers': 7388, 'regional': 8186, 'freight': 3767, 'steele': 9459, 'alien': 436, 'breed': 1437, 'continues': 2292, 'spades': 9329, 'nearly': 6858, 'nashville': 6815, 'across': 288, 'guinea-bissau': 4225, 'creamed': 2415, 'eggs': 3118, 'territory': 9877, 'lepond': 5673, 'faces': 3424, 'kelso': 5293, 'walnut': 10701, '1914': 62, '1918': 63, 'corcovado': 2319, 'dumping': 3024, 'files': 3585, 'azerbaijan': 859, 'terrie': 9875, 'hypoluxo': 4712, 'laos': 5553, 'nest': 6892, 'grandson': 4136, 'never': 6906, 'transformers': 10169, 'generations': 3923, 'quebeck': 8003, 'spalding': 9332, 'roommate': 8476, 'bouvet': 1375, 'bougatsa': 1371, 'penn': 7513, 'he': 4408, 'allardt': 448, 'tailwind': 9722, 'balinese': 911, 'comunas': 2226, 'elites': 3175, 'commons': 2202, 'ircle': 4904, 'edda': 3088, 'delanson': 2690, 'citadel': 2040, 'grits': 4191, 'synthpop': 9698, 'tesh': 9881, 'friendesemana': 3782, 'angola': 572, 'strays': 9525, 'vegan': 10517, 'mothstorm': 6678, 'unarchigal': 10383, 'vodka': 10634, 'kunal': 5464, 'ganjawala': 3866, 'curacao': 2510, 'spinnin': 9362, 'czarna': 2540, 'dziewczyna': 3049, 'activists': 293, 'biology': 1191, 'issues': 4942, 'hunting': 4691, 'gathering': 3897, 'petersville': 7554, 'asia': 750, 'ripley': 8370, 'abderrahmane': 248, 'abdelli': 247, 'longwave': 5845, 'eternal': 3333, 'braindead': 1403, 'megaphone': 6354, 'kill': 5351, 'goug': 4107, 'è': 11187, 'laneville': 5543, 'ramos': 8079, 'janice': 5003, 'gonzales': 4078, 'mineola': 6498, 'winner': 10932, 'caravan': 1710, 'tania': 9756, 'vlada': 10631, 'divljan': 2858, 'rascals': 8102, 'woo': 10975, 'hiromitsu': 4542, 'agatsuma': 352, 'monique': 6601, 'arlene': 707, 'jami': 4993, 'huxley': 4704, 'nicholasville': 6940, 'nightwork': 6971, 'totowa': 10118, 'blanca': 1227, 'galsoft': 3850, 'linux': 5768, 'guadeloupe': 4211, 'cat': 1786, 'mauritius': 6253, 'croix': 2452, 'ritchie': 8377, 'valens': 10476, 'icac': 4721, 'investigators': 4888, 'ronski': 8473, 'tires': 10029, 'seward': 8903, 'community': 2203, 'shabbona': 8911, 'bomb': 1301, 'pecan': 7490, 'coteau': 2348, 'alfred': 429, 'furious': 3823, 'irish': 4909, 'heartbeat': 4422, 'trapeo': 10174, 'kikas': 5348, 'jacksonville': 4979, 'progress': 7898, 'sometimes': 9258, 'passing': 7433, 'newton': 6920, 'prefereably': 7831, 'shambaugh': 8933, 'neil': 6877, 'caveman': 1802, 'yellowstone': 11083, 'slovak': 9178, 'maria': 6150, 'magdalena': 6008, 'thacker': 9900, 'ronald': 8470, 'isley': 4936, 'emperors': 3227, 'thyatis': 9984, 'alphatia': 471, 'dyke': 3045, 'trip-hop': 10215, 'candi': 1678, 'staton': 9448, 'alberton': 410, 'bachata': 872, 'released': 8202, 'custar': 2525, 'manuela': 6119, 'yvonne': 11129, 'bet': 1132, 'awards': 843, 'hillview': 4525, 'epiphany': 3286, 'connor': 2267, 'upstairs': 10442, 'bomberman': 1305, 'vinson': 10608, 'inez': 4815, 'electronics': 3153, 'hannah': 4327, 'chelsea': 1911, 'botswana': 1365, 'seventeenth': 8899, 'festoni': 3558, 'rey': 8299, 'somwhere': 9265, '165': 52, 'nairobi': 6789, 'hier': 4509, 'encore': 3236, 'greydon': 4177, 'malcolm': 6052, 'sympathy': 9690, 'rhoads': 8309, 'front': 3796, 'smoke': 9194, 'joy': 5151, 'nilo': 6983, 'judas': 5160, 'kerrick': 5314, 'snake': 9200, 'battlement': 991, 'dougan': 2941, 'shirts': 8996, 'steamboat': 9456, 'iceland': 4724, 'aap': 238, 'aise': 382, 'hymn': 4709, 'sligo': 9172, 'lantern': 5551, 'johnstown': 5116, 'elmore': 3191, 'retro': 8275, 'range': 8088, 'gildersleeve': 3985, 'pmd': 7724, 'quantum': 7997, 'escapes': 3311, 'mandaean': 6085, 'cary': 1764, 'brothers': 1497, 'gym': 4246, 'making': 6045, 'bettles': 1144, 'aruba': 739, 'happiest': 4332, 'lives': 5793, 'emmanuel': 3219, 'hide': 4507, 'medici': 6337, 'seal': 8791, 'myself': 6772, 'camden': 1651, 'phalcon': 7564, 'melba': 6363, 'ruskin': 8552, 'magnifico': 6016, 'michele': 6439, 'hollow': 4584, 'bradbury': 1398, 'frenier': 3769, 'laverne': 5592, 'thick': 9936, 'limey': 5746, 'astor': 767, 'piazzolla': 7607, 'jewell': 5074, 'cemetery': 1821, 'sos': 9297, 'kentaro': 5303, 'ain': 369, 'brockway': 1477, 'thai': 9901, 'heresy': 4475, 'choir': 1972, 'tei': 9825, 'visible': 10622, 'wings': 10928, 'andes': 554, 'jimmie': 5087, 'noone': 7039, 'charleston': 1882, 'banc': 929, 'arguin': 693, 'brats': 1417, 'battalions': 987, 'release': 8201, 'reuben': 8281, 'igor': 4744, 'nikolayev': 6980, 'join': 5119, 'dots': 2939, 'b-sides': 862, 'rarities': 8101, 'burgers': 1555, 'gasport': 3889, 'brewing': 1446, 'pasta': 7437, 'franklinville': 3749, 'parable': 7394, 'sower': 9322, 'rocky': 8438, 'shows': 9032, 'boycott': 1387, 'eminence': 3216, 'julian': 5173, 'avispa': 839, 'secour': 8815, 'knobel': 5402, 'dekalb': 2686, 'scholarmate': 8741, 'lordi': 5860, 'irreconcilable': 4915, 'differences': 2793, 'ilse': 4760, 'delange': 2689, 'swiss': 9678, 'lu': 5914, 'bing': 1186, 'nao': 6803, 'kawakita': 5259, 'charlene': 1880, 'pack': 7337, 'porcaro': 7768, 'behind': 1066, 'unpleasantness': 10423, 'bellona': 1085, 'eulogy': 3347, 'spade': 9328, 'gamer': 3857, 'blaydon': 1234, 'couple': 2369, 'celtic': 1820, 'organization': 7256, 'post-punk': 7795, 'count': 2360, 'von': 10645, 'cosels': 2342, 'obsession': 7129, 'atla': 777, 'allows': 460, 'fun': 3811, 'carman': 1734, 't-rex': 9708, 'cuisines': 2496, 'axis': 849, 'irritating': 4916, 'balance': 907, 'timing': 10015, 'wardville': 10722, 'vichyssoise': 10567, 'dolce': 2890, 'plkay': 7712, 'fancy': 3469, 'meditate': 6341, 'tries': 10208, 'marry': 6178, 'maker': 6042, 'argumentative': 694, 'hineston': 4532, 'method': 6418, 'mozart': 6706, 'deepwater': 2673, 'hoonah': 4614, 'purdy': 7966, 'baotianman': 943, 'eighty': 3130, 'elsa': 3194, 'muscle': 6746, 'sulle': 9600, 'sathya': 8689, 'ana': 536, 'pain': 7350, 'perdu': 7523, 'cincinnati': 2023, 'praise': 7819, 'stepmother': 9469, 'spinna': 9361, 'masks': 6214, '52': 201, 'bowie': 1378, 'beeb': 1051, 'cameroon': 1656, 'carnik': 1740, 'feed': 3527, 'pelham': 7501, 'woodston': 10985, 'cita': 2039, 'dates': 2610, 'grainola': 4123, 'sat': 8684, 'saison': 8603, 'thrones': 9973, '1950': 67, 'nile': 6982, 'trotamundos': 10233, 'atlantis': 779, 'terre': 9872, 'engloutie': 3261, 'belle': 1083, 'plaine': 7674, 'catchphrase': 1791, 'tiger': 9999, 'shiva': 8998, 'option': 7240, 'testament': 9884, 'orpheus': 7270, 'tanana': 9753, 'mohammed': 6564, 'abdu': 251, 'linda': 5754, 'strawberry': 9523, 'chingy': 1959, 'garrix': 3881, 'pee': 7493, 'russell': 8554, 'frewen': 3775, 'least': 5622, 'boston': 1357, 'crows': 2471, 'liberia': 5707, 'conan': 2228, 'ahbez': 362, 'slippery': 9176, 'gober': 4054, 'nozomi': 7085, 'tsuji': 10264, 'crosswind': 2465, 'pizza': 7660, 'playa': 7689, 'strolghino': 9543, 'sandstone': 8648, 'boomtown': 1334, 'slinger': 9175, 'pizzas': 7662, 'brookwood': 1492, 'kaneville': 5223, 'amenia': 508, 'edith': 3099, 'coventry': 2382, 'marie': 6154, 'eletro': 3163, 'br': 1393, 'vicki': 10570, 'maki': 6044, 'ohguro': 7165, 'extremely': 3408, 'itsu': 4952, 'sleepy': 9165, 'lagoon': 5506, 'kurstin': 5471, 'pendleton': 7508, 'twas': 10310, 'chen': 1915, 'jiafeng': 5077, 'dazey': 2628, 'ebony': 3073, 'cage': 1614, 'apothecary': 646, 'rx': 8566, 'reckoning': 8154, 'status': 9450, 'quo': 8016, 'teddy': 9816, 'rencor': 8224, 'craig': 2405, 'tron': 10227, 'reconfigured': 8156, 'kinder': 5364, 'ulterior': 10369, 'motive': 6681, 'tsubasa': 10262, 'imai': 4764, 'nawang': 6841, 'khechog': 5333, '35': 181, 'brumley': 1504, 'odd': 7145, 'maimi': 6032, 'yajima': 11058, 'operaci': 7234, 'bikini': 1179, 'yoshimi': 11104, 'battles': 992, 'hip-hop': 4534, 'robots': 8416, 'yorkston': 11102, 'numbers': 7099, 'munia': 6734, 'primitive': 7863, 'meherrin': 6357, 'leonville': 5669, 'monterey': 6615, 'e-type': 3051, 'hurstville': 4696, 'mafia': 6006, 'selling': 8842, 'sims': 9078, 'onion': 7216, 'halsey': 4295, 'innovations': 4845, 'kokia': 5420, 'savage': 8700, 'satire': 8690, 'shadowplay': 8918, 'becca': 1037, 'caxtons': 1806, 'eclectic': 3076, 'valentyne': 10478, 'seaman': 8793, 'ethiopian': 3339, 'thrash': 9967, 'johto': 5117, 'journeys': 5147, 'layhigh': 5601, 'acta': 290, 'mathematicae': 6231, 'applicatae': 655, 'sinica': 9097, 'eunice': 3348, 'elisa': 3172, 'coolio': 2310, 'branton': 1411, 'catherine': 1795, 'pershing': 7538, 'chickens': 1936, 'todos': 10057, 'macmaster': 5986, 'burnside': 1568, 'investigating': 4887, 'dancefloor': 2573, 'meditations': 6342, 'mcphee': 6312, 'thenaruvi': 9925, 'lindsey': 5758, 'cardinale': 1714, 'toi': 10062, 'saviour': 8704, 'tatra-nationalpark': 9790, 'freud': 3773, 'demolished': 2707, 'sanilac': 8655, 'petroglyphs': 7559, 'tracy': 10151, 'khalil': 5328, 'utopian': 10464, 'shagrath': 8921, 'sirivantha': 9104, 'cochran': 2127, 'bullets': 1541, 'toni': 10086, 'cottura': 2353, 'piety': 7624, 'punjabi': 7958, 'vilma': 10600, 'tourte': 10126, 'steady': 9452, 'bebob': 1036, 'venedig': 10528, 'regen': 8183, 'maxwell': 6264, 'canci': 1675, 'lease': 5621, 'kanwar': 5229, 'kronos': 5451, 'yui': 11118, 'wickens': 10870, 'v-the': 10468, 'mythology': 6780, 'winnebago': 10931, 'mascotte': 6208, 'train': 10160, 'ride': 8338, 'phantom': 7567, 'undatakerz': 10397, 'mccrea': 6284, 'misato': 6526, 'watanabe': 10747, 'lilacs': 5738, 'peaceful': 7480, 'info': 4827, 'stoneage': 9498, 'romeos': 8466, 'ultima': 10370, 'prophet': 7911, 'capicollo': 1698, 'kit': 5380, 'ilene': 4756, 'aisha': 383, 'didn': 2785, 'nobody': 7017, 'tremont': 10196, 'nadine': 6786, 'sherrie': 8976, 'oliver': 7188, 'signals': 9060, 'belief': 1075, 'early': 3057, 'england': 3258, 'horseshoe': 4636, 'dansevise': 2586, 'ebi': 3072, 'ringgold': 8361, 'continue': 2291, 'solange': 9240, 'village': 10597, 'deposit': 2721, 'caetano': 1609, 'veloso': 10524, 'arkinda': 705, 'omnipresent': 7206, 'fimd': 3593, 'lime': 5745, 'manack': 6075, 'dickinsonian': 2780, 'ethics': 3337, 'skid': 9134, 'row': 8516, 'ways': 10771, 'ivan': 4956, 'mane': 6090, 'jarnowick': 5016, 'gota': 4099, 'khujo': 5337, 'innocence': 4842, 'koichi': 5417, 'domoto': 2906, 'blonde': 1255, 'peking': 7498, 'ugliness': 10363, 'harveysburg': 4375, 'chab': 1836, 'ashford': 745, 'whole': 10864, 'hears': 4419, 'hydration': 4707, 'complots': 2218, 'motivation': 6680, 'zeebra': 11146, 'frisbee': 3788, 'hippie': 4536, 'preacher': 7823, 'coats': 2122, 'fernwood': 3551, 'svalbard': 9655, 'mayen': 6268, 'spenard': 9354, 'mighty': 6462, 'fortress': 3714, 'cristina': 2442, 'meriton': 6398, 'tallinn': 9745, 'caliente': 1634, 'conflicts': 2255, 'army': 719, 'esperanza': 3316, 'tommie': 10075, 'column': 2185, 'selektor': 8837, 'slang': 9151, 'unconventional': 10394, 'greyest': 4178, 'dared': 2591, 'contract': 2294, 'opinion': 7237, 'mystical': 6777, 'owens': 7318, 'birdland': 1196, 'self': 8839, 'westlake': 10825, 'jigs': 5078, 'reels': 8175, 'cousin': 2377, 'bette': 1141, 'molise': 6575, 'ozma': 7330, 'beef': 1054, 'weapons': 10775, 'leap': 5616, 'appreciation': 657, 'folksy': 3675, 'apocalisse': 640, 'liza': 5797, 'oumarova': 7295, 'argent': 689, 'creature': 2422, 'miyavi': 6543, 'pleasant': 7707, 'dale': 2560, 'pavarotti': 7469, 'choucroute': 1984, 'dies': 2790, 'submerged': 9573, 'slept': 9169, 'ende': 3242, 'precinct': 7825, 'anatone': 546, 'student': 9556, 'demonstration': 2710, 'galena': 3849, 'ocelot': 7134, 'wannabe': 10714, 'spice': 9357, 'reinvented': 8195, 'fame': 3464, 'cyclists': 2534, 'geese': 3913, 'construction': 2282, 'committee': 2200, 'kano': 5225, 'glace': 4017, 'atmosphere': 781, 'repent': 8235, 'replenish': 8236, 'cretan': 2431, 'akhtar': 392, 'sadmani': 8588, 'circleville': 2033, 'rahsaan': 8046, 'patterson': 7455, 'moulin': 6683, 'muncie': 6731, 'drowning': 2997, 'sight': 9058, 'aria': 697, 'patrica': 7449, 'radical': 8032, 'seeing': 8829, 'caught': 1799, '-week': 13, 'cholesterol': 1974, 'cure': 2511, 'confidence-man': 2252, 'cone': 2245, 'killarney': 5352, 'goodbye': 4080, 'maunabo': 6249, 'sombrero': 9253, 'fallout': 3459, 'japanese': 5010, 'georgetown': 3937, 'cupcake': 2508, 'keller': 5285, 'myrtle': 6771, 'babylon': 868, 'anthology': 612, 'companion': 2208, 'already': 474, 'pt': 7936, 'prey': 7855, 'jean-georges': 5035, 'carne': 1738, 'pizzaiola': 7661, 'dorothea': 2932, 'wanderer': 10710, 'jets': 5071, 'comprehensive': 2221, 'knowledge': 5409, 'archive': 677, 'carpet': 1753, 'tragedy': 10155, 'border': 1344, 'thekra': 9919, 'ewen': 3378, 'brittney': 1470, 'omega': 7204, 'burh': 1557, 'ø': 11199, 'ns': 7086, 'ernie': 3304, 'rockholds': 8428, 'kingfisher': 5369, 'monks': 6605, 'thelema': 9920, 'zorro': 11169, 'sioux': 9100, 'tramp': 10164, 'lobby': 5810, 'loyde': 5909, 'foreclosure': 3698, 'neylandville': 6924, 'tobymac': 10049, 'indiespensables': 4805, 'prompton': 7906, 'hironobu': 4543, 'kageyama': 5203, 'oaklawn': 7119, 'almost': 464, 'gyrls': 4248, 'holla-day': 4580, 'anders': 551, 'eifel': 3123, 'doomsters': 2922, 'dora': 2927, 'cock': 2129, 'bull': 1539, 'ramey': 8076, 'licorice': 5715, 'mckechnie': 6300, 'pauvres': 7468, 'riches': 8330, 'pan': 7374, 'mei': 6358, 'rivers': 8385, 'sexy': 8907, 'health': 4412, 'rio': 8367, 'meyer': 6425, 'marva': 6194, 'barbara': 947, 'racionais': 8028, 'qatar': 7990, 'steinway': 9462, 'gnocchi': 4050, 'owenyo': 7319, 'earls': 3056, 'lucille': 5922, 'honeysuckle': 4605, 'enkitta': 3264, 'mothathe': 6674, 'revolutions': 8296, 'arp': 726, 'forecase': 3695, 'inverness': 4885, 'spoiler': 9369, 'denniz': 2720, 'feldman': 3535, 'naseer': 6813, 'shamma': 8935, 'grows': 4205, 'augie': 802, 'atomic': 784, 'southwest': 9318, 'gearhart': 3908, 'blurred': 1273, 'crusade': 2479, 'crate': 2407, 'diggers': 2796, 'anonymous': 597, 'winger': 10927, 'naguabo': 6787, 'heyy': 4499, 'babyy': 869, 'covenant': 2381, 'witchcraft': 10949, 'paganism': 7346, 'pumping': 7954, 'raytown': 8119, 'encyclopedia': 3239, 'magica': 6012, 'nosdam': 7058, 'torrey': 10107, 'pines': 7642, 'shooter': 9010, 'outsiders': 7309, 'drifting': 2989, 'bobby': 1285, 'wittig': 10956, 'verden': 10539, 'profil': 7892, 'amina': 517, 'asleep': 754, 'nurse': 7104, 'garfunkel': 3874, '308': 175, 'ch': 1835, 'many': 6123, 'loneliness': 5838, 'runner': 8545, 'criminal': 2438, 'criminology': 2439, 'neva': 6903, 'maggie': 6010, 'parker': 7410, 'showtime': 9034, 'arsho': 732, 'roseau': 8493, 'boners': 1315, 'onaga': 7210, 'maisry': 6038, 'jewel': 5073, 'lonely': 5839, 'todesfalle': 10054, 'highlands': 4514, 'dobermans': 2870, 'verdery': 10540, 'screen': 8775, 'souvenirs': 9319, 'shangha': 8938, 'ï': 11192, 'rosenbaum': 8499, 'ringo': 8364, 'sheena': 8962, 'greenback': 4161, 'opening': 7231, 'engadget': 3252, 'bachman': 875, 'bumble': 1544, 'bee': 1050, 'slim': 9173, 'sewickley': 8904, 'luke': 5936, 'fortus': 3716, 'toto': 10117, 'bashful': 974, 'oswald': 7282, 'korra': 5433, 'stevan': 9478, 'faddy': 3429, 'whispering': 10845, 'willows': 10908, 'nigeria': 6957, 'casey': 1769, 'lucinda': 5923, 'violet': 10612, 'dianne': 2771, 'riddim': 8336, 'driven': 2995, '54': 203, 'humanity': 4676, 'letha': 5685, 'carpenter': 1751, 'syreeta': 9699, 'shooting': 9011, 'silvio': 9072, 'sabo': 8579, 'loathing': 5809, 'campaign': 1661, 'thale': 9903, 'yarbrough': 11072, 'aspinwall': 755, 'wuthering': 11027, 'takes': 9731, 'takuro': 9735, 'keachi': 5266, 'chariot': 1879, 'apollo': 642, 'players': 7692, 'script': 8780, 'cawker': 1805, 'yumi': 11122, 'matsuzawa': 6239, 'keren': 5311, 'peles': 7500, 'melbourne': 6364, 'device': 2755, 'appleyard': 654, 'joanna': 5097, 'freshwater': 3772, 'wikluh': 10884, 'survey': 9637, 'renee': 8226, 'sanders': 8643, 'ankimo': 582, 'metallica': 6415, 'telemark': 9829, 'nevado': 6905, 'cruces': 2472, 'tholireyi': 9951, 'gadichindi': 3844, 'pheba': 7570, 'rivalry': 8381, 'v': 10467, 'rolls': 8456, 'inthanon': 4870, 'friesland': 3786, 'joplin': 5131, 'walks': 10691, 'walls': 10698, 'bagels': 892, 'published': 7939, 'jamesedition': 4992, 'xanadu': 11043, 'universum': 10417, '1980': 95, 'kahn': 5205, '60': 209, '41': 189, 'opus': 7241, 'multiversity': 6726, 'frog': 3793, 'birdsong': 1198, 'comer': 2191, 'terminal': 9868, 'redby': 8168, 'aire': 375, 'filthy': 3592, 'lucre': 5927, 'hicks': 4505, 'harkes': 4354, 'flats': 3635, 'pier': 7621, 'fell': 3538, 'moneta': 6593, 'retrovisor': 8276, 'm-cabi': 5964, 'cale': 1627, 'wather': 10756, 'cuan': 2489, 'dubh': 3009, 'drilseach': 2990, 'clothes': 2108, 'kaye': 5263, 'char': 1875, 'wine': 10923, 'desserts': 2741, 'ashmore': 749, 'concord': 2239, 'grabsteinland': 4112, 'improvisatore': 4777, 'directions': 2824, '129': 39, 'breezy': 1439, 'gucci': 4216, 'tata': 9783, 'janamanchi': 4997, 'seshadri': 8887, 'sarma': 8680, 'ê': 11189, 'nationale': 6828, 'davy': 2619, 'crockett': 2448, 'nithyasree': 7006, 'mahadevan': 6017, 'basic': 977, 'goof': 4086, 'mick': 6444, 'marin': 6157, 'mahatma': 6020, 'gandhi': 3861, 'chucky': 2008, 'sneaky': 9204, 'utley': 10462, 'xandee': 11044, 'deenanath': 2671, 'mangeshkar': 6092, 'mandela': 6086, 'authorised': 818, 'mondamin': 6589, 'osborne': 7276, 'conrey': 2272, 'keisha': 5281, 'colleague': 2162, 'sturgis': 9568, 'entrevistas': 3279, 'moosic': 6637, 'compact': 2207, 'proposal': 7914, 'kickboxer': 5345, 'druid': 2999, 'augustine': 806, 'welch': 10803, 'specialises': 9343, 'protein': 7919, 'travels': 10183, 'lao': 5552, 'swine': 9676, 'scrapple': 8768, 'harriett': 4363, 'deanne': 2641, 'olton': 7195, 'bernardsville': 1116, 'putting': 7981, 'dobinson': 2871, 'harding': 4348, 'brokaw': 1478, 'turtle': 10301, 'barnum': 959, 'granddaughter': 4128, 'winbush': 10913, 'searchlights': 8797, 'collector': 2168, 'concrete': 2240, 'pearl': 7487, 'cleopatra': 2083, 'vasilis': 10510, 'tsitsanis': 10258, 'tmpgenc': 10040, 'myths': 6781, 'buddhists': 1526, 'aroostook': 724, 'oshin': 7278, 'tapes': 9765, 'creator': 2421, 'dean': 2638, 'phinizy': 7586, 'swamp': 9660, 'wheesung': 10834, 'block': 1250, 'brochure': 1476, 'soil': 9238, 'badmeaningood': 886, 'jaime': 4986, 'dillard': 2802, 'putnam': 7977, 'armageddon': 709, 'cedar': 1814, 'dico': 2782, 'chain': 1839, 'events': 3363, 'moores': 6635, 'rhodes': 8312, 'comertown': 2192, 'fuca': 3805, 'purcell': 7964, 'grigory': 4182, 'leps': 5674, 'klose': 5395, 'adelaide': 312, 'louder': 5881, 'bombs': 1306, 'nat': 6818, 'stuckey': 9555, 'deron': 2728, 'ledbury': 5631, 'calliste': 1644, 'sensations': 8858, '1945': 66, 'kunnon': 5465, 'syy': 9703, 'cazenovia': 1809, 'ca': 1598, 'ginger': 3999, 'pooley': 7759, 'putesky': 7976, 'isle': 4934, 'deed': 2669, 'paksenarrion': 7355, 'everlast': 3366, 'pekin': 7497, 'rathinirvedam': 8108, 'elitsa': 3176, 'todorova': 10056, 'encino': 3235, 'meatcake': 6331, 'balkan': 912, 'rhapsodies': 8305, '78': 217, 'measures': 6326, 'mullen': 6724, 'battista': 988, 'guadagnini': 4210, 'wayne': 10769, 'raney': 8087, 'feels': 3531, 'provinciale': 7925, 'airbnb': 374, 'stu': 9551, 'burnout': 1566, 'robb': 8401, 'softly': 9235, 'childersburg': 1941, 'townes': 10134, 'zandt': 11141, 'sisterhood': 9107, 'kin': 5360, 'tchaikovsky': 9799, 'marko': 6169, 'desantis': 2731, 'socrates': 9230, 'environment': 3281, 'wedlock': 10788, 'katharine': 5250, 'trash': 10177, 'darnestown': 2601, 'mediod': 6340, 'ac': 268, 'stico': 9486, 'restaurantin': 8264, 'perrytown': 7536, 'candice': 1679, 'nichole': 6942, 'cristo': 2443, 'crocus': 2449, 'apparatus': 649, 'bhoot': 1162, 'cascading': 1767, 'waterfall': 10753, 'abo': 257, 'masada': 6202, 'unknown': 10418, 'wally': 10700, 'bastian': 981, 'wanted': 10717, 'erykah': 3307, 'badu': 888, 'zwanzig': 11175, 'zw': 11174, 'ö': 11198, 'lf': 5699, 'bowman': 1382, 'thornbury': 9959, 'chae': 1838, 'yeon': 11086, 'intrigue': 4875, 'mood': 6628, 'meditative': 6343, 'amour': 529, 'shesher': 8979, 'kobita': 5414, 'revisited': 8291, 'burning': 1564, 'pioneers': 7647, '1977': 92, 'bitty': 1213, 'mclean': 6306, 'simply': 9077, 'toxicology': 10139, 'environmental': 3282, 'mamie': 6072, 'fisk': 3620, '69': 212, 'fury': 3829, 'doll': 2891, 'kathrine': 5252, 'smithville': 9193, 'voyage': 10649, 'treader': 10186, 'tarts': 9777, 'chamillionaire': 1854, 'lina': 5751, 'bailey': 898, 'stubborn': 9553, 'kinda': 5363, 'fellow': 3539, 'amott': 528, 'monika': 6600, 'silveria': 9068, 'ryuichi': 8572, 'kawamura': 5260, 'otsego': 7290, 'newts': 6922, 'homer': 4595, 'preminchi': 7837, 'choodu': 1978, 'hamedi': 4301, 'devils': 2759, 'den': 2713, 'brazil': 1420, 'keyes': 5321, 'summit': 9603, 'harsh': 4368, 'contigo': 2290, 'distancia': 2846, 'somi': 9261, 'pearce': 7486, '157': 48, 'riverside': 8386, 'avenue': 834, 'humor': 4679, 'miguelito': 6463, 'charting': 1886, 'verdure': 10542, 'bloom': 1261, 'elma': 3189, 'cemil': 1822, 'bey': 1153, 'virginian': 10618, 'mere': 6393, 'lapsed': 5555, 'walsh': 10703, 'medford': 6335, 'essie': 3323, 'tonya': 10090, 'parts': 7426, 'apple': 651, 'reva': 8283, 'bernadine': 1114, 'trade': 10153, 'evocation': 3376, 'arcane': 672, 'dominion': 2904, 'pat': 7441, 'edwyn': 3110, 'collins': 2171, 'tightrope': 10001, 'dancer': 2575, 'elisabeth': 3173, 'booty': 1342, 'wastedagain': 10746, 'mccartney': 6279, 'boyertown': 1388, 'slaughter': 9156, 'aflame': 340, 'orford': 7253, 'dimensional': 2805, 'sniper': 9207, '1968': 84, '2112': 160, 'rwanda': 8565, 'faget': 3434, 'meers': 6349, 'jessie': 5066, 'muzika': 6766, 'za': 11131, 'decu': 2666, 'battlestations': 993, 'maze': 6275, 'vintage': 10609, '74': 216, 'sammet': 8632, 'burkettsville': 1559, 'rhoda': 8310, 'roxanne': 8517, 'groesbeck': 4194, 'psycho': 7932, 'petar': 7550, 'webley': 10785, 'stookey': 9501, 'receipt': 8150, 'dermatology': 2727, 'calico': 1633, 'feinstein': 3534, 'resort': 8258, 'shari': 8946, 'donut': 2916, 'roadrunner': 8395, 'rec': 8148, 'visual': 10627, 'audio': 799, 'sensory': 8861, 'racing': 8027, 'conducting': 2244, 'grave': 4147, 'engaged': 3254, 'unidentified': 10409, 'minority': 6507, 'report': 8237, 'riddlesburg': 8337, 'karusellen': 5244, 'huns': 4688, 'irv': 4918, 'gotti': 4103, 'murderers': 6740, 'mojave': 6567, 'phone': 7594, 'booth': 1340, 'managing': 6079, 'goodreader': 4083, 'moment': 6580, 'vladimir': 10632, 'vysotski': 10657, 'dressed': 2985, 'moran': 6642, 'gamesradar': 3859, 'converging': 2301, 'conspiracies': 2280, 'gastronomy': 3891, 'trying': 10251, 'remote': 8220, 'nurture': 7107, 'strasburg': 9520, 'elk': 3182, 'bathroom': 984, 'esquivando': 3318, 'charcos': 1877, 'shootings': 9012, 'remembrance': 8214, 'cocuy': 2135, 'cobbler': 2125, 'ladyhawke': 5501, 'lottery': 5878, 'screamplay': 8773, 'murph': 6741, 'licensed': 5712, 'paly': 7369, 'cabin': 1602, 'shaina': 8925, 'magdayao': 6009, 'pillars': 7632, 'wisdom': 10945, 'rodriguez': 8443, 'sveta': 9657, 'ljubav': 5801, 'bluffs': 1270, 'tarkan': 9772, 'madrugando': 6002, 'elkie': 3183, 'brooks': 1491, 'minutos': 6512, 'half-life': 4278, 'varnado': 10507, 'estonia': 3328, 'ivory': 4958, 'cleo': 2082, 'lockwood': 5819, 'cradle': 2401, 'robbers': 8403, 'mcentee': 6290, 'putrid': 7979, 'sorcery': 9292, 'needham': 6864, 'happened': 4331, 'hossein': 4638, 'alizadeh': 442, 'bouchon': 1369, 'tonga': 10084, 'mclaurin': 6305, 'gougoush': 4108, 'revived': 8293, 'yamhill': 11066, 'harel': 4352, 'skaat': 9125, 'hooven': 4615, 'lithuania': 5786, 'gillespie': 3990, 'gestures': 3951, 'devious': 2760, 'public': 7938, 'essential': 3321, 'jacksons': 4978, 'georgiev': 3939, 'kalica': 5209, 'push': 7973, 'button': 1592, 'mahwah': 6023, 'mus': 6745, 'kerbridge': 5310, 'capricorn': 1703, 'hush': 4700, 'hopeless': 4620, 'szahram': 9704, 'jeremy': 5057, 'taggart': 9717, 'radhae': 8031, 'unakku': 10381, 'kobam': 5413, 'aagathadi': 236, 'caps': 1704, 'pow': 7805, 'mia': 6434, 'recognition': 8155, 'niney': 6997, 'observer': 7128, 'petti': 7561, 'squad': 9394, 'yuna': 11124, 'ito': 4950, 'rods': 8444, 'dido': 2786, 'oblong': 7126, 'karnataka': 5238, 'conquest': 2270, 'cab': 1599, 'darwin': 2605, 'robinson': 8412, 'hornblower': 4629, 'indies': 4803, 'keytesville': 5324, 'inventive': 4884, 'nude': 7094, 'mg': 6430, 'visionary': 10623, 'jacinto': 4970, 'follow': 3677, 'camel': 1654, 'pollock': 7749, 'chandranath': 1860, 'germantown': 3946, 'camdeboo-nationalpark': 1650, 'orphan': 7269, 'wait': 10677, 'standard': 9422, 'darker': 2594, 'cricket': 2434, 'sushis': 9645, 'africana': 343, 'panisses': 7381, 'naytahwaush': 6843, 'show-biz': 9026, 'shrunk': 9036, 'klaus': 5391, 'badelt': 884, 'solution': 9249, 'stalinism': 9417, 'bohemia': 1295, 'shirley': 8995, 'horn': 4628, 'kaffir': 5202, 'payne': 7476, 'kibum': 5342, 'banker': 938, 'tear': 9808, 'hopeful': 4619, 'enrique': 3268, 'iglesias': 4742, 'reminiscences': 8216, 'anti-japanese': 615, 'guerillas': 4218, 'dorrian': 2934, 'bag': 891, 'blasko': 1231, 'roars': 8399, 'beatmaster': 1027, 'sunil': 9611, 'santha': 8663, 'fate': 3500, 'zei': 11147, 'zaleski': 11137, 'bbc': 1005, 'recordings': 8160, 'cannabis': 1686, 'lydia': 5955, 'mixtape': 6542, 'elizeth': 3181, 'cardoso': 1716, 'saxis': 8710, 'curl': 2513, 'orgy': 7258, 'leather': 5623, 'henniker': 4463, 'doolittle': 2919, 'martinez': 6189, 'maude': 6247, 'tingley': 10022, 'avalon': 828, 'compleat': 2214, 'housewife': 4652, 'soheila': 9236, 'zaland': 11136, 'hagaman': 4258, 'rear': 8140, 'madge': 5997, 'sterling': 9474, 'divan': 2852, 'waffle': 10667, 'maynard': 6272, 'keenan': 5273, 'sentimental': 8863, 'bloke': 1254, 'command': 2197, 'cali': 1632, 'refrain': 8179, 'mckinley': 6302, 'kentuckians': 5305, 'histoire': 4547, 'rita': 8375, 'hagigat': 4262, 'rzayeva': 8573, 'ski': 9133, 'salina': 8617, 'jang': 5002, 'nara': 6806, 'susanne': 9643, 'phillips': 7578, 'pricedale': 7857, 'tenerife': 9852, 'salomon': 8620, 'iconic': 4728, 'photographer': 7596, 'stock': 9493, 'eckstine': 3075, 'emotron': 3224, 'meduza': 6346, 'soapsuds': 9220, 'sapheads': 8667, 'gentleman': 3933, 'ai': 366, 'se': 8785, 'eu': 3343, 'pego': 7495, 'maestro': 6005, 'broke': 1479, 'killed': 5353, 'classes': 2062, 'yesipova': 11087, 'perfection': 7527, '������': 11215, 'desylva': 2746, 'balvin': 924, 'batman': 986, 'soldier': 9242, 'gardot': 3872, 'archer': 674, 'raleigh': 8068, 'salad': 8607, 'suns': 9615, 'agnolotti': 358, 'utatsuki': 10461, 'paloma': 7368, 'negra': 6871, 'veneto': 10530, 'antietam': 617, 'mantler': 6115, 'encyclopaedia': 3238, 'sciences': 8753, 'bullfeathers': 1542, 'lodi': 5822, 'freak': 3754, 'alan': 400, 'youngest': 11108, 'profession': 7890, 'tartinery': 9776, 'zos': 11170, 'kia': 5339, 'cultus': 2500, 'marit': 6163, 'bergman': 1109, 'mel': 6360, 'draisey': 2965, 'ida': 4730, 'monica': 6597, 'etta': 3341, 'travel': 10180, 'yokoyama': 11098, 'tujiko': 10273, 'noriko': 7046, 'stafford': 9409, 'mickdeth': 6445, 'outer': 7302, 'gentle': 3932, 'breton': 1443, 'findon': 3596, 'gazer': 3905, 'champ': 1855, 'boxing': 1384, 'omoide': 7207, 'okkusenman': 7175, 'rachelle': 8026, 'wilda': 10889, 'memoirs': 6377, 'geddy': 3911, 'dewey': 2762, 'blodgett': 1252, 'doctors': 2876, 'administrative': 321, 'fusil': 3830, 'contra': 2293, 'mirrors': 6522, 'valerij': 10479, 'kipelov': 5372, 'built': 1535, 'mucho': 6715, 'tones': 10083, 'kurutta': 5473, 'taiy': 9724, 'danville': 2588, 'unfinished': 10406, 'bonaparte': 1310, 'thames': 9904, 'gamaliel': 3852, 'varenyky': 10504, 'floating': 3648, 'linger': 5762, 'awhile': 847, 'harvey': 4373, 'mene': 6385, 'odvikavaj': 7150, 'chameleon': 1853, 'necromancer': 6861, 'couch': 2355, 'livonia': 5796, 'furusato': 3828, 'kuo': 5467, 'lots': 5877, 'boundary': 1373, 'wolseley': 10964, 'lumpkin': 5938, 'grecian': 4156, 'electrochemical': 3150, 'bslade': 1513, 'k-pop': 5196, 'powell': 7807, 'hate': 4386, 'masquerade': 6218, 'wilderville': 10892, 'republican': 8242, 'scarecrow': 8723, 'wonder': 10969, 'elgin': 3168, 'schoolhouse': 8743, 'kropp': 5452, 'breath': 1432, 'axelrod': 848, 'harutyunyan': 4371, 'po': 7725, 'tofu': 10058, 'moldova': 6570, 'niue': 7009, 'goldimouse': 4073, 'singer': 9088, 'roudyk': 8508, 'bump': 1545, 'lover': 5897, 'revenge': 8285, 'nerds': 6889, '     ': 4, 'lewisville': 5695, 'sunnybrook': 9613, 'peja': 7496, 'satan': 8685, 'moorpark': 6636, 'lindley': 5756, 'tieghem': 9996, 'etna': 3340, 'elf': 3167, 'a-myin-thit': 234, 'princeton': 7869, 'ending': 3244, 'maldeamores': 6054, 'sai': 8594, 'thong': 9956, 'cycle': 2533, 'maltby': 6067, 'situation': 9113, 'arnauld': 721, 'compiled': 2213, 'fragments': 3735, 'millie': 6483, 'corretjer': 2335, 'regulate': 8189, 'iouri': 4895, 'bachmet': 876, 'chicane': 1931, 'niobrara': 7002, 'mcmurray': 6307, 'marjorie': 6166, 'vasquez': 10511, 'martina': 6187, 'doomsday': 2921, 'avant': 829, 'floyd': 3658, 'lono': 5846, 'putrefactive': 7978, 'infestation': 4820, 'bound': 1372, 'bonga': 1317, 'geriatric': 3943, 'psychiatry': 7931, 'neurology': 6898, 'bordertown': 1345, 'angle': 570, 'lemonheads': 5653, 'yung': 11125, 'joc': 5099, 'phineas': 7585, 'redux': 8172, 'looks': 5852, 'prime': 7862, 'ministers': 6501, 'noor': 7040, 'jehan': 5046, 'wren': 11014, 'sonntagskind': 9278, 'bethany': 1135, 'teri': 9864, 'meri': 6396, 'mowrystown': 6703, 'fairview': 3444, 'livingston': 5795, 'market': 6168, 'pinto': 7645, 'unite': 10413, 'win': 10912, 'unwind': 10433, 'champagne': 1856, 'mojito': 6568, 'muddy': 6716, 'jacqueline': 4982, 'deanna': 2640, 'uncas': 10388, 'bamboccioni': 926, 'smit': 9191, 'pl': 7665, 'eim': 3131, 'suitable': 9595, 'gunn': 4230, 'gradyville': 4117, 'courting': 2373, 'squall': 9395, 'uelmen': 10357, 'imogen': 4769, 'heap': 4416, 'schemer': 8735, 'gd': 3906, 'weissberg': 10802, 'hebbronville': 4436, 'scriptures': 8782, 'eternity': 3335, 'address': 310, 'whaling': 10827, 'taktloss': 9734, 'gingerbread': 4000, 'annunciation': 593, 'doing': 2889, 'epworth': 3293, 'pauls': 7466, 'karobar': 5240, 'duett': 3019, 'ila': 4755, 'manera': 6091, 'recopilatorio': 8157, 'stood': 9500, 'spell': 9352, 'debby': 2651, 'seychelles': 8908, 'closet': 2107, 'rixford': 8389, 'democratic': 2706, 'tangier': 9754, 'ripper': 8371, 'timer': 10012, 'augustus': 807, 'pablo': 7334, 'brenham': 1441, 'magarac': 6007, 'usa': 10452, 'rites': 8378, 'returned': 8279, 'econfina': 3080, 'weir': 10800, 'ribbons': 8320, 'farhad': 3481, 'darya': 2606, 'metabolights': 6411, 'firebrand': 3613, 'playlsit': 7701, 'guenther': 4217, 'waddy': 10663, 'scotland': 8762, 'gibsland': 3977, 'maltio': 6068, 'chara': 1876, 'coronado': 2332, 'toucher': 10121, 'rich': 8326, 'conway': 2305, 'twitty': 10337, 'cheat': 1903, 'roel': 8445, 'velzen': 10526, 'fifa': 3574, 'montevallo': 6616, 'piece': 7620, 'colors': 2179, 'somesville': 9256, 'anochecer': 595, 'urbano': 10447, 'shoes': 9003, 'whitehouse': 10855, 'serenata': 8870, 'massive': 6221, 'soca': 9223, 'hattiesburg': 4389, 'principii': 7870, 'evangelikum': 3355, 'philosophy': 7582, 'phenomenological': 7571, 'research': 8247, 'djibouti': 2865, 'mauritania': 6252, 'lied': 5720, 'sanjeev': 8656, 'abhyankar': 255, 'pride': 7858, 'andreas': 558, 'momy': 6584, 'mughlai': 6719, 'jody': 5102, 'sheri': 8972, 'amanda': 493, 'slender': 9168, 'thread': 9968, 'pineridge': 7641, 'kristine': 5448, 'alisha': 438, 'florine': 3653, 'hound': 4646, 'nationaal': 6826, 'garphyttan': 3877, 'she-devil': 8959, 'anston': 601, 'quicksand': 8012, 'valentine': 10477, '81': 222, 'sushi': 9644, 'breakheart': 1428, 'controlled': 2299, 'conversations': 2302, 'higher': 4511, 'halifax': 4283, 'disaster': 2828, 'arctic': 682, 'siesta': 9055, 'hamatora': 4298, 'aree': 685, 'poneto': 7755, 'nun': 7100, 'hilt': 4526, 'uintah': 10364, 'aura': 809, 'headed': 4410, 'jquery': 5155, 'mobile': 6553, 'rui': 8532, 'silva': 9066, 'velvet': 10525, 'marci': 6140, 'marylou': 6201, 'chandra': 1859, 'noelle': 7023, 'maia': 6024, 'kanon': 5226, 'wakeshima': 10684, 'maurice': 6251, 'piqua': 7652, 'drums': 3002, 'along': 468, 'midnights': 6456, 'visit': 10624, 'callicoon': 1643, 'quadrophenia': 7994, 'cantautor': 1692, 'prospect': 7916, 'blaine': 1225, 'trunk': 10246, 'hubbell': 4667, 'perfume': 7532, 'murderer': 6739, 'uses': 10455, 'hocking': 4565, 'oakfield': 7118, 'ted': 9815, 'smoked': 9195, 'kremmling': 5443, 'kylie': 5482, 'minogue': 6505, 'sal': 8605, 'ò': 11195, 'geschwisterliebe': 3950, 'meeting': 6351, 'duke': 3021, 'juanes': 5159, 'buckner': 1522, 'hadon': 4256, 'opar': 7229, 'à': 11179, 'reservea': 8251, 'vegetarian': 10521, 'patti': 7456, 'award': 842, 'milwaukee': 6490, 'exuma': 3409, 'salemburg': 8613, 'diwali': 2861, 'mtv': 6712, 'uncensored': 10389, 'trussville': 10247, 'hardin': 4347, 'henrie': 4464, 'mutuku': 6764, 'loretta': 5865, 'rockwell': 8437, 'leo': 5662, 'elinor': 3171, 'turner': 10296, 'nita': 7005, 'german': 3944, 'bless': 1239, 'bake': 900, 'babies': 866, 'cuts': 2528, 'both': 1360, 'asking': 753, 'reproductions': 8240, 'testaroli': 9885, 'zephyrhills': 11154, 'neutral': 6901, 'brand': 1405, 'oates': 7121, 'deeyah': 2677, 'guts': 4236, 'natasja': 6821, 'bachand': 871, 'imelda': 4766, 'junun': 5190, 'kaniel': 5224, 'boudreaux': 1370, 'beyblade': 1154, 'fierce': 3571, 'appleby': 652, 'royal': 8521, 'heber': 4437, 'martha': 6185, 'gateau': 3894, 'plylist': 7722, 'bud': 1523, 'jtr': 5157, 'turnt': 10300, 'racketeers': 8029, 'roches': 8421, 'wasser': 10745, 'arista': 700, 'tribeca': 10206, 'jacklyn': 4975, 'strumpet': 9550, 'stratan': 9521, 'masterworks': 6227, 'teenagers': 9820, 'jacobsburg': 4981, 'listings': 5781, 'andrea': 557, 'rosario': 8489, 'aurora': 810, 'dumplings': 3025, 'providence': 7922, 'conehatta': 2246, 'vandemataram': 10494, 'srinivas': 9403, 'outcast': 7300, 'recorder': 8159, 'randsell': 8085, 'dongola': 2910, 'trina': 10212, 'latoya': 5577, 'troopers': 10228, 'astronomy': 770, 'beam': 1010, 'atari': 774, 'radnor': 8035, 'hercules': 4471, 'xena': 11045, 'olympus': 7199, 'hesston': 4489, 'doe': 2882, 'venetian': 10529, 'ruthless': 8561, 'lionheart': 5771, 'defined': 2681, 'struggle': 9549, 'chillin': 1951, 'mulvane': 6727, 'tone': 10082, 'manatee': 6083, 'presence': 7841, 'downward': 2956, 'clermont': 2085, 'honest': 4602, 'faint': 3439, 'vanlose': 10499, 'stairway': 9415, 'janove': 5006, 'ottesen': 7291, 'skyfall': 9145, 'yang': 11068, 'seok': 8864, 'glove': 4045, 'schools': 8744, 'embryo': 3207, 'lessie': 5681, 'embers': 3205, 'why': 10867, 'buffy': 1531, 'vicky': 10572, 'leandros': 5613, 'bellwood': 1087, 'hahnville': 4263, 'junkies': 5189, 'promise': 7905, 'iroquois': 4914, 'amal': 492, 'hijazi': 4520, 'firehouse': 3614, 'lena': 5655, 'horne': 4630, 'callahan': 1641, 'es': 3308, 'tuya': 10307, 'oficial': 7162, 'harlow': 4358, 'wilcox': 10887, 'bangers': 935, 'raz': 8121, 'route': 8514, 'bells': 1086, 'towers': 10131, 'whispers': 10846, 'graveyard': 4148, 'wilko': 10897, 'nanana': 6798, 'massimo': 6220, 'altomare': 483, 'oath': 7122, 'neverwhere': 6909, 'trop': 10230, 'zienne': 11159, 'jetmore': 5070, 'hext': 4496, 'empty': 3231, 'throne': 9972, 'zueras': 11171, 'lush': 5949, 'cairngorms-nationalpark': 1619, 'scenic': 8731, 'wagram': 10673, 'wreck': 11013, 'gravy': 4150, 'ventura': 10534, 'bender': 1094, 'burr': 1569, 'emma': 3218, 'barrett': 963, 'sontha': 9285, 'ooru': 7225, 'suribachi': 9634, 'singstar': 9095, 'gah': 3845, 'nathaniel': 6824, 'shilkret': 8984, 'silvia': 9071, 'giancarlo': 3971, 'erra': 3306, 'offers': 7158, 'alexandra': 423, 'govere': 4110, 'bonner': 1321, 'lincoln': 5752, 'resevation': 8254, 'rambow': 8073, 'jeanie': 5037, 'hardcover': 4343, 'intangibles': 4860, 'leadership': 5608, 'tanque': 9760, 'susana': 9642, 'gone': 4076, 'senior': 8855, 'exorcising': 3389, 'gatlin': 3898, 'deersville': 2675, 'daydreamer': 2625, 'hex': 4495, 'hector': 4439, 'sonny': 9279, 'stitt': 9490, 'slemp': 9167, 'bit': 1209, 'mambo': 6071, 'laurel': 5585, 'aitken': 384, 'settha': 8891, 'lacassine': 5494, 'wirth': 10943, 'monahan': 6587, 'kago': 5204, 'apostolos': 645, 'nikolaidis': 6978, 'eleele': 3156, '楽園追放': 11214, '-expelled': 10, 'paradise-': 7398, 'shame': 8934, 'vandalia': 10493, 'tam': 9746, 'adrian': 327, 'borland': 1348, 'marble': 6131, 'cliffs': 2088, 'estelle': 3326, 'faultline': 3506, 'jannie': 5005, 'strength': 9532, 'share': 8945, 'kendall': 5295, 'shinehead': 8987, 'weight': 10799, 'advise': 331, 'drink': 2991, 'aaliyah': 237, 'collaborators': 2160, 'hale': 4274, 'bonobo': 1326, 'falomir': 3462, 'atlas': 780, 'patriot': 7452, 'fanatic': 3468, 'rockport': 8432, 'olives': 7190, '119': 37, 'wagstaff': 10674, 'pocono': 7728, 'less': 5680, 'candles': 1681, 'masashi': 6205, 'hamauzu': 4299, 'palmyra': 7367, 'glaring': 4027, 'ode': 7146, 'rogue': 8449, 'lawyer': 5599, 'grammy': 4125, 'doughnut': 2943, 'strongest': 9547, 'instinct': 4853, 'rides': 8341, 'newtown': 6921, 'deserve': 2735, 'gackt': 3842, 'camui': 1666, 'webber': 10784, 'heroic': 4482, 'failures': 3437, 'anheuser': 575, 'doherty': 2887, 'consequences': 2275, 'javanese': 5025, 'germany': 3947, 'neurotoxicology': 6900, 'pinecliffe': 7640, 'artifacts': 737, 'espen': 3315, 'lind': 5753, 'selmont': 8846, 'highest': 4512, 'chilled': 1948, 'tukaram': 10274, 'manorama': 6106, 'feet': 3532, 'tara': 9768, 'blaise': 1226, 'islanders': 4932, 'bluesy': 1268, 'mineiro': 6497, 'cineexport': 2026, 'gwenno': 4244, 'pipette': 7651, 'powersville': 7811, 'dre': 2973, 'adding': 307, 'smokefree': 9196, 'rockquest': 8433, 'mating': 6234, 'sze': 9705, 'workday': 10993, 'bachelors': 874, 'glittering': 4039, 'tranquility': 10166, 'miley': 6471, 'cyrus': 2539, 'fatone': 3503, 'arons': 723, 'adolf': 325, 'hitler': 4556, 'downfall': 2952, 'wyandotte': 11032, 'tripp': 10217, 'eisen': 3133, 'canta': 1691, 'ducha': 3012, 'gerard': 3942, 'g-men': 3837, 'seattle': 8808, 'leaps': 5617, 'wang': 10712, 'lun': 5939, 'babar': 865, 'elephants': 3162, 'lyncourt': 5957, 'store': 9505, 'nimule-nationalpark': 6989, 'mountainair': 6687, 'needing': 6865, 'technicolor': 9812, 'phinally': 7584, 'phamous': 7565, 'bien': 1173, 'acompa': 283, 'ado': 323, 'lucky': 5926, 'concise': 2238, 'treatise': 10190, 'angling': 571, 'secretary': 8817, 'freddie': 3757, 'freeloader': 3763, 'cherry-tree': 1920, 'edwin': 3109, 'mccain': 6278, 'jil': 5081, 'unlimited': 10420, 'switched': 9680, 'requests': 8243, 'beckley': 1041, 'mae': 6004, 'follett': 3676, 'blyde': 1277, 'jacksboro': 4976, 'boon': 1335, 'clarke': 2058, 'switching': 9681, 'channels': 1864, 'older': 7181, 'seductive': 8824, 'tongue': 10085, 'outback': 7299, 'apolobamba': 643, 'integrated': 4862, 'bridge-city': 1453, 'costello': 2345, 'keystone': 5323, 'kops': 5430, 'damien': 2566, 'twenty-sixth': 10322, 'kane': 5222, 'redbreast': 8167, 'texola': 9893, 'udhreko': 10355, 'choli': 1975, 'chowdiah': 1989, 'oreo': 7252, 'garry': 3883, 'shider': 8982, 'trauma': 10179, 'teriazume': 9865, 'carrousel': 1754, 'greenville': 4166, 'gwen': 4243, 'probes': 7883, 'havana': 4395, 'dachigam-nationalpark': 2546, 'astronauts': 768, 'kyle': 5481, 'riabko': 8318, 'chrome': 2001, 'tube': 10270, 'ruslana': 8553, 'lyschytschko': 5962, 'otis': 7289, 'actors': 295, 'flanagan': 3633, 'thirayum': 9944, 'theeravum': 9916, 'resturant': 8269, 'appalachian': 648, 'web': 10781, 'farallon': 3476, 'giodi': 4003, 'piper': 7649, 'fears': 3518, 'wolf': 10960, 'talkow': 9741, 'gamblers': 3855, 'compulsive': 2223, 'disclosure': 2829, 'denial': 2717, 'jiles': 5082, 'perry': 7535, 'richardson': 8329, 'crooked': 2453, 'saratoga': 8673, 'malcom': 6053, 'douthat': 2947, 'goldie': 4072, 'inwood': 4892, '207': 158, 'bautista': 996, 'elba': 3140, 'corina': 2326, 'wiktor': 10885, 'coj': 2149, 'nautch': 6839, 'cormorant': 2328, 'baba': 864, 'rhum': 8313, 'closed': 2104, 'branch': 1404, 'liberator': 5706, 'gimble': 3996, 'fairchild': 3441, 'reverence': 8286, 'invades': 4880, 'everyday': 3370, 'valle': 10481, 'jarama': 5012, 'trower': 10238, 'feminist': 3541, 'tyonek': 10344, 'liked': 5734, 'touchdown': 10120, 'germania': 3945, 'cummings': 2504, 'indestructible': 4795, 'rapid': 8096, 'ooze': 7226, 'laguna': 5507, 'eudaemonic': 3345, 'dock': 2874, 'create': 2417, 'creeggan': 2425, 'collabs': 2161, 'kosher': 5434, 'dans': 2585, 'donnie': 2914, 'durbin': 3032, 'bum': 1543, 'note': 7064, 'bead': 1009, 'journeyman': 5146, 'malese': 6058, 'jow': 5150, 'laserlight': 5563, 'ry': 8567, 'boden': 1289, 'vineyard': 10605, 'haven': 4397, 'candace': 1677, 'terrace': 9870, 'acquacotta': 286, 'murvin': 6744, 'payette': 7475, 'soem': 9232, 'sorrow': 9293, 'fantastic': 3472, 'dances': 2576, 'vibe': 10561, 'kellerton': 5286, 'bourne': 1374, 'diann': 2770, 'grandmother': 4134, 'vickers': 10569, 'noreen': 7044, 'mariah': 6151, 'elusive': 3200, 'chanteuse': 1868, 'vegucated': 10522, 'cumberland': 2503, 'association': 763, 'glacier-nationalpark': 4019, 'alot': 469, 'roeland': 8446, 'telepathic': 9830, 'experiences': 3397, 'baladas': 906, 'nticas': 7089, 'prints': 7873, 'bocelli': 1287, 'honigberger': 4607, 'week-end': 10794, 'via': 10558, 'dolorosa': 2896, 'rosalie': 8484, 'evelyn': 3360, 'corey': 2325, 'rugrats': 8531, 'linzi': 5769, 'stoppard': 9503, '2120': 161, 'benkelman': 1101, 'bother': 1362, 'aragon': 667, 'fatty': 3505, 'haskell': 4380, 'transcending': 10168, 'mothers': 6676, 'merced': 6389, 'sun-star': 9606, 'marcel': 6134, 'khalife': 5327, 'nib': 6932, 'fay': 3514, 'farmington': 3486, 'statue': 9449, 'blighty': 1241, 'cocco': 2126, 'junyang': 5191, 'alyson': 490, 'witches': 10950, 'beyonders': 1156, 'subroc': 9575, 'inferno': 4818, 'fabrice': 3419, 'morvan': 6668, 'sita': 9110, 'bettie': 1143, 'heinz': 4444, 'strobl': 9541, 'date': 2609, 'sarygamy': 8681, 'ş': 11205, 'domino': 2905, 'luca': 5917, 'turilli': 10289, 'kearneysville': 5269, 'ambush': 504, 'doa': 2869, 'treasure': 10187, 'espn': 3317, 'league': 5611, 'soccer': 9225, 'rodney': 8442, 'whitaker': 10850, 'layzie': 5604, 'lamentable': 5526, 'omaha': 7201, 'bigelow': 1176, 'impenetrable': 4771, 'loisaida': 5829, 'archipelago': 676, 'pallett': 7362, 'johansen': 5109, 'rochelle': 8420, 'tiplersville': 10026, 'lora': 5856, 'halley': 4287, 'albino': 413, 'blacksheep': 1222, 'expendables': 3394, 'kiley': 5349, 'couples': 2370, 'soko': 9239, 'burn': 1562, 'audra': 800, 'winnie-the-pooh': 10935, 'due': 3016, 'plalist': 7675, 'visjoner': 10625, 'bio': 1189, 'rule': 8535, 'nellie': 6878, 'mckay': 6299, 'ramakadha': 8071, 'op': 7227, 'ration': 8111, 'tooth': 10094, 'pearson': 7488, 'soda': 9231, 'donkey': 2911, 'cream-trilogie': 2414, 'halid': 4282, 'composer': 2219, 'oliveros': 7189, 'portal': 7777, 'mango': 6093, 'dynamite': 3046, 'toynbee': 10142, 'convector': 2300, 'burrows': 1571, 'joyful': 5153, 'screaming': 8772, 'staircase': 9413, 'willow': 10907, 'tanisha': 9759, 'lorena': 5863, 'juliana': 5174, 'poland': 7740, 'grohl': 4195, 'macaroni': 5974, 'geoff': 3935, 'ryman': 8570, 'bibliography': 1169, 'timeline': 10011, 'pressure': 7848, 'cracks': 2400, 'inflated': 4825, 'morrisonville': 6661, 'lafe': 5503, 'gibsonia': 3978, 'canaich': 1670, 'outta': 7310, 'vinyl': 10610, 'notebooks': 7066, 'kanopolis': 5227, 'saori': 8666, 'atsumi': 788, 'eliel': 3170, 'pocahontas': 7726, 'farnham': 3487, 'cellular': 1819, 'fullerville': 3809, 'beneath': 1095, 'harvest': 4372, 'mackville': 5984, 'noi': 7025, 'hooksett': 4613, 'trunes': 10245, 'griffin': 4180, 'known': 5410, 'subconscious': 9570, 'lobotomy': 5811, 'paull': 7465, 'daisy': 2556, 'voisin': 10638, 'jungo': 5185, 'deacon': 2632, 'rudolph': 8527, 'reviews': 8290, 'genetics': 3926, 'owl': 7322, 'siler': 9064, 'alibi': 434, 'falcon': 3453, 'diners': 2811, 'purim': 7968, 'rocketeer': 8427, 'berghoff': 1108, 'millinocket': 6485, 'alte': 479, 'kameraden': 5217, 'stanislaus': 9425, '135': 42, 'wholehearted': 10865, 'betances': 1133, 'orion': 7265, 'took': 10093, 'marbles': 6132, 'hellacopters': 4453, 'pesotum': 7547, 'biggest': 1178, 'loser': 5871, 'morphin': 6658, 'rangers': 8089, 'tetrazzini': 9889, 'saucisse': 8696, 'calistoga': 1639, 'downtempo': 2954, 'anstruther': 602, 'hardest': 4345, 'magician': 6014, 'cuckoo': 2493, 'clocks': 2097, 'sasu': 8683, 'ripatti': 8368, 'khaled': 5325, 'bond': 1312, '003': 17, '½': 11178, 'ratings': 8110, 'estado': 3324, 'nimo': 6988, 'vigilantes': 10591, 'salami': 8611, 'stern': 9475, 'sci-fi': 8751, 'crimes': 2437, 'liubi': 5790, 'farah': 3475, 'asyikin': 771, 'binti': 1188, 'zulkifli': 11172, 'economics': 3082, 'sociology': 9229, 'midongy': 6457, 'du': 3005, 'sud': 9580, 'luiza': 5934, 'possi': 7790, 'niggers': 6960, 'ritchey': 8376, 'tira': 10027, 'period': 7533, 'grilled': 4184, 'meat': 6328, 'tooh': 10092, 'bazilian': 1003, 'meg': 6353, 'seron': 8877, 'tubby': 10269, 'highland': 4513, 'alerce': 420, 'andino': 555, 'tembe': 9836, 'rmx': 8390, 'ayu': 856, 'judy': 5164, 'blacklist': 1219, 'fascism': 3495, 'desmond': 2740, 'dekker': 2687, 'catedral': 1793, 'marxism': 6197, 'oppression': 7239, 'whip': 10841, 'mailroom': 6031, 'intel': 4863, 'array': 728, 'blocks': 1251, 'rumyantsev': 8541, 'rakim': 8066, 'baraga': 945, 'stoddard': 9494, 'spooks': 9371, 'coach': 2118, 'generation': 3922, 'matching': 6230, 'garrard': 3878, 'shoo': 9007, 'dorthy': 2936, 'administration': 320, 'prix': 7881, 'aj': 385, 'carothers': 1748, 'pease': 7489, 'porridge': 7773, 'vicious': 10568, 'urbank': 10446, 'canem': 1684, 'demos': 2711, 'pasqual': 7429, 'clue': 2114, 'policemen': 7744, 'eastville': 3067, 'westbam': 10820, 'alumb': 487, 'allergic': 455, 'arrows': 729, 'piperton': 7650, 'impostors': 4775, 'sinclair': 9083, 'whitewood': 10859, 'lahore': 5508, 'cozy': 2394, 'contesting': 2289, 'scarred': 8727, 'kipp': 5373, 'aired': 376, 'halls': 4292, 'goan': 4053, 'hardcastle': 4341, 'cj': 2048, 'ennarukil': 3265, 'irunthal': 4917, 'boyce': 1386, 'plugged': 7716, 'bedford': 1047, 'blvd-lehman': 1276, 'waverly': 10765, 'bret': 1442, 'mckenzie': 6301, 'teleform': 9828, 'scotia': 8761, 'scottish': 8765, 'speculative': 9350, 'wahhabi': 10675, 'islam': 4930, 'reform': 8178, 'jihad': 5079, 'decoding': 2664, 'amon': 523, 'amarth': 498, 'playlst': 7702, 'batuecas': 994, 'lonesome': 5841, 'ives': 4957, 'flic': 3643, 'alex': 421, 'gaudino': 3900, 'eve-olution': 3359, 'hundred-foot': 4684, 'coyote': 2393, 'space-age': 9327, 'claw': 2072, 'warlock': 10728, 'salil': 8615, 'chowdhury': 1988, 'prefer': 7829, 'niceville': 6938, 'freestyle': 3764, 'international': 4867, 'pinguicula': 7643, 'newsletter': 6918, 'madawaska': 5990, 'drawa': 2971, 'lower': 5905, 'clay': 2074, 'aiken': 368, 'bonny': 1325, 'hind': 4528, 'rewind': 8297, 'haugan': 4391, 'sit': 9109, 'lbc': 5606, 'argentino': 692, 'gustar': 4235, 'bluff': 1269, 'f': 3414, 'cd-rom': 1810, 'sails': 8599, 'fins': 3608, 'eve': 3358, 'hora': 4623, 'din': 2807, 'maso': 6215, 'marguerite': 6148, 'della': 2698, 'moralist': 6640, 'leland': 5649, 'sklar': 9140, 'swindlers': 9675, 'egoist': 3119, 'fromthe': 3795, 'nobuo': 7018, 'uematsu': 10358, 'harms': 4360, 'none': 7034, 'above': 262, 'skycity': 9144, 'salado': 8609, 'loveless': 5896, 'splendor': 9367, 'ts': 10252, 'zetsu': 11157, 'hooker': 4612, 'random': 8084, 'wynonna': 11037, 'mandy': 6088, 'kaltag': 5213, 'turkish': 10292, 'alderwood': 418, 'emperor': 3226, 'wears': 10777, 'naive': 6790, 'tomy': 10081, 'wuill': 11026, 'blackberry': 1217, 'forge': 3702, 'ravensdale': 8116, 'actress': 296, 'foros': 3710, 'timis': 10017, 'ston': 9496, 'greco': 4157, 'statistical': 9446, 'rotem': 8507, 'singers': 9089, 'believe': 1076, 'chico': 1937, 'buarque': 1516, 'loraine': 5858, 'sargents': 8678, 'mancos': 6084, 'caddo': 1606, 'dunbrody': 3026, 'strandburg': 9516, 'index': 4796, 'elizabethville': 3179, 'introduction': 4877, 'scofield': 8755, 'blogbridge': 1253, 'mcclinton': 6280, 'damon': 2568, 'albarn': 408, 'troops': 10229, 'crossfit': 2458, 'ulen': 10367, 'nightingale': 6966, 'addo-elefanten-nationalpark': 309, 'juju': 5166, 'pediatric': 7492, 'nursing': 7106, 'nightdress': 6963, 'kelley': 5287, 'suzette': 9653, 'energic': 3250, 'anneliese': 586, 'pol': 7739, 'tehama': 9824, 'macy': 5987, 'lofty': 5825, 'fake': 3451, 'anagram': 538, 'herkimer': 4477, 'liver': 5792, 'onions': 7217, 'bessie': 1128, 'antonia': 622, 'bearmouth': 1018, 'mcrae': 6314, 'ed': 3087, 'ehsaan': 3122, 'noorani': 7041, 'python': 7987, 'bowl': 1379, 'mo': 6550, 'bagnell': 893, 'burns': 1567, 'disturbance': 2851, 'becharof': 1038, 'ding': 2812, 'dong': 2909, 'abstinence': 265, 'maartin': 5970, 'allcock': 449, 'tanimura': 9757, 'satisfaction': 8691, 'hybla': 4706, 'seeger': 8828, 'priorities': 7874, 'industry': 4813, 'darnell': 2600, 'swarna': 9664, 'trishna': 10220, 'playinh': 7696, 'nichols': 6943, 'loveday': 5895, 'trials': 10204, 'guanica': 4213, 'co-operative': 2117, 'hawking': 4402, 'hester': 4490, 'camille': 1657, 'peacefulness': 7481, 'dinnertime': 2815, 'acoustics': 285, 'redding': 8169, 'elderton': 3145, 'rillettes': 8355, 'zenith': 11153, 'ganges': 3864, 'rambler': 8072, 'milton-freewater': 6489, 'enduser': 3247, 'clint': 2094, 'mansell': 6109, 'projectors': 7902, 'horrible': 4632, 'georgina': 3940, 'neshanic': 6891, 'reza': 8303, 'lotfi': 5875, 'lankan': 5548, 'tues': 10271, 'aspro': 756, 'mavro': 6257, 'szymczyk': 9706, 'genocide': 3929, 'stamps': 9419, 'gena': 3917, 'twisted': 10335, 'ajinoam': 386, 'nini': 6998, 'icewind': 4725, 'schlitt': 8738, 'bajo': 899, 'estrellas': 3330, 'jour': 5142, 'notre': 7070, 'vie': 10586, 'sundown': 9609, 'retreat': 8274, 'coup': 2368, 'nightmares': 6968, 'shallow': 8932, 'oakey': 7117, 'phrazes': 7601, 'germfask': 3948, 'selmer': 8845, 'nordland': 7043, 'snack': 9198, 'poncha': 7753, 'apathy': 635, 'terrors': 9880, 'henlopen': 4462, 'acres': 287, 'saracens': 8671, 'rie': 8346, 'fu': 3804, 'wins': 10937, 'accesss': 272, 'vinci': 10604, 'code': 2136, 'indicate': 4801, 'onward': 7222, 'arletta': 708, 'malawi': 6048, 'jkt': 5092, 'congress': 2259, 'mogis': 6562, 'upcoming': 10436, 'bashkirsky': 976, 'titiyo': 10034, 'campanella': 1662, 'dombey': 2897, 'godmusic': 4061, 'albany': 407, 'buckholts': 1519, 'scandalous': 8716, 'thorn': 9958, 'scouse': 8767, 'git': 4011, 'bloodstained': 1259, 'feelin': 3529, 'strings': 9538, 'munawar': 6730, 'bibb': 1167, 'roar': 8397, 'lunacy': 5941, 'd-day': 2544, 'dodgers': 2881, 'dolls': 2893, 'trout': 10237, 'barbary': 948, 'sholle': 9006, 'czechia': 2542, 'tanti': 9761, 'auguri': 803, 'certainty': 1831, 'darude': 2603, 'lampoon': 5531, 'ellenton': 3184, 'paddy': 7341, 'reilly': 8193, 'lila': 5737, 'reyes': 8300, 'heavenly': 4433, 'uetoaya': 10359, 'berville': 1126, 'kelloe': 5290, 'stump': 9564, 'maritza': 6165, 'teterville': 9888, 'becker': 1040, 'simon': 9073, 'schuster': 8748, 'dinosaurs': 2817, 'prehistoric': 7832, 'bilal': 1180, 'nails': 6788, 'seven-ups': 8897, 'choclo': 1969, 'nikki': 6976, 'warhead': 10726, 'princes': 7866, 'li': 5700, 'yuchun': 11116, 'hayvoronsky': 4407, 'viral': 10614, 'semanal': 8847, 'afdlin': 334, 'shauki': 8951, 'madman': 6000, 'tsingy': 10256, 'bemaraha': 1091, 'mozambique': 6705, 'tisdale': 10031, 'taco': 9715, 'uniontown': 10411, 'twitches': 10336, 'ashland': 746, 'akira': 395, 'milleville': 6481, 'wallsburg': 10699, 'pam': 7372, 'qr': 7992, 'bare': 956, 'brotherhood': 1496, 'parthenon': 7423, 'elliotts': 3187, 'cant': 1690, 'dels': 2702, 'ocells': 7133, 'vini': 10606, 'checkmate': 1905, 'bhutto': 1166, 'mausoleum': 6255, 'analyzer': 541, 'generaci': 3920, 'rbd': 8122, 'vivo': 10629, 'bazan': 1002, 'insult': 4858, 'injury': 4836, 'narayana': 6808, 'tirtha': 10030, 'renaldo': 8223, 'lapuz': 5556, 'crazysexycool': 2412, 'belgian': 1072, 'redacted': 8166, 'erika': 3300, 'fran': 3738, 'yuvan': 11128, 'shankar': 8941, 'raja': 8062, 'discografia': 2831, 'reckless': 8153, 'leopard': 5670, 'presskopf': 7847, 'cottondale': 2352, 'kaanapali': 5199, 'tortano': 10108, 'isabella': 4925, 'carly': 1733, 'lay': 5600, 'psychadelic': 7928, 'fats': 3504, 'waller': 10695, 'nimble': 6987, 'bombastic': 1302, 'atom': 783, 'inyecci': 4893, 'nanette': 6800, 'chemical': 1913, 'engineers': 3257, 'marc': 6133, 'ridgley': 8343, 'montverde': 6624, 'underneath': 10400, 'gareth': 3873, 'olpe': 7194, 'everett': 3365, 'lovex': 5901, 'lidell': 5717, 'oldham': 7183, 'coersion': 2139, 'dresden': 2983, 'tables': 9711, 'cevin': 1834, 'discord': 2833, 'fingers': 3602, 'morrison': 6660, 'gt': 4208, 'licence': 5711, 'renewed': 8228, 'labonte': 5488, 'singular': 9096, 'number': 7098, 'moby': 6554, 'grape': 4141, 'choose': 1979, 'phera': 7572, 'scarab': 8720, 'murder': 6738, 'philosopher': 7580, 'si': 9041, 'hubiera': 4668, 'conocido': 2269, 'haidar': 4264, 'salim': 8616, 'gould': 4109, 'soundscapes': 9308, 'ticks': 9991, 'microphone': 6449, 'candlelight': 1680, 'root': 8479, 'noble': 7015, 'calder': 1626, 'jarzombek': 5019, 'arif': 699, 'starship': 9436, 'velma': 10523, 'tropical': 10232, 'blocher': 1249, 'giaour': 3974, 'order': 7249, 'milas': 6468, 'poli': 7741, 'colin': 2159, 'blunstone': 1272, 'priority': 7875, 'timbers': 10006, 'hath': 4388, 'nitti': 7008, 'currents': 2516, 'zahn': 11134, 'weapon': 10774, 'pinckney': 7638, 'carpenterville': 1752, 'gayle': 3904, 'roosevelt': 8478, 'inaugural': 4782, 'toll': 10069, 'peace-maker': 7479, 'sugar': 9587, 'minott': 6508, 'feud': 3561, 'abbruzzese': 244, 'gladness': 4023, 'selma': 8844, 'molly': 6576, 'mcsherrystown': 6316, 'dayne': 2626, 'anacreon': 537, 'courtship': 2376, 'leia': 5645, 'montchanin': 6612, 'dauset': 2614, 'trails': 10159, 'stationery': 9445, 'nona': 7033, 'sonsee': 9284, 'alissa': 440, 'musto': 6757, 'spells': 9353, 'philtres': 7583, 'gleed': 4032, 'steam': 9455, 'navy': 6840, 'fabes': 3416, 'namibia': 6796, 'atop': 785, 'underwood': 10402, 'writings': 11022, 'survive': 9639, 'origa': 7261, 'nour': 7072, 'mhanna': 6432, 'litchfield': 5784, 'scarface': 8724, 'lilly': 5741, 'boonton': 1338, 'certification': 1832, 'karthaus': 5243, 'grandmaster': 4133, 'wizardry': 10958, 'ecru': 3085, 'swain': 9659, 'tyresta': 10349, 'engadine': 3253, 'flowers': 3657, 'pelland': 7503, 'flamingo': 3632, 'fisher': 3619, 'yameen': 11065, 'on-line': 7209, 'integer': 4861, 'sequences': 8867, 'attitude': 794, 'penermon': 7510, 'culdesac': 2497, '4813': 196, 'ducas': 3011, 'zapata': 11142, 'palmer': 7364, 'tuolumne': 10283, 'lode': 5820, 'tamio': 9750, 'okuda': 7177, 'constructs': 2283, 'bowers': 1377, 'compton': 2222, 'tea-time': 9802, 'trentwood': 10200, 'tivington': 10038, 'nott': 7071, 'epleys': 3290, 'oregonia': 7251, 'begonias': 1063, 'conception': 2232, 'raging': 8042, '1982': 97, 'argusville': 695, 'coltrane': 2182, 'maureen': 6250, 'mcgovern': 6293, 'glorious': 4042, 'twice': 10326, 'caroline': 1745, 'pond': 7754, 'wonka': 10973, 'tolmatschowa': 10071, 'schwestern': 8750, 'chrisman': 1991, 'hackett': 4250, 'manuel': 6118, 'fairness': 3442, 'owings': 7321, 'sukkot': 9599, 'ines': 4814, 'brew': 1445, 'norman': 7048, 'iemand': 4738, 'jij': 5080, 'groucutt': 4198, 'amrithavaahini': 530, 'longet': 5844, 'reynolds': 8302, 'farewell': 3479, 'antebellum': 606, 'fri': 3776, 'padangnese': 7340, 'nellieburg': 6879, 'nur': 7103, 'mit': 6536, 'dir': 2823, 'nik': 6974, 'kershaw': 5316, 'lanta': 5550, 'pla': 7666, 'isabelle': 4926, 'dormi': 2930, 'amore': 526, 'situazione': 9114, 'non': 7032, 'buona': 1551, 'unconscious': 10393, 'corrina': 2337, 'wabuska': 10661, 'playslist': 7705, 'sixpence': 9117, 'hamish': 4305, 'maccunn': 5977, 'alpha': 470, 'blondy': 1256, 'lihula': 5732, 'chicamocha': 1930, 'tiffany': 9998, 'keyboard': 5320, 'riding': 8345, 'shiina': 8983, 'beavis': 1035, 'butt-head': 1588, 'palco': 7359, 'minestra': 6499, 'bloody': 1260, 'been': 1055, 'cancelled': 1673, 'attell': 791, 'lampi': 5530, 'cotati': 2347, 'joad': 5095, 'undressed': 10403, 'snares': 9203, 'beatles': 1025, 'yesterday': 11088, 'carl': 1729, 'framing': 3736, 'ages': 355, 'chee': 1906, 'hun': 4682, 'krystal': 5456, 'dorchester': 2928, 'aerial': 333, 'alfonzo': 428, 'larrain': 5558, 'schooltool': 8745, 'dells': 2699, 'restless': 8268, 'natives': 6832, 'panda': 7376, 'okay': 7174, 'luzon': 5954, 'thicket': 9937, 'tianjin': 9988, 'mutation': 6761, 'melancholy': 6362, 'angel': 562, 'ihsahn': 4748, 'dutch': 3038, 'silly': 9065, 'decoded': 2663, 'bengali': 1097, 'barbra': 952, 'streisand': 9531, 'rhapsody': 8306, 'bangladesh': 936, 'comics': 2195, 'garin': 3875, 'littrell': 5788, 'dread': 2974, 'legion': 5641, 'silvester': 9070, 'drop': 2996, 'joi': 5118, 'chua': 2006, 'vortex': 10648, 'eater': 3070, 'wasps': 10744, 'morocco': 6655, 'ozark': 7329, 'spirits': 9364, 'sh': 8909, 'nen': 6882, 'toppa': 10103, 'bashin': 975, 'whisperer': 10844, 'bennie': 1102, 'moten': 6673, 'poplar': 7764, 'cars': 1756, 'butter': 1589, 'turkmenistan': 10293, 'tashan': 9779, 'dorrsett': 2935, 'granite': 4138, 'quick': 8011, 'elastic': 3139, 'stormzy': 9510, 'cover': 2383, 'laura': 5584, 'active': 292, 'ruffin': 8529, 'forth': 3713, 'samira': 8631, 'said': 8595, 'amorevoli': 527, 'lifelong': 5725, 'ambitions': 503, 'hitman': 4557, 'lochearn': 5817, 'alternativo': 482, 'tun': 10277, 'sheehan': 8961, 'utopia': 10463, 'geddes': 3910, 'reader': 8129, 'warned': 10731, 'blythewood': 1278, 'kendricks': 5296, 'phoebus': 7592, 'choptank': 1982, 'heartful': 4426, 'walla': 10693, 'nunez': 7102, 'spaulding': 9339, 'austria': 816, 'elegant': 3157, 'jennings': 5054, 'heston': 4491, 'blumenthal': 1271, 'lone': 5837, 'half-formed': 4277, 'myers': 6769, 'waurika': 10762, 'carbuncle': 1711, 'essays': 3320, 'sexuality': 8906, 'triple': 10216, 'siberian': 9044, 'khatru': 5332, 'cenizo': 1824, 'commitments': 2199, 'aquariums': 663, 'pyongyang': 7986, 'odetta': 7149, 'louella': 5883, 'digimon': 2798, 'eerste': 3112, 'keer': 5277, 'caiafa': 1617, 'rupam': 8548, 'matthew': 6244, 'helders': 4446, 'ring': 8360, 'pawling': 7471, 'censored': 1825, 'teo': 9859, 'macero': 5979, 'chump': 2010, 'plying': 7721, 'junichi': 5186, 'okada': 7173, 'turbulence': 10286, 'streetdanz': 9529, 'buckley': 1521, 'kenji': 5298, 'shubuta': 9037, 'everson': 3367, 'conchiglie': 2237, 'glue': 4046, 'janeane': 4999, 'des': 2730, 'moines': 6566, 'hoc': 4564, 'rome': 8465, 'fools': 3686, 'blush': 1274, 'utsler': 10465, 'somme': 9264, 'dixie': 2862, 'beginnings': 1062, 'medieval': 6339, 'rocko': 8431, 'slean': 9160, 'plankinton': 7680, 'kearney': 5268, 'ove': 7312, 'emptiness': 3230, 'grisdale': 4188, 'cougar': 2357, 'osierfield': 7279, 'bolsa': 1299, 'chica': 1928, 'terraphiles': 9871, 'moncove': 6588, 'strike': 9535, 'grow': 4204, 'chloe': 1965, 'lattanzi': 5578, 'equal': 3294, 'affections': 337, 'baden': 885, 'kleptones': 5392, 'hatfield': 4387, 'waltersville': 10706, 'manuelita': 6120, 'tortuga': 10111, 'malin': 6064, 'krzysztof': 5457, 'penderecki': 7507, 'frozen': 3801, 'yogurt': 11097, 'gettysburg': 3957, 'kingsman': 5371, 'marianne': 6153, 'faithfull': 3449, 'valery': 10480, 'flaxton': 3636, 'frantz': 3750, 'fahl': 3435, 'heredity': 4473, 'croatan': 2446, 'gurram': 4232, 'ammonia': 521, 'volga': 10640, 'halibut': 4281, 'rocket': 8426, 'aubrey': 798, 'realest': 8135, 'bra': 1394, 'vibrationer': 10563, 'krieg': 5445, 'chinatown': 1956, 'nikolajewna': 6979, 'jessipowa': 5067, 'pilson': 7635, 'rosales': 8483, 'eurythmics': 3353, 'alas': 402, 'ces': 1833, 'pybus': 7985, 'tillicum': 10004, 'supply': 9625, 'jenners': 5051, 'mustoe': 6758, 'leisure': 5647, 'knoll': 5407, 'broonzy': 1493, 'impulso': 4778, 'creativo': 2420, 'blackbox': 1218, 'pray': 7820, 'ballantrae': 918, 'mauro': 6254, 'picotto': 7614, 'cordon': 2322, 'bleu': 1240, '175': 55, 'golconda': 4069, 'vt': 10652, 'voce': 10633, 'bizzy': 1214, 'goodnight': 4082, 'sergeant': 8873, 'searsport': 8799, 'empanada': 3225, 'dolly': 2894, 'ruxpin': 8564, 'mortal': 6664, 'darth': 2602, 'maul': 6248, 'workin': 10995, 'quintet': 8015, 'dwele': 3043, 'boyish': 1390, 'vans': 10501, 'counter': 2362, 'roach': 8392, 'halfbreed': 4279, 'elbridge': 3143, 'bryant': 1512, 'nba': 6846, 'rashad': 8103, 'cammack': 1659, 'jarreau': 5017, 'busta': 1582, 'ringlestone': 8363, 'grenada': 4171, 'miracle': 6515, 'burney': 1563, 'lagaylia': 5505, 'frazier': 3753, 'plutonium': 7718, 'tolhuaca': 10068, 'raquel': 8099, 'hainesville': 4268, 'heads': 4411, 'ringin': 8362, 'best-of': 1130, 'design': 2738, 'cedarburg': 1815, 'alexandrovich': 425, 'garcia': 3869, 'chet': 1925, 'lam': 5520, 'merrily': 6402, 'robbe': 8402, 'pattie': 7457, 'townsell': 10135, 'steward': 9484, 'runs': 8547, 'drawn': 2972, 'northvale': 7055, 'cajah': 1622, 'daphne': 2589, 'fondue': 3681, 'appeal': 650, 'whigs': 10839, 'dissociatives': 2844, 'tinker': 10023, 'deus': 2751, 'deceptor': 2660, 'utamaro': 10460, 'display': 2843, 'manager': 6078, 'ellis': 3188, 'scorpion': 8760, 'waipio': 10676, 'tanintharyi': 9758, 'emil': 3212, 'gilels': 3986, 'idledale': 4735, 'jansen': 5007, 'ocilla': 7138, 'rookantha': 8474, 'gunathilake': 4229, 'carvel': 1763, 'mercenary': 6391, 'rileyville': 8354, 'wyomissing': 11041, 'busco': 1577, 'pueblo': 7942, 'bonnet': 1322, 'colorless': 2178, 'tsukuru': 10266, 'tazaki': 9797, 'pilgrimage': 7629, 'scaramouche': 8722, 'kirtley': 5377, 'tory': 10113, '138': 43, 'mickies': 6447, 'dairy': 2555, 'weedsport': 10792, 'kowanek': 5439, 'nostalgic': 7061, 'grocery': 4193, 'searves': 8800, 'erica': 3298, 'cienega': 2019, 'rajasthani': 8063, '141': 45, 'felices': 3536, 'hutchinson': 4703, 'swans': 9663, 'derose': 2729, 'galactic': 3848, 'pot-healer': 7798, 'altai': 478, 'tavan': 9792, 'bogd': 1293, 'naughty': 6836, 'hagen': 4260, 'ruins': 8533, 'jona': 5124, 'bechtolt': 1039, 'contre': 2296, 'ars': 730, 'lupin': 5946, 'anniston': 591, 'hialeah': 4501, 'gouden': 4106, 'roos': 8477, 'yanni': 11071, 'lothian': 5876, 'ely': 3202, 'jackal': 4972, 'cypress': 2537, 'hadjidakis': 4255, 'rescuing': 8246, 'squires': 9399, 'bhupinder': 1164, 'singh': 9090, 'bethnal': 1137, 'firewall': 3616, 'pro': 7882, 'tristan': 10221, 'betrayal': 1138, 'sheikh': 8964, 'chilli': 1949, 'gideon': 3979, 'mack': 5983, 'shamrock': 8936, 'dallesport': 2563, 'pulsions': 7952, 'orson': 7271, 'later': 5571, 'sofia': 9233, 'boreas': 1346, 'brick': 1449, 'showers': 9028, '257': 167, 'cannon': 1688, 'pussyfoot': 7974, 'informix': 4830, 'wingz': 10929, 'mahalaxmi': 6019, 'claudia': 2068, 'inversion': 4886, 'suus': 9650, 'grim': 4185, 'skunk': 9142, 'olvey': 7197, 'jeeves': 5042, 'wooster': 10987, 'nonsense': 7035, 'krypto': 5454, 'superdog': 9620, 'fisn': 3621, 'accident': 274, 'analysis': 539, 'prevention': 7853, 'guru': 4233, 'shiralee': 8994, 'doggy': 2885, 'stream': 9526, 'safety': 8590, 'mcisaac': 6297, '“': 11210, 'chirping': 1963, '”': 11211, 'crickets': 2435, 'nameless': 6795, 'civilization': 2047, 'azeroth': 860, 'phase': 7569, 'jara': 5011, 'demolition': 2708, 'trenton': 10199, 'toilet': 10063, 'nyoil': 7112, 'flipper': 3647, 'soup': 9310, 'scream': 8771, 'armen': 711, 'movsessian': 6702, 'skepta': 9131, 'lorain': 5857, 'timberville': 10007, 'smear': 9187, 'kamil': 5218, 'rustam': 8557, 'finest': 3599, 'croquembouche': 2455, 'sauna': 8698, 'boat': 1279, 'moped': 6638, 'chrome-plated': 2002, 'handlebars': 4319, 'yard': 11073, 'macclenny': 5975, 'stallion': 9418, 'rockies': 8429, 'maiden': 6027, 'danced': 2572, 'unalaska': 10382, 'garrett': 3879, 'geneva': 3927, 'blacksville': 1223, 'blag': 1224, 'dahlia': 2550, 'folly': 3679, 'xuefei': 11053, 'karlsson': 5237, 'genola': 3930, 'thought': 9964, 'anson': 599, 'hu': 4664, 'gor': 4089, 'antelope': 607, 'spots': 9380, 'adeyto': 316, 'palmview': 7366, 'pittsburgh': 7658, 'glazier': 4031, 'pruntytown': 7926, 'wetumpka': 10826, 'willi': 10900, 'burst': 1572, 'bradenton': 1399, 'brando': 1408, 'mondovi': 6591, 'judge': 5161, 'jules': 5171, 'cordell': 2321, 'mosson': 6671, 'armour': 716, 'allah': 446, 'mainer': 6035, 'bowlegs': 1380, 'breadline': 1424, 'lofgreen': 5824, 'perfecting': 7526, 'escondida': 3312, 'joni': 5128, 'canon': 1689, 'tribal': 10205, 'salvation': 8626, 'godslayer': 4063, 'wynton': 11039, 'mizell': 6545, 'haigler': 4266, 'frizzell': 3791, 'twenty-first': 10318, 'æ': 11185, 'ttuleg': 10267, 'hlj': 4561, 'msveit': 6710, 'gl': 4016, 'pakvendi': 7356, 'ð': 11193, 'iida': 4750, 'romulus': 8468, 'sabines': 8578, 'branded': 1406, 'expansion': 3390, 'prejudice': 7834, 'divorce': 2859, 'reverse': 8288, 'lucerne': 5919, 'nugget': 7097, 'julia': 5172, 'fordham': 3693, 'coorgs': 2314, 'puttering': 7980, 'hallwood': 4293, 'shadjarian': 8915, 'woodchuck': 10977, 'chuck': 2007, 'mitchell': 6538, 'paedophilia': 7343, 'meatballs': 6330, 'whiskey': 10843, 'offerman': 7157, 'stronda': 9545, 'hridaynath': 4662, 'tails': 9720, 'zamboanga': 11139, 'almighty': 463, 'johnsons': 5114, 'recuerdo': 8164, 'taskcracker': 9781, 'outlook': 7304, 'ally': 461, 'kerr': 5313, 'rollins': 8455, 'burleigh': 1561, 'cardin': 1712, 'squared': 9397, 'sonora': 9281, 'ballroom': 921, 'shorty': 9020, 'ones': 7215, 'hurry': 4695, 'southtown': 9317, 'beth': 1134, 'nielsen': 6955, 'structured': 9548, 'fax': 3513, 'file': 3584, 'patmos': 7448, 'tennyson': 9855, 'nothin': 7068, 'aira': 373, 'yuhki': 11117, 'fertile': 3555, 'nancy': 6799, 'gill': 3988, 'flossmoor': 3654, 'north-west': 7051, 'passage': 7431, 'selection': 8835, 'wonders': 10972, 'sugarville': 9591, 'kackley': 5201, 'messed': 6407, 'milian': 6472, 'seduction': 8823, 'chettathi': 1926, 'behzad': 1067, 'mirkhani': 6519, 'miso': 6527, 'primal': 7859, 'seminary': 8851, 'cannelloni': 1687, 'operace': 7233, 'mizuki': 6546, 'fighter': 3581, '-blue': 9, 'side-': 9050, 'merz': 6404, 'spasmolytic': 9337, 'chorus': 1983, 'reach': 8125, 'villotta': 10599, 'bruno': 1507, 'philosophic': 7581, 'ayn': 853, 'rand': 8083, 'arjen': 703, 'lucassen': 5918, 'stelvio': 9464, 'st-boyd': 9405, 'alexandria': 424, 'latham': 5573, 'diaries': 2772, 'starfleet': 9430, 'simulator': 9079, 'manhasset': 6094, 'hulmeville': 4674, 'dickey': 2778, 'betts': 1145, 'blackberries': 1216, 'longest': 5843, 'vigus': 10592, 'bethesda': 1136, 'ucolo': 10354, 'hostile': 4640, 'monthly': 6619, 'specialities': 9345, 'favoretta': 3509, 'pansette': 7382, 'skaneateles': 9128, 'cheaper': 1901, 'dozen': 2958, 'mortem': 6665, '007': 19, 'healthy': 4413, 'waubay': 10760, 'brimstone': 1462, 'kitchin': 5384, 'nosh': 7060, 'casting': 1781, 'crowns': 2470, 'ombre': 7203, 'bercy': 1106, 'raphael': 8095, 'rabello': 8022, 'mascoutah': 6209, 'opium': 7238, 'sandie': 8644, 'shaw': 8954, 'fludd': 3659, 'beastologist': 1022, 'caledonian-record': 1629, 'arcadian': 671, 'inform': 4828, 'abdication': 249, 'moondog': 6631, 'chupacabra': 2011, 'nations': 6830, 'worthington': 11007, 'mistborn': 6534, 'bobbie': 1284, 'lookout': 5851, 'felicity': 3537, 'deidre': 2685, 'rosa': 8482, 'dressmaker': 2987, 'mulligan': 6725, 'stew': 9483, 'stano': 9426, 'verna': 10546, 'slated': 9155, 'ash': 742, 'wednesday': 10789, 'pilar': 7628, 'freiberg': 3766, 'baeckeoffe': 889, 'widows': 10876, 'blanco': 1228, 'fujimoto': 3806, 'yae': 11057, 'deeth': 2676, 'sugiyama': 9592, 'whm': 10862, 'breaux': 1435, 'ludowici': 5931, 'lawless': 5595, 'dimension': 2804, 'claudja': 2070, 'wynter': 11038, 'abhijeet': 254, 'bhattacharya': 1160, 'gears': 3909, 'unholy': 10407, 'portions': 7780, 'wine-stained': 10924, 'domestic': 2899, 'scantlin': 8719, 'someday': 9255, 'soon': 9288, 'fiona': 3610, 'countryman': 2366, 'deve': 2753, 'morire': 6650, 'bastards': 980, 'glam': 4025, 'tyranny': 10347, 'resource': 8259, 'unreachable': 10427, 'proby': 7884, 'gormenghast': 4094, 'chained': 1840, 'luambe-nationalpark': 5916, 'labor': 5489, 'lachman': 5496, 'dooneen': 2924, 'sleepytime': 9166, 'storeys': 9506, 'broadcast': 1472, '1938': 65, 'fowler': 3728, 'carina': 1727, 'tied': 9995, 'puro': 7969, 'boogaloo': 1328, 'pho': 7590, 'searcy': 8798, 'cocos': 2134, 'kate': 5248, 'ari': 696, 'herstand': 4486, 'crack': 2397, 'abacus': 241, 'aphex': 638, 'hilliard': 4523, 'chattahoochee': 1893, 'dane': 2578, 'scale': 8714, 'jarbidge': 5013, 'ports': 7784, 'el-palacio': 3138, 'madchild': 5991, 'talbot': 9736, 'mundy': 6733, 'messenger': 6408, 'oclock': 7139, 'raheem': 8043, 'devaughn': 2752, 'assumption': 764, 'hendthighelbedi': 4461, 'crucial': 2473, 'toussaint': 10127, 'mommy': 6582, 'sandra': 8647, 'widow': 10875, 'saint-pierre': 8601, 'darvill': 2604, 'ingenuity': 4832, 'orwell': 7274, 'microsoft': 6450, 'scanner': 8718, 'lomas': 5834, 'plpay': 7715, 'nitollano': 7007, 'matrimony': 6237, 'brooklawn': 1488, 'raffaele': 8037, 'riefoli': 8347, 'divorced': 2860, 'jpop': 5154, 'jovino': 5149, 'santos': 8665, 'neto': 6895, 'woodmere': 10980, 'covering': 2386, 'hidden': 4506, 'rights': 8350, 'wxhexeditor': 11030, 'stracke': 9514, 'timerider': 10013, 'lyle': 5956, 'swann': 9662, 'fuzzy': 3835, 'throats': 9971, 'beckon': 1042, 'thaw': 9908, 'lanes': 5542, 'mellor': 6366, 'reestaurant': 8176, 'w': 10658, 'nerding': 6888, 'stitches': 9489, 'engelchen': 3255, 'shavuot': 8953, 'grab': 4111, '=': 231, 'alchemist': 416, 'ginsburg': 4002, 'ichiby': 4726, 'goto': 4102, 'unravel': 10425, 'spencer': 9355, 'f-': 3415, 'tombstone': 10074, 'hoyt': 4661, 'portsmouth': 7785, 'print': 7872, 'turnin': 10297, 'measuring': 6327, 'forgetting': 3704, 'glarus': 4028, 'coordinates': 2313, 'poets': 7733, 'novelists': 7077, 'matinee': 6233, 'idol': 4736, 'brookneal': 1490, 'rodgers': 8440, 'hammerstein': 4308, 'elica': 3169, 'parton': 7425, 'olvera': 7196, 'pointe-heath': 7736, 'jardine': 5014, 'musgrave': 6748, 'barnard': 958, 'ora': 7243, 'iparty': 4897, 'victorious': 10577, 'voluntad': 10643, 'cielo': 2018, 'wax': 10767, 'playstation': 7706, '官方杂志': 11213, 'mission': 6530, 'mir': 6514, 'muffuletta': 6717, 'lipstick': 5773, 'vogue': 10635, 'yale': 11059, 'rocca': 8419, 'pagan': 7345, 'roseland': 8495, 'borys': 1353, 'ljatoschynskyj': 5799, 'incomplete': 4789, 'berigan': 1110, 'team': 9807, 'hereford': 4474, 'mayer': 6269, 'neverbeast': 6907, 'sample': 8635, 'theft': 9917, 'pop-folk': 7762, 'rhythmic': 8316, 'akb': 390, 'wickersham': 10871, 'takilma': 9732, 'wrigley': 11019, 'learn': 5618, 'draw': 2970, 'patiala': 7445, 'dna': 2867, 'repair': 8232, 'mutagenesis': 6759, 'licia': 5713, 'sabin': 8577, 'rai': 8047, 'furniture': 3826, 'kenia': 5297, 'arias': 698, 'sreekumar': 9401, 'laidback': 5510, 'tanya': 9762, 'stephens': 9468, 'stanford': 9424, 'ralls': 8069, 'rafet': 8036, 'farragut': 3490, 'quest': 8007, 'iranon': 4902, 'paella': 7344, 'mcpherson': 6313, 'cherie': 1918, 'whitney': 10860, 'curve': 2522, 'stat': 9440, 'cindy': 2025, 'farruko': 3493, 'presenta': 7842, 'menores': 6386, 'beni': 1098, 'arashiro': 669, 'kalkaska': 5212, 'saurials': 8699, 'ô': 11197, 'chouse': 1985, 'rocksprings': 8435, 'englishman': 3260, 'tenbrooks': 9849, 'michigantown': 6442, 'sinful': 9085, 'choice': 1971, 'benson-meditation': 1104, 'goshenville': 4095, 'erik': 3299, 'sonic': 9274, 'yuauea': 11115, 'faculty': 3428, 'stolen': 9495, 'shanghai': 8939, 'diaz': 2775, 'almyra': 465, 'coleville': 2156, 'hackney': 4251, 'claus': 2071, 'urbanette': 10445, 'connorville': 2268, 'twinkler': 10332, 'mondovisione': 6592, 'haystack': 4406, 'executive': 3383, 'vidal': 10580, 'clam': 2051, 'alles': 456, 'heeft': 4440, 'ritme': 8379, 'liu': 5789, 'tianhua': 9987, 'ruud': 8562, 'jolie': 5122, 'lose': 5870, 'ogawa': 7163, '1953': 70, 'playig': 7694, 'keita': 5282, 'tachibana': 9714, 'bang': 934, 'vipers': 10613, 'salute': 8624, 'emmons': 3220, 'emmy': 3221, 'rossum': 8506, 'wagener': 10669, 'niobe': 7001, 'prurient': 7927, 'glennie': 4037, 'matlacha': 6235, 'ghostly': 3966, 'swim': 9674, 'rei': 8191, 'momo': 6583, 'clafoutis': 2050, 'dos': 2937, 'astronomical': 769, 'kimberley': 5358, 'oldies': 7184, 'bunce': 1547, 'projections': 7901, 'mclagan': 6303, 'dawning': 2622, 'shopping': 9015, 'spree': 9384, 'linn': 5766, 'berggren': 1107, 'um': 10374, 'coco': 2133, 'adeus': 315, 'thug': 9977, 'lordz': 5862, 'hoffman': 4568, 'idea': 4733, 'valenciano': 10475, 'roaring': 8398, 'cohocton': 2147, 'ek': 3136, 'boond': 1336, 'ishq': 4929, 'wakelin': 10683, 'lis': 5775, 'oakes': 7116, 'wintersong': 10940, 'billboard': 1182, 'highways': 4519, 'hiding': 4508, 'gie': 3980, 'homestead': 4596, 'meadows': 6322, 'stunt': 9565, 'lakeview': 5517, 'carterville': 1760, 'whit': 10849, 'ramona': 8077, 'costs': 2346, 'accidents': 276, 'getaway': 3953, 'manilow': 6100, 'antony': 624, 'glenarden': 4034, 'tameka': 9748, 'bigger': 1177, 'aki': 393, 'nawaz': 6842, 'crugers': 2477, 'marlton': 6174, 'circle': 2032, 'laid': 5509, 'axum': 850, 'cameia': 1653, 'sting': 9488, 'moris': 6651, 'tepper': 9860, 'doc': 2872, 'bronze': 1484, 'agua': 360, 'phou': 7599, 'vieng': 10587, 'stereophonics': 9473, 'parry': 7420, 'tierney': 9997, 'sutton': 9649, 'winfield': 10925, 'spectres': 9349, 'liquor': 5774, 'paragraphe': 7399, 'ryohei': 8571, 'yamamoto': 11061, 'colic': 2158, 'ths': 9976, 'petrified': 7558, 'bronco': 1482, 'macgregor': 5980, 'cherryh': 1921, 'odyssey': 7151, 'purples': 7971, 'highs': 4516, 'mid-sixties': 6451, 'lovesong': 5900, 'rayvon': 8120, 'grandview': 4137, 'reager': 8133, 'alger': 431, 'placed': 7668, 'conflict': 2254, 'lamar': 5521, 'mandya': 6089, 'roland': 8451, 'alphonso': 472, 'clapping': 2053, 'tempunauts': 9846, 'carmel': 1735, 'fit': 3623, 'remedial': 8211, 'consume': 2284, 'bleach': 1235, 'brookdale': 1486, '847': 223, 'uli': 10368, 'derickson': 2726, 'crucifixion': 2475, 'band-e': 931, 'jethro': 5069, 'arkport': 706, 'hermaphrodite': 4479, 'wizards': 10959, 'leonid': 5666, 'soybelman': 9323, 'umizaru': 10378, 'grech': 4155, 'tomb': 10073, 'irvine': 4920, 'larsen': 5560, 'riveting': 8388, 'solutions': 9250, 'rouhollah': 8511, 'khaleghi': 5326, 'fangs': 3470, 'mole': 6572, 'roxy': 8519, 'robotics': 8414, 'montreux': 6622, 'reservtion': 8253, 'volubilis': 10641, 'pitch': 7657, 'mutlu': 6762, 'editor': 3102, 'publisher': 7940, 'rebbe': 8143, 'teachings': 9805, 'menachem': 6382, 'schneerson': 8739, 'influential': 4826, 'rabbi': 8020, 'mercedes': 6390, 'cimarron': 2021, 'neuroscience': 6899, 'jip': 5090, 'generator': 3924, 'fadl': 3431, 'shaker': 8927, 'watcher': 10750, 'beijing': 1068, 'huanying': 4665, 'turning': 10298, 'ammunition': 522, 'inconfundible': 4790, 'dreamstone': 2977, 'wrightstown': 11018, 'yummy': 11123, 'bingham': 1187, 'karamazov': 5232, 'britons': 1468, 'windsor': 10921, 'berryessa': 1122, 'geek': 3912, 'chic': 1927, 'gifta': 3982, 'sig': 9057, 'jeans': 5040, 'neutrons': 6902, 'seun': 8893, 'kuti': 5475, 'stranger': 9518, 'gregg': 4168, 'bissonette': 1206, 'zahir': 11133, 'howaida': 4655, 'ochopee': 7136, 'handicap': 4317, 'eylem': 3412, 'chemdex': 1912, 'blau': 1233, 'thayer': 9909, 'hindu': 4530, 'temples': 9841, 'lieutenant': 5723, 'inishmore': 4835, 'documents': 2879, 'liar': 5702, 'female': 3540, 'hamlet': 4306, 'emida': 3211, 'allenwood': 454, 'shawna': 8956, 'lizzie': 5798, 'abrar': 263, 'ul': 10366, 'haq': 4335, 'spotted': 9381, 'aaron': 239, 'thompsontown': 9954, 'karen': 5233, 'rosanna': 8486, 'ejercicio': 3134, 'frisell': 3790, 'moor': 6633, 'encounters': 3237, 'jes': 5061, 'brieden': 1455, 'merlin': 6400, 'effect': 3113, 'kwuggerbug': 5478, 'ciribiribin': 2035, 'sandeep': 8642, 'khare': 5331, 'notasulga': 7063, 'jeffrey': 5045, 'aviatrice': 838, 'mocking': 6556, 'decisions': 2662, 'tod': 10050, 'phishing': 7588, 'manual': 6117, 'sugarfoot': 9588, 'iranian': 4901, 'systems': 9702, 'earns': 3058, 'amy': 534, 'daltrey': 2564, 'iwers': 4963, 'ayr': 854, 'toaster': 10045, 'rescue': 8245, 'happiness': 4333, 'sacrifice': 8584, 'shed': 8960, 'kuk': 5461, 'harrell': 4362, 'vegard': 10518, 'sverre': 9656, 'tveitan': 10309, 'histoires': 4548, 'sans': 8660, 'paroles': 7417, 'wauseon': 10763, 'q': 7989, 'nicoleta': 6952, 'nicola': 6950, 'unsettled': 10429, 'arnaud': 720, 'skillman': 9136, 'antisleep': 620, 'contact': 2285, 'nefertiti': 6869, 'jackals': 4973, 'westernport': 10823, 'ceca': 1813, 'guyana': 4240, 'serious': 8876, 'awesomeness': 845, 'elstak': 3198, 'sportsdome': 9376, 'hitchland': 4555, 'bitten': 1212, 'diplomat': 2821, 'field': 3568, 'merrill': 6401, 'comedian': 2189, 'faccetta': 3421, 'nera': 6887, 'airto': 380, 'moreira': 6645, 'yangtze': 11069, 'antigua': 618, 'barbuda': 953, 'astonishing': 766, 'octavian': 7142, 'traitor': 10163, 'marcial': 6142, 'baldur': 910, 'bhaal': 1159, 'lillian': 5740, 'cou': 2354, 'ven': 10527, 'operetta': 7236, 'cargnello': 1723, 'bernie': 1117, 'instincts': 4854, 'basaseachic': 971, 'christine': 1998, 'mitcham': 6537, 'performed': 7530, 'kruspe': 5453, 'janne': 5004, 'puurtinen': 7982, 'urmston': 10448, 'labyrinth': 5492, 'torch': 10105, 'jenny': 5055, 'ambition': 502, 'eugene': 3346, 'mahoney': 6022, 'webbe': 10783, 'itv': 4954, 'dolores': 2895, 'filmes': 3590, 'hobbit': 4563, 'otaola': 7285, 'rumor': 8540, 'kaitlin': 5207, 'libros': 5710, 'kenneth': 5300, 'dimitri': 2806, 'fampas': 3467, 'twentynine': 10324, 'palms': 7365, 'fox-hunting': 3730, 'wakefield': 10682, 'cohn': 2146, 'hippocratic': 4537, 'townshend': 10136, 'lali': 5518, 'heaton': 4431, 'tritonian': 10222, 'ojuelegba': 7171, 'pane': 7378, 'wimpy': 10911, 'tallahassee-st': 9743, 'marks': 6170, 'carlisle': 1730, 'lenzburg': 5661, 'trains': 10162, 'planes': 7678, 'hinckley': 4527, 'chalkyitsik': 1846, 'questions': 8009, 'answers': 603, 'vache': 10471, 'carlson': 1732, 'bloodhounds': 1258, 'wight': 10882, 'chili': 1946, 'yamma': 11067, 'fettucine': 3560, 'independence': 4793, 'rustic': 8558, 'projekt': 7903, 'goth': 4100, 'pearblossom': 7485, 'beamer': 1012, 'linguistic': 5763, 'cuyabeno': 2530, 'memoir': 6376, 'leave': 5624, 'grew': 4175, 'wafah': 10666, 'dufour': 3020, 'stanardsville': 9420, 'mint': 6509}\n"
          ]
        }
      ]
    },
    {
      "cell_type": "code",
      "source": [
        "import pandas as pd\n",
        "count_array = Xtrain_count.toarray()\n",
        "df_count_array = pd.DataFrame(data=count_array, \n",
        "                              columns=list(count_vect.vocabulary_.keys()))\n",
        "df_count_array\n"
      ],
      "metadata": {
        "colab": {
          "base_uri": "https://localhost:8080/",
          "height": 467
        },
        "id": "A55QrvZdtvq8",
        "outputId": "ba25802b-4909-4324-c028-ac317f2a49f0"
      },
      "execution_count": null,
      "outputs": [
        {
          "output_type": "execute_result",
          "data": {
            "text/plain": [
              "       will     it  be  rainy  in  tenino  add  steve  albini  ...  beamer  \\\n",
              "0         5  0   0   0      0   0       0    0      0       0  ...       0   \n",
              "1         8  0   0   0      0   0       0    0      0       0  ...       0   \n",
              "2        13  2   0   0      0   0       0    0      0       0  ...       0   \n",
              "3         6  0   0   0      0   0       0    0      0       0  ...       0   \n",
              "4         4  0   0   0      0   0       0    0      0       0  ...       0   \n",
              "...     ... ..  ..  ..    ...  ..     ...  ...    ...     ...  ...     ...   \n",
              "13279     8  0   0   0      0   0       0    0      0       0  ...       0   \n",
              "13280     8  0   0   0      0   0       0    0      0       0  ...       0   \n",
              "13281     7  0   0   0      0   0       0    0      0       0  ...       0   \n",
              "13282     9  0   0   0      0   0       0    0      0       0  ...       0   \n",
              "13283    11  0   0   0      0   0       0    0      0       0  ...       0   \n",
              "\n",
              "       linguistic  cuyabeno  memoir  leave  grew  wafah  dufour  \\\n",
              "0               0         0       0      0     0      0       0   \n",
              "1               0         0       0      0     0      0       0   \n",
              "2               0         0       0      0     0      0       0   \n",
              "3               0         0       0      0     0      0       0   \n",
              "4               0         0       0      0     0      0       0   \n",
              "...           ...       ...     ...    ...   ...    ...     ...   \n",
              "13279           0         0       0      0     0      0       0   \n",
              "13280           0         0       0      0     0      0       0   \n",
              "13281           0         0       0      0     0      0       0   \n",
              "13282           0         0       0      0     0      0       0   \n",
              "13283           0         0       0      0     0      0       0   \n",
              "\n",
              "       stanardsville  mint  \n",
              "0                  0     0  \n",
              "1                  0     0  \n",
              "2                  0     0  \n",
              "3                  0     0  \n",
              "4                  0     0  \n",
              "...              ...   ...  \n",
              "13279              0     0  \n",
              "13280              0     0  \n",
              "13281              0     0  \n",
              "13282              0     0  \n",
              "13283              0     0  \n",
              "\n",
              "[13284 rows x 11216 columns]"
            ],
            "text/html": [
              "\n",
              "  <div id=\"df-e2207f56-1cd3-49ab-9c57-6ef29a23c321\">\n",
              "    <div class=\"colab-df-container\">\n",
              "      <div>\n",
              "<style scoped>\n",
              "    .dataframe tbody tr th:only-of-type {\n",
              "        vertical-align: middle;\n",
              "    }\n",
              "\n",
              "    .dataframe tbody tr th {\n",
              "        vertical-align: top;\n",
              "    }\n",
              "\n",
              "    .dataframe thead th {\n",
              "        text-align: right;\n",
              "    }\n",
              "</style>\n",
              "<table border=\"1\" class=\"dataframe\">\n",
              "  <thead>\n",
              "    <tr style=\"text-align: right;\">\n",
              "      <th></th>\n",
              "      <th>will</th>\n",
              "      <th></th>\n",
              "      <th>it</th>\n",
              "      <th>be</th>\n",
              "      <th>rainy</th>\n",
              "      <th>in</th>\n",
              "      <th>tenino</th>\n",
              "      <th>add</th>\n",
              "      <th>steve</th>\n",
              "      <th>albini</th>\n",
              "      <th>...</th>\n",
              "      <th>beamer</th>\n",
              "      <th>linguistic</th>\n",
              "      <th>cuyabeno</th>\n",
              "      <th>memoir</th>\n",
              "      <th>leave</th>\n",
              "      <th>grew</th>\n",
              "      <th>wafah</th>\n",
              "      <th>dufour</th>\n",
              "      <th>stanardsville</th>\n",
              "      <th>mint</th>\n",
              "    </tr>\n",
              "  </thead>\n",
              "  <tbody>\n",
              "    <tr>\n",
              "      <th>0</th>\n",
              "      <td>5</td>\n",
              "      <td>0</td>\n",
              "      <td>0</td>\n",
              "      <td>0</td>\n",
              "      <td>0</td>\n",
              "      <td>0</td>\n",
              "      <td>0</td>\n",
              "      <td>0</td>\n",
              "      <td>0</td>\n",
              "      <td>0</td>\n",
              "      <td>...</td>\n",
              "      <td>0</td>\n",
              "      <td>0</td>\n",
              "      <td>0</td>\n",
              "      <td>0</td>\n",
              "      <td>0</td>\n",
              "      <td>0</td>\n",
              "      <td>0</td>\n",
              "      <td>0</td>\n",
              "      <td>0</td>\n",
              "      <td>0</td>\n",
              "    </tr>\n",
              "    <tr>\n",
              "      <th>1</th>\n",
              "      <td>8</td>\n",
              "      <td>0</td>\n",
              "      <td>0</td>\n",
              "      <td>0</td>\n",
              "      <td>0</td>\n",
              "      <td>0</td>\n",
              "      <td>0</td>\n",
              "      <td>0</td>\n",
              "      <td>0</td>\n",
              "      <td>0</td>\n",
              "      <td>...</td>\n",
              "      <td>0</td>\n",
              "      <td>0</td>\n",
              "      <td>0</td>\n",
              "      <td>0</td>\n",
              "      <td>0</td>\n",
              "      <td>0</td>\n",
              "      <td>0</td>\n",
              "      <td>0</td>\n",
              "      <td>0</td>\n",
              "      <td>0</td>\n",
              "    </tr>\n",
              "    <tr>\n",
              "      <th>2</th>\n",
              "      <td>13</td>\n",
              "      <td>2</td>\n",
              "      <td>0</td>\n",
              "      <td>0</td>\n",
              "      <td>0</td>\n",
              "      <td>0</td>\n",
              "      <td>0</td>\n",
              "      <td>0</td>\n",
              "      <td>0</td>\n",
              "      <td>0</td>\n",
              "      <td>...</td>\n",
              "      <td>0</td>\n",
              "      <td>0</td>\n",
              "      <td>0</td>\n",
              "      <td>0</td>\n",
              "      <td>0</td>\n",
              "      <td>0</td>\n",
              "      <td>0</td>\n",
              "      <td>0</td>\n",
              "      <td>0</td>\n",
              "      <td>0</td>\n",
              "    </tr>\n",
              "    <tr>\n",
              "      <th>3</th>\n",
              "      <td>6</td>\n",
              "      <td>0</td>\n",
              "      <td>0</td>\n",
              "      <td>0</td>\n",
              "      <td>0</td>\n",
              "      <td>0</td>\n",
              "      <td>0</td>\n",
              "      <td>0</td>\n",
              "      <td>0</td>\n",
              "      <td>0</td>\n",
              "      <td>...</td>\n",
              "      <td>0</td>\n",
              "      <td>0</td>\n",
              "      <td>0</td>\n",
              "      <td>0</td>\n",
              "      <td>0</td>\n",
              "      <td>0</td>\n",
              "      <td>0</td>\n",
              "      <td>0</td>\n",
              "      <td>0</td>\n",
              "      <td>0</td>\n",
              "    </tr>\n",
              "    <tr>\n",
              "      <th>4</th>\n",
              "      <td>4</td>\n",
              "      <td>0</td>\n",
              "      <td>0</td>\n",
              "      <td>0</td>\n",
              "      <td>0</td>\n",
              "      <td>0</td>\n",
              "      <td>0</td>\n",
              "      <td>0</td>\n",
              "      <td>0</td>\n",
              "      <td>0</td>\n",
              "      <td>...</td>\n",
              "      <td>0</td>\n",
              "      <td>0</td>\n",
              "      <td>0</td>\n",
              "      <td>0</td>\n",
              "      <td>0</td>\n",
              "      <td>0</td>\n",
              "      <td>0</td>\n",
              "      <td>0</td>\n",
              "      <td>0</td>\n",
              "      <td>0</td>\n",
              "    </tr>\n",
              "    <tr>\n",
              "      <th>...</th>\n",
              "      <td>...</td>\n",
              "      <td>...</td>\n",
              "      <td>...</td>\n",
              "      <td>...</td>\n",
              "      <td>...</td>\n",
              "      <td>...</td>\n",
              "      <td>...</td>\n",
              "      <td>...</td>\n",
              "      <td>...</td>\n",
              "      <td>...</td>\n",
              "      <td>...</td>\n",
              "      <td>...</td>\n",
              "      <td>...</td>\n",
              "      <td>...</td>\n",
              "      <td>...</td>\n",
              "      <td>...</td>\n",
              "      <td>...</td>\n",
              "      <td>...</td>\n",
              "      <td>...</td>\n",
              "      <td>...</td>\n",
              "      <td>...</td>\n",
              "    </tr>\n",
              "    <tr>\n",
              "      <th>13279</th>\n",
              "      <td>8</td>\n",
              "      <td>0</td>\n",
              "      <td>0</td>\n",
              "      <td>0</td>\n",
              "      <td>0</td>\n",
              "      <td>0</td>\n",
              "      <td>0</td>\n",
              "      <td>0</td>\n",
              "      <td>0</td>\n",
              "      <td>0</td>\n",
              "      <td>...</td>\n",
              "      <td>0</td>\n",
              "      <td>0</td>\n",
              "      <td>0</td>\n",
              "      <td>0</td>\n",
              "      <td>0</td>\n",
              "      <td>0</td>\n",
              "      <td>0</td>\n",
              "      <td>0</td>\n",
              "      <td>0</td>\n",
              "      <td>0</td>\n",
              "    </tr>\n",
              "    <tr>\n",
              "      <th>13280</th>\n",
              "      <td>8</td>\n",
              "      <td>0</td>\n",
              "      <td>0</td>\n",
              "      <td>0</td>\n",
              "      <td>0</td>\n",
              "      <td>0</td>\n",
              "      <td>0</td>\n",
              "      <td>0</td>\n",
              "      <td>0</td>\n",
              "      <td>0</td>\n",
              "      <td>...</td>\n",
              "      <td>0</td>\n",
              "      <td>0</td>\n",
              "      <td>0</td>\n",
              "      <td>0</td>\n",
              "      <td>0</td>\n",
              "      <td>0</td>\n",
              "      <td>0</td>\n",
              "      <td>0</td>\n",
              "      <td>0</td>\n",
              "      <td>0</td>\n",
              "    </tr>\n",
              "    <tr>\n",
              "      <th>13281</th>\n",
              "      <td>7</td>\n",
              "      <td>0</td>\n",
              "      <td>0</td>\n",
              "      <td>0</td>\n",
              "      <td>0</td>\n",
              "      <td>0</td>\n",
              "      <td>0</td>\n",
              "      <td>0</td>\n",
              "      <td>0</td>\n",
              "      <td>0</td>\n",
              "      <td>...</td>\n",
              "      <td>0</td>\n",
              "      <td>0</td>\n",
              "      <td>0</td>\n",
              "      <td>0</td>\n",
              "      <td>0</td>\n",
              "      <td>0</td>\n",
              "      <td>0</td>\n",
              "      <td>0</td>\n",
              "      <td>0</td>\n",
              "      <td>0</td>\n",
              "    </tr>\n",
              "    <tr>\n",
              "      <th>13282</th>\n",
              "      <td>9</td>\n",
              "      <td>0</td>\n",
              "      <td>0</td>\n",
              "      <td>0</td>\n",
              "      <td>0</td>\n",
              "      <td>0</td>\n",
              "      <td>0</td>\n",
              "      <td>0</td>\n",
              "      <td>0</td>\n",
              "      <td>0</td>\n",
              "      <td>...</td>\n",
              "      <td>0</td>\n",
              "      <td>0</td>\n",
              "      <td>0</td>\n",
              "      <td>0</td>\n",
              "      <td>0</td>\n",
              "      <td>0</td>\n",
              "      <td>0</td>\n",
              "      <td>0</td>\n",
              "      <td>0</td>\n",
              "      <td>0</td>\n",
              "    </tr>\n",
              "    <tr>\n",
              "      <th>13283</th>\n",
              "      <td>11</td>\n",
              "      <td>0</td>\n",
              "      <td>0</td>\n",
              "      <td>0</td>\n",
              "      <td>0</td>\n",
              "      <td>0</td>\n",
              "      <td>0</td>\n",
              "      <td>0</td>\n",
              "      <td>0</td>\n",
              "      <td>0</td>\n",
              "      <td>...</td>\n",
              "      <td>0</td>\n",
              "      <td>0</td>\n",
              "      <td>0</td>\n",
              "      <td>0</td>\n",
              "      <td>0</td>\n",
              "      <td>0</td>\n",
              "      <td>0</td>\n",
              "      <td>0</td>\n",
              "      <td>0</td>\n",
              "      <td>0</td>\n",
              "    </tr>\n",
              "  </tbody>\n",
              "</table>\n",
              "<p>13284 rows × 11216 columns</p>\n",
              "</div>\n",
              "      <button class=\"colab-df-convert\" onclick=\"convertToInteractive('df-e2207f56-1cd3-49ab-9c57-6ef29a23c321')\"\n",
              "              title=\"Convert this dataframe to an interactive table.\"\n",
              "              style=\"display:none;\">\n",
              "        \n",
              "  <svg xmlns=\"http://www.w3.org/2000/svg\" height=\"24px\"viewBox=\"0 0 24 24\"\n",
              "       width=\"24px\">\n",
              "    <path d=\"M0 0h24v24H0V0z\" fill=\"none\"/>\n",
              "    <path d=\"M18.56 5.44l.94 2.06.94-2.06 2.06-.94-2.06-.94-.94-2.06-.94 2.06-2.06.94zm-11 1L8.5 8.5l.94-2.06 2.06-.94-2.06-.94L8.5 2.5l-.94 2.06-2.06.94zm10 10l.94 2.06.94-2.06 2.06-.94-2.06-.94-.94-2.06-.94 2.06-2.06.94z\"/><path d=\"M17.41 7.96l-1.37-1.37c-.4-.4-.92-.59-1.43-.59-.52 0-1.04.2-1.43.59L10.3 9.45l-7.72 7.72c-.78.78-.78 2.05 0 2.83L4 21.41c.39.39.9.59 1.41.59.51 0 1.02-.2 1.41-.59l7.78-7.78 2.81-2.81c.8-.78.8-2.07 0-2.86zM5.41 20L4 18.59l7.72-7.72 1.47 1.35L5.41 20z\"/>\n",
              "  </svg>\n",
              "      </button>\n",
              "      \n",
              "  <style>\n",
              "    .colab-df-container {\n",
              "      display:flex;\n",
              "      flex-wrap:wrap;\n",
              "      gap: 12px;\n",
              "    }\n",
              "\n",
              "    .colab-df-convert {\n",
              "      background-color: #E8F0FE;\n",
              "      border: none;\n",
              "      border-radius: 50%;\n",
              "      cursor: pointer;\n",
              "      display: none;\n",
              "      fill: #1967D2;\n",
              "      height: 32px;\n",
              "      padding: 0 0 0 0;\n",
              "      width: 32px;\n",
              "    }\n",
              "\n",
              "    .colab-df-convert:hover {\n",
              "      background-color: #E2EBFA;\n",
              "      box-shadow: 0px 1px 2px rgba(60, 64, 67, 0.3), 0px 1px 3px 1px rgba(60, 64, 67, 0.15);\n",
              "      fill: #174EA6;\n",
              "    }\n",
              "\n",
              "    [theme=dark] .colab-df-convert {\n",
              "      background-color: #3B4455;\n",
              "      fill: #D2E3FC;\n",
              "    }\n",
              "\n",
              "    [theme=dark] .colab-df-convert:hover {\n",
              "      background-color: #434B5C;\n",
              "      box-shadow: 0px 1px 3px 1px rgba(0, 0, 0, 0.15);\n",
              "      filter: drop-shadow(0px 1px 2px rgba(0, 0, 0, 0.3));\n",
              "      fill: #FFFFFF;\n",
              "    }\n",
              "  </style>\n",
              "\n",
              "      <script>\n",
              "        const buttonEl =\n",
              "          document.querySelector('#df-e2207f56-1cd3-49ab-9c57-6ef29a23c321 button.colab-df-convert');\n",
              "        buttonEl.style.display =\n",
              "          google.colab.kernel.accessAllowed ? 'block' : 'none';\n",
              "\n",
              "        async function convertToInteractive(key) {\n",
              "          const element = document.querySelector('#df-e2207f56-1cd3-49ab-9c57-6ef29a23c321');\n",
              "          const dataTable =\n",
              "            await google.colab.kernel.invokeFunction('convertToInteractive',\n",
              "                                                     [key], {});\n",
              "          if (!dataTable) return;\n",
              "\n",
              "          const docLinkHtml = 'Like what you see? Visit the ' +\n",
              "            '<a target=\"_blank\" href=https://colab.research.google.com/notebooks/data_table.ipynb>data table notebook</a>'\n",
              "            + ' to learn more about interactive tables.';\n",
              "          element.innerHTML = '';\n",
              "          dataTable['output_type'] = 'display_data';\n",
              "          await google.colab.output.renderOutput(dataTable, element);\n",
              "          const docLink = document.createElement('div');\n",
              "          docLink.innerHTML = docLinkHtml;\n",
              "          element.appendChild(docLink);\n",
              "        }\n",
              "      </script>\n",
              "    </div>\n",
              "  </div>\n",
              "  "
            ]
          },
          "metadata": {},
          "execution_count": 9
        }
      ]
    },
    {
      "cell_type": "code",
      "source": [
        "from sklearn.feature_extraction.text import TfidfTransformer\n",
        "tf_transformer = TfidfTransformer(use_idf=False)\n",
        "tf_transformer.fit(df_count_array)\n",
        "Xtrain_tf = tf_transformer.transform(df_count_array)\n",
        "Xtrain_tf.shape"
      ],
      "metadata": {
        "colab": {
          "base_uri": "https://localhost:8080/"
        },
        "id": "Z9Q4OXlrvOCQ",
        "outputId": "833e74cd-37a4-4367-9714-ac3f8f270cc0"
      },
      "execution_count": null,
      "outputs": [
        {
          "output_type": "execute_result",
          "data": {
            "text/plain": [
              "(13284, 11216)"
            ]
          },
          "metadata": {},
          "execution_count": 10
        }
      ]
    },
    {
      "cell_type": "code",
      "source": [
        "Xtrain_tf_array = Xtrain_tf.toarray()\n",
        "df_Xtrain_tf_array = pd.DataFrame(data=Xtrain_tf_array)\n",
        "df_Xtrain_tf_array"
      ],
      "metadata": {
        "colab": {
          "base_uri": "https://localhost:8080/",
          "height": 423
        },
        "id": "TQ9oLqnAvUhQ",
        "outputId": "0ae67d29-e470-4b4b-c415-3392417d379e"
      },
      "execution_count": null,
      "outputs": [
        {
          "output_type": "execute_result",
          "data": {
            "text/plain": [
              "          0         1      2      3      4      5      6      7      8      \\\n",
              "0      0.898027  0.000000    0.0    0.0    0.0    0.0    0.0    0.0    0.0   \n",
              "1      0.936329  0.000000    0.0    0.0    0.0    0.0    0.0    0.0    0.0   \n",
              "2      0.940647  0.144715    0.0    0.0    0.0    0.0    0.0    0.0    0.0   \n",
              "3      0.914991  0.000000    0.0    0.0    0.0    0.0    0.0    0.0    0.0   \n",
              "4      0.872872  0.000000    0.0    0.0    0.0    0.0    0.0    0.0    0.0   \n",
              "...         ...       ...    ...    ...    ...    ...    ...    ...    ...   \n",
              "13279  0.936329  0.000000    0.0    0.0    0.0    0.0    0.0    0.0    0.0   \n",
              "13280  0.923760  0.000000    0.0    0.0    0.0    0.0    0.0    0.0    0.0   \n",
              "13281  0.927173  0.000000    0.0    0.0    0.0    0.0    0.0    0.0    0.0   \n",
              "13282  0.943456  0.000000    0.0    0.0    0.0    0.0    0.0    0.0    0.0   \n",
              "13283  0.953821  0.000000    0.0    0.0    0.0    0.0    0.0    0.0    0.0   \n",
              "\n",
              "       9      ...  11206  11207  11208  11209  11210  11211  11212  11213  \\\n",
              "0        0.0  ...    0.0    0.0    0.0    0.0    0.0    0.0    0.0    0.0   \n",
              "1        0.0  ...    0.0    0.0    0.0    0.0    0.0    0.0    0.0    0.0   \n",
              "2        0.0  ...    0.0    0.0    0.0    0.0    0.0    0.0    0.0    0.0   \n",
              "3        0.0  ...    0.0    0.0    0.0    0.0    0.0    0.0    0.0    0.0   \n",
              "4        0.0  ...    0.0    0.0    0.0    0.0    0.0    0.0    0.0    0.0   \n",
              "...      ...  ...    ...    ...    ...    ...    ...    ...    ...    ...   \n",
              "13279    0.0  ...    0.0    0.0    0.0    0.0    0.0    0.0    0.0    0.0   \n",
              "13280    0.0  ...    0.0    0.0    0.0    0.0    0.0    0.0    0.0    0.0   \n",
              "13281    0.0  ...    0.0    0.0    0.0    0.0    0.0    0.0    0.0    0.0   \n",
              "13282    0.0  ...    0.0    0.0    0.0    0.0    0.0    0.0    0.0    0.0   \n",
              "13283    0.0  ...    0.0    0.0    0.0    0.0    0.0    0.0    0.0    0.0   \n",
              "\n",
              "       11214  11215  \n",
              "0        0.0    0.0  \n",
              "1        0.0    0.0  \n",
              "2        0.0    0.0  \n",
              "3        0.0    0.0  \n",
              "4        0.0    0.0  \n",
              "...      ...    ...  \n",
              "13279    0.0    0.0  \n",
              "13280    0.0    0.0  \n",
              "13281    0.0    0.0  \n",
              "13282    0.0    0.0  \n",
              "13283    0.0    0.0  \n",
              "\n",
              "[13284 rows x 11216 columns]"
            ],
            "text/html": [
              "\n",
              "  <div id=\"df-d6047162-edb0-428b-aee6-5029637589a9\">\n",
              "    <div class=\"colab-df-container\">\n",
              "      <div>\n",
              "<style scoped>\n",
              "    .dataframe tbody tr th:only-of-type {\n",
              "        vertical-align: middle;\n",
              "    }\n",
              "\n",
              "    .dataframe tbody tr th {\n",
              "        vertical-align: top;\n",
              "    }\n",
              "\n",
              "    .dataframe thead th {\n",
              "        text-align: right;\n",
              "    }\n",
              "</style>\n",
              "<table border=\"1\" class=\"dataframe\">\n",
              "  <thead>\n",
              "    <tr style=\"text-align: right;\">\n",
              "      <th></th>\n",
              "      <th>0</th>\n",
              "      <th>1</th>\n",
              "      <th>2</th>\n",
              "      <th>3</th>\n",
              "      <th>4</th>\n",
              "      <th>5</th>\n",
              "      <th>6</th>\n",
              "      <th>7</th>\n",
              "      <th>8</th>\n",
              "      <th>9</th>\n",
              "      <th>...</th>\n",
              "      <th>11206</th>\n",
              "      <th>11207</th>\n",
              "      <th>11208</th>\n",
              "      <th>11209</th>\n",
              "      <th>11210</th>\n",
              "      <th>11211</th>\n",
              "      <th>11212</th>\n",
              "      <th>11213</th>\n",
              "      <th>11214</th>\n",
              "      <th>11215</th>\n",
              "    </tr>\n",
              "  </thead>\n",
              "  <tbody>\n",
              "    <tr>\n",
              "      <th>0</th>\n",
              "      <td>0.898027</td>\n",
              "      <td>0.000000</td>\n",
              "      <td>0.0</td>\n",
              "      <td>0.0</td>\n",
              "      <td>0.0</td>\n",
              "      <td>0.0</td>\n",
              "      <td>0.0</td>\n",
              "      <td>0.0</td>\n",
              "      <td>0.0</td>\n",
              "      <td>0.0</td>\n",
              "      <td>...</td>\n",
              "      <td>0.0</td>\n",
              "      <td>0.0</td>\n",
              "      <td>0.0</td>\n",
              "      <td>0.0</td>\n",
              "      <td>0.0</td>\n",
              "      <td>0.0</td>\n",
              "      <td>0.0</td>\n",
              "      <td>0.0</td>\n",
              "      <td>0.0</td>\n",
              "      <td>0.0</td>\n",
              "    </tr>\n",
              "    <tr>\n",
              "      <th>1</th>\n",
              "      <td>0.936329</td>\n",
              "      <td>0.000000</td>\n",
              "      <td>0.0</td>\n",
              "      <td>0.0</td>\n",
              "      <td>0.0</td>\n",
              "      <td>0.0</td>\n",
              "      <td>0.0</td>\n",
              "      <td>0.0</td>\n",
              "      <td>0.0</td>\n",
              "      <td>0.0</td>\n",
              "      <td>...</td>\n",
              "      <td>0.0</td>\n",
              "      <td>0.0</td>\n",
              "      <td>0.0</td>\n",
              "      <td>0.0</td>\n",
              "      <td>0.0</td>\n",
              "      <td>0.0</td>\n",
              "      <td>0.0</td>\n",
              "      <td>0.0</td>\n",
              "      <td>0.0</td>\n",
              "      <td>0.0</td>\n",
              "    </tr>\n",
              "    <tr>\n",
              "      <th>2</th>\n",
              "      <td>0.940647</td>\n",
              "      <td>0.144715</td>\n",
              "      <td>0.0</td>\n",
              "      <td>0.0</td>\n",
              "      <td>0.0</td>\n",
              "      <td>0.0</td>\n",
              "      <td>0.0</td>\n",
              "      <td>0.0</td>\n",
              "      <td>0.0</td>\n",
              "      <td>0.0</td>\n",
              "      <td>...</td>\n",
              "      <td>0.0</td>\n",
              "      <td>0.0</td>\n",
              "      <td>0.0</td>\n",
              "      <td>0.0</td>\n",
              "      <td>0.0</td>\n",
              "      <td>0.0</td>\n",
              "      <td>0.0</td>\n",
              "      <td>0.0</td>\n",
              "      <td>0.0</td>\n",
              "      <td>0.0</td>\n",
              "    </tr>\n",
              "    <tr>\n",
              "      <th>3</th>\n",
              "      <td>0.914991</td>\n",
              "      <td>0.000000</td>\n",
              "      <td>0.0</td>\n",
              "      <td>0.0</td>\n",
              "      <td>0.0</td>\n",
              "      <td>0.0</td>\n",
              "      <td>0.0</td>\n",
              "      <td>0.0</td>\n",
              "      <td>0.0</td>\n",
              "      <td>0.0</td>\n",
              "      <td>...</td>\n",
              "      <td>0.0</td>\n",
              "      <td>0.0</td>\n",
              "      <td>0.0</td>\n",
              "      <td>0.0</td>\n",
              "      <td>0.0</td>\n",
              "      <td>0.0</td>\n",
              "      <td>0.0</td>\n",
              "      <td>0.0</td>\n",
              "      <td>0.0</td>\n",
              "      <td>0.0</td>\n",
              "    </tr>\n",
              "    <tr>\n",
              "      <th>4</th>\n",
              "      <td>0.872872</td>\n",
              "      <td>0.000000</td>\n",
              "      <td>0.0</td>\n",
              "      <td>0.0</td>\n",
              "      <td>0.0</td>\n",
              "      <td>0.0</td>\n",
              "      <td>0.0</td>\n",
              "      <td>0.0</td>\n",
              "      <td>0.0</td>\n",
              "      <td>0.0</td>\n",
              "      <td>...</td>\n",
              "      <td>0.0</td>\n",
              "      <td>0.0</td>\n",
              "      <td>0.0</td>\n",
              "      <td>0.0</td>\n",
              "      <td>0.0</td>\n",
              "      <td>0.0</td>\n",
              "      <td>0.0</td>\n",
              "      <td>0.0</td>\n",
              "      <td>0.0</td>\n",
              "      <td>0.0</td>\n",
              "    </tr>\n",
              "    <tr>\n",
              "      <th>...</th>\n",
              "      <td>...</td>\n",
              "      <td>...</td>\n",
              "      <td>...</td>\n",
              "      <td>...</td>\n",
              "      <td>...</td>\n",
              "      <td>...</td>\n",
              "      <td>...</td>\n",
              "      <td>...</td>\n",
              "      <td>...</td>\n",
              "      <td>...</td>\n",
              "      <td>...</td>\n",
              "      <td>...</td>\n",
              "      <td>...</td>\n",
              "      <td>...</td>\n",
              "      <td>...</td>\n",
              "      <td>...</td>\n",
              "      <td>...</td>\n",
              "      <td>...</td>\n",
              "      <td>...</td>\n",
              "      <td>...</td>\n",
              "      <td>...</td>\n",
              "    </tr>\n",
              "    <tr>\n",
              "      <th>13279</th>\n",
              "      <td>0.936329</td>\n",
              "      <td>0.000000</td>\n",
              "      <td>0.0</td>\n",
              "      <td>0.0</td>\n",
              "      <td>0.0</td>\n",
              "      <td>0.0</td>\n",
              "      <td>0.0</td>\n",
              "      <td>0.0</td>\n",
              "      <td>0.0</td>\n",
              "      <td>0.0</td>\n",
              "      <td>...</td>\n",
              "      <td>0.0</td>\n",
              "      <td>0.0</td>\n",
              "      <td>0.0</td>\n",
              "      <td>0.0</td>\n",
              "      <td>0.0</td>\n",
              "      <td>0.0</td>\n",
              "      <td>0.0</td>\n",
              "      <td>0.0</td>\n",
              "      <td>0.0</td>\n",
              "      <td>0.0</td>\n",
              "    </tr>\n",
              "    <tr>\n",
              "      <th>13280</th>\n",
              "      <td>0.923760</td>\n",
              "      <td>0.000000</td>\n",
              "      <td>0.0</td>\n",
              "      <td>0.0</td>\n",
              "      <td>0.0</td>\n",
              "      <td>0.0</td>\n",
              "      <td>0.0</td>\n",
              "      <td>0.0</td>\n",
              "      <td>0.0</td>\n",
              "      <td>0.0</td>\n",
              "      <td>...</td>\n",
              "      <td>0.0</td>\n",
              "      <td>0.0</td>\n",
              "      <td>0.0</td>\n",
              "      <td>0.0</td>\n",
              "      <td>0.0</td>\n",
              "      <td>0.0</td>\n",
              "      <td>0.0</td>\n",
              "      <td>0.0</td>\n",
              "      <td>0.0</td>\n",
              "      <td>0.0</td>\n",
              "    </tr>\n",
              "    <tr>\n",
              "      <th>13281</th>\n",
              "      <td>0.927173</td>\n",
              "      <td>0.000000</td>\n",
              "      <td>0.0</td>\n",
              "      <td>0.0</td>\n",
              "      <td>0.0</td>\n",
              "      <td>0.0</td>\n",
              "      <td>0.0</td>\n",
              "      <td>0.0</td>\n",
              "      <td>0.0</td>\n",
              "      <td>0.0</td>\n",
              "      <td>...</td>\n",
              "      <td>0.0</td>\n",
              "      <td>0.0</td>\n",
              "      <td>0.0</td>\n",
              "      <td>0.0</td>\n",
              "      <td>0.0</td>\n",
              "      <td>0.0</td>\n",
              "      <td>0.0</td>\n",
              "      <td>0.0</td>\n",
              "      <td>0.0</td>\n",
              "      <td>0.0</td>\n",
              "    </tr>\n",
              "    <tr>\n",
              "      <th>13282</th>\n",
              "      <td>0.943456</td>\n",
              "      <td>0.000000</td>\n",
              "      <td>0.0</td>\n",
              "      <td>0.0</td>\n",
              "      <td>0.0</td>\n",
              "      <td>0.0</td>\n",
              "      <td>0.0</td>\n",
              "      <td>0.0</td>\n",
              "      <td>0.0</td>\n",
              "      <td>0.0</td>\n",
              "      <td>...</td>\n",
              "      <td>0.0</td>\n",
              "      <td>0.0</td>\n",
              "      <td>0.0</td>\n",
              "      <td>0.0</td>\n",
              "      <td>0.0</td>\n",
              "      <td>0.0</td>\n",
              "      <td>0.0</td>\n",
              "      <td>0.0</td>\n",
              "      <td>0.0</td>\n",
              "      <td>0.0</td>\n",
              "    </tr>\n",
              "    <tr>\n",
              "      <th>13283</th>\n",
              "      <td>0.953821</td>\n",
              "      <td>0.000000</td>\n",
              "      <td>0.0</td>\n",
              "      <td>0.0</td>\n",
              "      <td>0.0</td>\n",
              "      <td>0.0</td>\n",
              "      <td>0.0</td>\n",
              "      <td>0.0</td>\n",
              "      <td>0.0</td>\n",
              "      <td>0.0</td>\n",
              "      <td>...</td>\n",
              "      <td>0.0</td>\n",
              "      <td>0.0</td>\n",
              "      <td>0.0</td>\n",
              "      <td>0.0</td>\n",
              "      <td>0.0</td>\n",
              "      <td>0.0</td>\n",
              "      <td>0.0</td>\n",
              "      <td>0.0</td>\n",
              "      <td>0.0</td>\n",
              "      <td>0.0</td>\n",
              "    </tr>\n",
              "  </tbody>\n",
              "</table>\n",
              "<p>13284 rows × 11216 columns</p>\n",
              "</div>\n",
              "      <button class=\"colab-df-convert\" onclick=\"convertToInteractive('df-d6047162-edb0-428b-aee6-5029637589a9')\"\n",
              "              title=\"Convert this dataframe to an interactive table.\"\n",
              "              style=\"display:none;\">\n",
              "        \n",
              "  <svg xmlns=\"http://www.w3.org/2000/svg\" height=\"24px\"viewBox=\"0 0 24 24\"\n",
              "       width=\"24px\">\n",
              "    <path d=\"M0 0h24v24H0V0z\" fill=\"none\"/>\n",
              "    <path d=\"M18.56 5.44l.94 2.06.94-2.06 2.06-.94-2.06-.94-.94-2.06-.94 2.06-2.06.94zm-11 1L8.5 8.5l.94-2.06 2.06-.94-2.06-.94L8.5 2.5l-.94 2.06-2.06.94zm10 10l.94 2.06.94-2.06 2.06-.94-2.06-.94-.94-2.06-.94 2.06-2.06.94z\"/><path d=\"M17.41 7.96l-1.37-1.37c-.4-.4-.92-.59-1.43-.59-.52 0-1.04.2-1.43.59L10.3 9.45l-7.72 7.72c-.78.78-.78 2.05 0 2.83L4 21.41c.39.39.9.59 1.41.59.51 0 1.02-.2 1.41-.59l7.78-7.78 2.81-2.81c.8-.78.8-2.07 0-2.86zM5.41 20L4 18.59l7.72-7.72 1.47 1.35L5.41 20z\"/>\n",
              "  </svg>\n",
              "      </button>\n",
              "      \n",
              "  <style>\n",
              "    .colab-df-container {\n",
              "      display:flex;\n",
              "      flex-wrap:wrap;\n",
              "      gap: 12px;\n",
              "    }\n",
              "\n",
              "    .colab-df-convert {\n",
              "      background-color: #E8F0FE;\n",
              "      border: none;\n",
              "      border-radius: 50%;\n",
              "      cursor: pointer;\n",
              "      display: none;\n",
              "      fill: #1967D2;\n",
              "      height: 32px;\n",
              "      padding: 0 0 0 0;\n",
              "      width: 32px;\n",
              "    }\n",
              "\n",
              "    .colab-df-convert:hover {\n",
              "      background-color: #E2EBFA;\n",
              "      box-shadow: 0px 1px 2px rgba(60, 64, 67, 0.3), 0px 1px 3px 1px rgba(60, 64, 67, 0.15);\n",
              "      fill: #174EA6;\n",
              "    }\n",
              "\n",
              "    [theme=dark] .colab-df-convert {\n",
              "      background-color: #3B4455;\n",
              "      fill: #D2E3FC;\n",
              "    }\n",
              "\n",
              "    [theme=dark] .colab-df-convert:hover {\n",
              "      background-color: #434B5C;\n",
              "      box-shadow: 0px 1px 3px 1px rgba(0, 0, 0, 0.15);\n",
              "      filter: drop-shadow(0px 1px 2px rgba(0, 0, 0, 0.3));\n",
              "      fill: #FFFFFF;\n",
              "    }\n",
              "  </style>\n",
              "\n",
              "      <script>\n",
              "        const buttonEl =\n",
              "          document.querySelector('#df-d6047162-edb0-428b-aee6-5029637589a9 button.colab-df-convert');\n",
              "        buttonEl.style.display =\n",
              "          google.colab.kernel.accessAllowed ? 'block' : 'none';\n",
              "\n",
              "        async function convertToInteractive(key) {\n",
              "          const element = document.querySelector('#df-d6047162-edb0-428b-aee6-5029637589a9');\n",
              "          const dataTable =\n",
              "            await google.colab.kernel.invokeFunction('convertToInteractive',\n",
              "                                                     [key], {});\n",
              "          if (!dataTable) return;\n",
              "\n",
              "          const docLinkHtml = 'Like what you see? Visit the ' +\n",
              "            '<a target=\"_blank\" href=https://colab.research.google.com/notebooks/data_table.ipynb>data table notebook</a>'\n",
              "            + ' to learn more about interactive tables.';\n",
              "          element.innerHTML = '';\n",
              "          dataTable['output_type'] = 'display_data';\n",
              "          await google.colab.output.renderOutput(dataTable, element);\n",
              "          const docLink = document.createElement('div');\n",
              "          docLink.innerHTML = docLinkHtml;\n",
              "          element.appendChild(docLink);\n",
              "        }\n",
              "      </script>\n",
              "    </div>\n",
              "  </div>\n",
              "  "
            ]
          },
          "metadata": {},
          "execution_count": 11
        }
      ]
    },
    {
      "cell_type": "markdown",
      "source": [
        "#dict_data"
      ],
      "metadata": {
        "id": "7vg3nVLqvYzg"
      }
    },
    {
      "cell_type": "code",
      "source": [
        "import numpy as np\n",
        "ind = list(np.unique(y))\n",
        "data_trainY = []\n",
        "dict_data = {}\n",
        "for index_data in y:\n",
        "  data_trainY.append(ind.index(index_data))\n",
        "\n",
        "for i,j in enumerate(ind):\n",
        "  dict_data[i] = j"
      ],
      "metadata": {
        "id": "rjeDEhUgvYQd"
      },
      "execution_count": null,
      "outputs": []
    },
    {
      "cell_type": "code",
      "source": [
        "from sklearn.metrics import f1_score\n",
        "\n",
        "def score_model(y_test, y_pred):\n",
        "    macro = f1_score(y_test, y_pred, average='macro')\n",
        "    micro = f1_score(y_test, y_pred, average='micro')\n",
        "    weighted = f1_score(y_test, y_pred, average='weighted')\n",
        "    f1 = (macro+micro+weighted)/3\n",
        "    return f1"
      ],
      "metadata": {
        "id": "eczq0F7ev7hv"
      },
      "execution_count": null,
      "outputs": []
    },
    {
      "cell_type": "markdown",
      "source": [
        "#Spilt Data"
      ],
      "metadata": {
        "id": "WENkViErwGDD"
      }
    },
    {
      "cell_type": "code",
      "source": [
        "dataarray_trainY = np.asarray(data_trainY)"
      ],
      "metadata": {
        "id": "CXBkYrkDwIel"
      },
      "execution_count": null,
      "outputs": []
    },
    {
      "cell_type": "code",
      "source": [
        "from sklearn.model_selection import train_test_split\n",
        "X_train, X_val, y_train, y_val = train_test_split(Xtrain_tf_array, dataarray_trainY, test_size=0.25, random_state=42)\n",
        "len(X_train) , len(y_train) , len(X_val) , len(y_val)"
      ],
      "metadata": {
        "colab": {
          "base_uri": "https://localhost:8080/"
        },
        "id": "XeZWEw1RwI_h",
        "outputId": "f34f3605-d9c0-43a2-c8a8-0ffdb48f1d37"
      },
      "execution_count": null,
      "outputs": [
        {
          "output_type": "execute_result",
          "data": {
            "text/plain": [
              "(9963, 9963, 3321, 3321)"
            ]
          },
          "metadata": {},
          "execution_count": 15
        }
      ]
    },
    {
      "cell_type": "markdown",
      "source": [
        "#RandomForestClassifier"
      ],
      "metadata": {
        "id": "tqm4BJ-i4av0"
      }
    },
    {
      "cell_type": "code",
      "source": [
        "from sklearn.ensemble import RandomForestClassifier\n",
        "\n",
        "RandomForest = RandomForestClassifier(n_estimators=300)\n",
        "RandomForest.fit(X_train, y_train)\n",
        "predictions = RandomForest.predict(X_val)\n",
        "score_model(y_val, predictions)"
      ],
      "metadata": {
        "colab": {
          "base_uri": "https://localhost:8080/"
        },
        "id": "rJy1-rxk4RuR",
        "outputId": "2c9a654a-c8b9-498a-d1b3-4eb75b9d727c"
      },
      "execution_count": null,
      "outputs": [
        {
          "output_type": "execute_result",
          "data": {
            "text/plain": [
              "0.9791928541926586"
            ]
          },
          "metadata": {},
          "execution_count": 34
        }
      ]
    },
    {
      "cell_type": "markdown",
      "source": [
        "#MultinomialNB"
      ],
      "metadata": {
        "id": "tx5QvSAF4Gb8"
      }
    },
    {
      "cell_type": "code",
      "source": [
        "from sklearn.naive_bayes import MultinomialNB\n",
        "\n",
        "model_MultinomialNB = MultinomialNB()\n",
        "model_MultinomialNB.fit(X_train, y_train)\n",
        "predictions = model_MultinomialNB.predict(X_val)\n",
        "score_model(y_val,predictions)"
      ],
      "metadata": {
        "colab": {
          "base_uri": "https://localhost:8080/"
        },
        "id": "yq5aeqGN4E_G",
        "outputId": "6942616d-dd25-4850-c695-f75e9a444246"
      },
      "execution_count": null,
      "outputs": [
        {
          "output_type": "execute_result",
          "data": {
            "text/plain": [
              "0.9734422888014719"
            ]
          },
          "metadata": {},
          "execution_count": 32
        }
      ]
    },
    {
      "cell_type": "markdown",
      "source": [
        "#MLP"
      ],
      "metadata": {
        "id": "j17Bm6UPwXGO"
      }
    },
    {
      "cell_type": "code",
      "source": [
        "from sklearn.neural_network import MLPClassifier\n",
        "neural_network = (4096, 256, 1024, 343, 49)\n",
        "ANN = MLPClassifier(max_iter=2 , activation='tanh', \n",
        "                    learning_rate_init=0.001,solver='adam', \n",
        "                    alpha=1e-5,\n",
        "                    hidden_layer_sizes=neural_network, \n",
        "                    random_state=42)"
      ],
      "metadata": {
        "id": "snrC2vixwWrY"
      },
      "execution_count": null,
      "outputs": []
    },
    {
      "cell_type": "code",
      "source": [
        "ANN.fit(X_train, y_train)"
      ],
      "metadata": {
        "colab": {
          "base_uri": "https://localhost:8080/",
          "height": 166
        },
        "id": "FhH9uqZFwYQh",
        "outputId": "f1ff92f7-7680-488d-fc18-25a3666c90ca"
      },
      "execution_count": null,
      "outputs": [
        {
          "output_type": "stream",
          "name": "stderr",
          "text": [
            "/usr/local/lib/python3.9/dist-packages/sklearn/neural_network/_multilayer_perceptron.py:686: ConvergenceWarning: Stochastic Optimizer: Maximum iterations (2) reached and the optimization hasn't converged yet.\n",
            "  warnings.warn(\n"
          ]
        },
        {
          "output_type": "execute_result",
          "data": {
            "text/plain": [
              "MLPClassifier(activation='tanh', alpha=1e-05,\n",
              "              hidden_layer_sizes=(4096, 256, 1024, 343, 49), max_iter=2,\n",
              "              random_state=42)"
            ],
            "text/html": [
              "<style>#sk-container-id-2 {color: black;background-color: white;}#sk-container-id-2 pre{padding: 0;}#sk-container-id-2 div.sk-toggleable {background-color: white;}#sk-container-id-2 label.sk-toggleable__label {cursor: pointer;display: block;width: 100%;margin-bottom: 0;padding: 0.3em;box-sizing: border-box;text-align: center;}#sk-container-id-2 label.sk-toggleable__label-arrow:before {content: \"▸\";float: left;margin-right: 0.25em;color: #696969;}#sk-container-id-2 label.sk-toggleable__label-arrow:hover:before {color: black;}#sk-container-id-2 div.sk-estimator:hover label.sk-toggleable__label-arrow:before {color: black;}#sk-container-id-2 div.sk-toggleable__content {max-height: 0;max-width: 0;overflow: hidden;text-align: left;background-color: #f0f8ff;}#sk-container-id-2 div.sk-toggleable__content pre {margin: 0.2em;color: black;border-radius: 0.25em;background-color: #f0f8ff;}#sk-container-id-2 input.sk-toggleable__control:checked~div.sk-toggleable__content {max-height: 200px;max-width: 100%;overflow: auto;}#sk-container-id-2 input.sk-toggleable__control:checked~label.sk-toggleable__label-arrow:before {content: \"▾\";}#sk-container-id-2 div.sk-estimator input.sk-toggleable__control:checked~label.sk-toggleable__label {background-color: #d4ebff;}#sk-container-id-2 div.sk-label input.sk-toggleable__control:checked~label.sk-toggleable__label {background-color: #d4ebff;}#sk-container-id-2 input.sk-hidden--visually {border: 0;clip: rect(1px 1px 1px 1px);clip: rect(1px, 1px, 1px, 1px);height: 1px;margin: -1px;overflow: hidden;padding: 0;position: absolute;width: 1px;}#sk-container-id-2 div.sk-estimator {font-family: monospace;background-color: #f0f8ff;border: 1px dotted black;border-radius: 0.25em;box-sizing: border-box;margin-bottom: 0.5em;}#sk-container-id-2 div.sk-estimator:hover {background-color: #d4ebff;}#sk-container-id-2 div.sk-parallel-item::after {content: \"\";width: 100%;border-bottom: 1px solid gray;flex-grow: 1;}#sk-container-id-2 div.sk-label:hover label.sk-toggleable__label {background-color: #d4ebff;}#sk-container-id-2 div.sk-serial::before {content: \"\";position: absolute;border-left: 1px solid gray;box-sizing: border-box;top: 0;bottom: 0;left: 50%;z-index: 0;}#sk-container-id-2 div.sk-serial {display: flex;flex-direction: column;align-items: center;background-color: white;padding-right: 0.2em;padding-left: 0.2em;position: relative;}#sk-container-id-2 div.sk-item {position: relative;z-index: 1;}#sk-container-id-2 div.sk-parallel {display: flex;align-items: stretch;justify-content: center;background-color: white;position: relative;}#sk-container-id-2 div.sk-item::before, #sk-container-id-2 div.sk-parallel-item::before {content: \"\";position: absolute;border-left: 1px solid gray;box-sizing: border-box;top: 0;bottom: 0;left: 50%;z-index: -1;}#sk-container-id-2 div.sk-parallel-item {display: flex;flex-direction: column;z-index: 1;position: relative;background-color: white;}#sk-container-id-2 div.sk-parallel-item:first-child::after {align-self: flex-end;width: 50%;}#sk-container-id-2 div.sk-parallel-item:last-child::after {align-self: flex-start;width: 50%;}#sk-container-id-2 div.sk-parallel-item:only-child::after {width: 0;}#sk-container-id-2 div.sk-dashed-wrapped {border: 1px dashed gray;margin: 0 0.4em 0.5em 0.4em;box-sizing: border-box;padding-bottom: 0.4em;background-color: white;}#sk-container-id-2 div.sk-label label {font-family: monospace;font-weight: bold;display: inline-block;line-height: 1.2em;}#sk-container-id-2 div.sk-label-container {text-align: center;}#sk-container-id-2 div.sk-container {/* jupyter's `normalize.less` sets `[hidden] { display: none; }` but bootstrap.min.css set `[hidden] { display: none !important; }` so we also need the `!important` here to be able to override the default hidden behavior on the sphinx rendered scikit-learn.org. See: https://github.com/scikit-learn/scikit-learn/issues/21755 */display: inline-block !important;position: relative;}#sk-container-id-2 div.sk-text-repr-fallback {display: none;}</style><div id=\"sk-container-id-2\" class=\"sk-top-container\"><div class=\"sk-text-repr-fallback\"><pre>MLPClassifier(activation=&#x27;tanh&#x27;, alpha=1e-05,\n",
              "              hidden_layer_sizes=(4096, 256, 1024, 343, 49), max_iter=2,\n",
              "              random_state=42)</pre><b>In a Jupyter environment, please rerun this cell to show the HTML representation or trust the notebook. <br />On GitHub, the HTML representation is unable to render, please try loading this page with nbviewer.org.</b></div><div class=\"sk-container\" hidden><div class=\"sk-item\"><div class=\"sk-estimator sk-toggleable\"><input class=\"sk-toggleable__control sk-hidden--visually\" id=\"sk-estimator-id-2\" type=\"checkbox\" checked><label for=\"sk-estimator-id-2\" class=\"sk-toggleable__label sk-toggleable__label-arrow\">MLPClassifier</label><div class=\"sk-toggleable__content\"><pre>MLPClassifier(activation=&#x27;tanh&#x27;, alpha=1e-05,\n",
              "              hidden_layer_sizes=(4096, 256, 1024, 343, 49), max_iter=2,\n",
              "              random_state=42)</pre></div></div></div></div></div>"
            ]
          },
          "metadata": {},
          "execution_count": 31
        }
      ]
    },
    {
      "cell_type": "code",
      "source": [
        "[coef.shape for coef in ANN.coefs_]"
      ],
      "metadata": {
        "colab": {
          "base_uri": "https://localhost:8080/"
        },
        "id": "qC8Km8UZwYgC",
        "outputId": "8a6af6df-55a3-47a0-f5ae-26c91ec43f7c"
      },
      "execution_count": null,
      "outputs": [
        {
          "output_type": "execute_result",
          "data": {
            "text/plain": [
              "[(11216, 4096), (4096, 256), (256, 1024), (1024, 343), (343, 49), (49, 7)]"
            ]
          },
          "metadata": {},
          "execution_count": 32
        }
      ]
    },
    {
      "cell_type": "code",
      "source": [
        "score_model(y_val, ANN.predict(X_val))"
      ],
      "metadata": {
        "colab": {
          "base_uri": "https://localhost:8080/"
        },
        "id": "PXT_Et-gwruf",
        "outputId": "7456c843-fbea-4cbf-ba0c-b4af6893cd81"
      },
      "execution_count": null,
      "outputs": [
        {
          "output_type": "execute_result",
          "data": {
            "text/plain": [
              "0.9828966489230898"
            ]
          },
          "metadata": {},
          "execution_count": 33
        }
      ]
    },
    {
      "cell_type": "markdown",
      "source": [
        "#New MLPClassifier"
      ],
      "metadata": {
        "id": "UsbuhSP896bm"
      }
    },
    {
      "cell_type": "code",
      "source": [
        "from sklearn.neural_network import MLPClassifier\n",
        "from sklearn.preprocessing import StandardScaler\n",
        "\n",
        "# Set up the MLPClassifier\n",
        "neural_network = (4096, 256, 1024, 343, 49)\n",
        "ANN = MLPClassifier(max_iter=2, activation='relu', \n",
        "                    learning_rate_init=0.001, solver='adam', \n",
        "                    alpha=1e-5, hidden_layer_sizes=neural_network, \n",
        "                    random_state=42)\n",
        "\n",
        "# Normalize the input data using StandardScaler\n",
        "scaler = StandardScaler()\n",
        "X_train_norm = scaler.fit_transform(X_train)\n",
        "X_val_norm = scaler.transform(X_val)\n",
        "\n",
        "# Fit the MLPClassifier to the training data\n",
        "ANN.fit(X_train_norm, y_train)\n",
        "\n",
        "# Predict the output labels for the validation data\n",
        "y_pred = ANN.predict(X_val_norm)\n"
      ],
      "metadata": {
        "colab": {
          "base_uri": "https://localhost:8080/"
        },
        "id": "X1GMCEJI95Cu",
        "outputId": "bd8f0851-8d8b-4d01-866a-dcf505b213aa"
      },
      "execution_count": null,
      "outputs": [
        {
          "output_type": "stream",
          "name": "stderr",
          "text": [
            "/usr/local/lib/python3.9/dist-packages/sklearn/neural_network/_multilayer_perceptron.py:686: ConvergenceWarning: Stochastic Optimizer: Maximum iterations (5) reached and the optimization hasn't converged yet.\n",
            "  warnings.warn(\n"
          ]
        }
      ]
    },
    {
      "cell_type": "code",
      "source": [
        "score_model(y_val, y_pred)"
      ],
      "metadata": {
        "colab": {
          "base_uri": "https://localhost:8080/"
        },
        "id": "c9Z5JVw7-RtT",
        "outputId": "d1ab59ed-9d1f-485b-d661-8b7b56528603"
      },
      "execution_count": null,
      "outputs": [
        {
          "output_type": "execute_result",
          "data": {
            "text/plain": [
              "0.9130920874444864"
            ]
          },
          "metadata": {},
          "execution_count": 19
        }
      ]
    },
    {
      "cell_type": "markdown",
      "source": [
        "#VotingClassifier"
      ],
      "metadata": {
        "id": "ZoOTyFuH5VrY"
      }
    },
    {
      "cell_type": "code",
      "source": [
        "# Ensemble model\n",
        "from sklearn.ensemble import VotingClassifier\n",
        "from sklearn.naive_bayes import MultinomialNB\n",
        "from sklearn.neural_network import MLPClassifier\n",
        "from sklearn.ensemble import RandomForestClassifier\n",
        "\n",
        "mnb = MultinomialNB()\n",
        "rf = RandomForestClassifier(n_estimators=300)\n",
        "neural_network = (4096, 256, 1024, 275, 49) \n",
        "mlp = MLPClassifier(max_iter=2 , activation='relu', \n",
        "                    learning_rate_init=0.001,solver='adam', \n",
        "                    alpha=1e-5,\n",
        "                    hidden_layer_sizes=neural_network, \n",
        "                    random_state=42)\n",
        "\n",
        "ensemble_model = VotingClassifier(estimators=[('mnb', mnb), ('rf', rf), ('mlp', mlp)], voting='hard')\n",
        "ensemble_model.fit(X_train, y_train)\n",
        "predictions = ensemble_model.predict(X_val)\n",
        "score_model(y_val, predictions)"
      ],
      "metadata": {
        "colab": {
          "base_uri": "https://localhost:8080/"
        },
        "id": "uQam9VlC5VbX",
        "outputId": "a4cf0455-5421-4334-c755-b9e1ecee7529"
      },
      "execution_count": null,
      "outputs": [
        {
          "output_type": "stream",
          "name": "stderr",
          "text": [
            "/usr/local/lib/python3.9/dist-packages/sklearn/neural_network/_multilayer_perceptron.py:686: ConvergenceWarning: Stochastic Optimizer: Maximum iterations (2) reached and the optimization hasn't converged yet.\n",
            "  warnings.warn(\n"
          ]
        },
        {
          "output_type": "execute_result",
          "data": {
            "text/plain": [
              "0.9776707204482734"
            ]
          },
          "metadata": {},
          "execution_count": 16
        }
      ]
    },
    {
      "cell_type": "markdown",
      "source": [
        "#predict and format\n"
      ],
      "metadata": {
        "id": "BvLE_hvi3Q8V"
      }
    },
    {
      "cell_type": "code",
      "source": [
        "import pandas as pd"
      ],
      "metadata": {
        "id": "dXIS9v2g0TAL"
      },
      "execution_count": null,
      "outputs": []
    },
    {
      "cell_type": "code",
      "source": [
        "small_test = pd.read_csv(\"/content/test.csv\")\n",
        "sample_submission = pd.read_csv(\"/content/intent_sample_submission.csv\")\n",
        "small_test"
      ],
      "metadata": {
        "colab": {
          "base_uri": "https://localhost:8080/",
          "height": 423
        },
        "id": "v5n6engH3Zj4",
        "outputId": "9c828cf1-2d69-441a-e29e-328579664516"
      },
      "execution_count": null,
      "outputs": [
        {
          "output_type": "execute_result",
          "data": {
            "text/plain": [
              "      id                                          utterance\n",
              "0      1   add this tune to my playlist guest list mashable\n",
              "1      2  i d like to listen to the song the natural farmer\n",
              "2      3  i need a table for 8 people at a restaurant in...\n",
              "3      4  open the canciones del recuerdo playlist and p...\n",
              "4      5  i want to hear something from the top-fifty by...\n",
              "..   ...                                                ...\n",
              "295  296  show weather forecast in west wildwood south c...\n",
              "296  297     add this track to the playlist hits of the 70s\n",
              "297  298  i want to eat at a food truck this week with m...\n",
              "298  299                   rate company for gertrude 4 of 6\n",
              "299  300  i need a table for four at a pub in heard isla...\n",
              "\n",
              "[300 rows x 2 columns]"
            ],
            "text/html": [
              "\n",
              "  <div id=\"df-daf41daf-a25d-4931-b1ee-3003dfda9059\">\n",
              "    <div class=\"colab-df-container\">\n",
              "      <div>\n",
              "<style scoped>\n",
              "    .dataframe tbody tr th:only-of-type {\n",
              "        vertical-align: middle;\n",
              "    }\n",
              "\n",
              "    .dataframe tbody tr th {\n",
              "        vertical-align: top;\n",
              "    }\n",
              "\n",
              "    .dataframe thead th {\n",
              "        text-align: right;\n",
              "    }\n",
              "</style>\n",
              "<table border=\"1\" class=\"dataframe\">\n",
              "  <thead>\n",
              "    <tr style=\"text-align: right;\">\n",
              "      <th></th>\n",
              "      <th>id</th>\n",
              "      <th>utterance</th>\n",
              "    </tr>\n",
              "  </thead>\n",
              "  <tbody>\n",
              "    <tr>\n",
              "      <th>0</th>\n",
              "      <td>1</td>\n",
              "      <td>add this tune to my playlist guest list mashable</td>\n",
              "    </tr>\n",
              "    <tr>\n",
              "      <th>1</th>\n",
              "      <td>2</td>\n",
              "      <td>i d like to listen to the song the natural farmer</td>\n",
              "    </tr>\n",
              "    <tr>\n",
              "      <th>2</th>\n",
              "      <td>3</td>\n",
              "      <td>i need a table for 8 people at a restaurant in...</td>\n",
              "    </tr>\n",
              "    <tr>\n",
              "      <th>3</th>\n",
              "      <td>4</td>\n",
              "      <td>open the canciones del recuerdo playlist and p...</td>\n",
              "    </tr>\n",
              "    <tr>\n",
              "      <th>4</th>\n",
              "      <td>5</td>\n",
              "      <td>i want to hear something from the top-fifty by...</td>\n",
              "    </tr>\n",
              "    <tr>\n",
              "      <th>...</th>\n",
              "      <td>...</td>\n",
              "      <td>...</td>\n",
              "    </tr>\n",
              "    <tr>\n",
              "      <th>295</th>\n",
              "      <td>296</td>\n",
              "      <td>show weather forecast in west wildwood south c...</td>\n",
              "    </tr>\n",
              "    <tr>\n",
              "      <th>296</th>\n",
              "      <td>297</td>\n",
              "      <td>add this track to the playlist hits of the 70s</td>\n",
              "    </tr>\n",
              "    <tr>\n",
              "      <th>297</th>\n",
              "      <td>298</td>\n",
              "      <td>i want to eat at a food truck this week with m...</td>\n",
              "    </tr>\n",
              "    <tr>\n",
              "      <th>298</th>\n",
              "      <td>299</td>\n",
              "      <td>rate company for gertrude 4 of 6</td>\n",
              "    </tr>\n",
              "    <tr>\n",
              "      <th>299</th>\n",
              "      <td>300</td>\n",
              "      <td>i need a table for four at a pub in heard isla...</td>\n",
              "    </tr>\n",
              "  </tbody>\n",
              "</table>\n",
              "<p>300 rows × 2 columns</p>\n",
              "</div>\n",
              "      <button class=\"colab-df-convert\" onclick=\"convertToInteractive('df-daf41daf-a25d-4931-b1ee-3003dfda9059')\"\n",
              "              title=\"Convert this dataframe to an interactive table.\"\n",
              "              style=\"display:none;\">\n",
              "        \n",
              "  <svg xmlns=\"http://www.w3.org/2000/svg\" height=\"24px\"viewBox=\"0 0 24 24\"\n",
              "       width=\"24px\">\n",
              "    <path d=\"M0 0h24v24H0V0z\" fill=\"none\"/>\n",
              "    <path d=\"M18.56 5.44l.94 2.06.94-2.06 2.06-.94-2.06-.94-.94-2.06-.94 2.06-2.06.94zm-11 1L8.5 8.5l.94-2.06 2.06-.94-2.06-.94L8.5 2.5l-.94 2.06-2.06.94zm10 10l.94 2.06.94-2.06 2.06-.94-2.06-.94-.94-2.06-.94 2.06-2.06.94z\"/><path d=\"M17.41 7.96l-1.37-1.37c-.4-.4-.92-.59-1.43-.59-.52 0-1.04.2-1.43.59L10.3 9.45l-7.72 7.72c-.78.78-.78 2.05 0 2.83L4 21.41c.39.39.9.59 1.41.59.51 0 1.02-.2 1.41-.59l7.78-7.78 2.81-2.81c.8-.78.8-2.07 0-2.86zM5.41 20L4 18.59l7.72-7.72 1.47 1.35L5.41 20z\"/>\n",
              "  </svg>\n",
              "      </button>\n",
              "      \n",
              "  <style>\n",
              "    .colab-df-container {\n",
              "      display:flex;\n",
              "      flex-wrap:wrap;\n",
              "      gap: 12px;\n",
              "    }\n",
              "\n",
              "    .colab-df-convert {\n",
              "      background-color: #E8F0FE;\n",
              "      border: none;\n",
              "      border-radius: 50%;\n",
              "      cursor: pointer;\n",
              "      display: none;\n",
              "      fill: #1967D2;\n",
              "      height: 32px;\n",
              "      padding: 0 0 0 0;\n",
              "      width: 32px;\n",
              "    }\n",
              "\n",
              "    .colab-df-convert:hover {\n",
              "      background-color: #E2EBFA;\n",
              "      box-shadow: 0px 1px 2px rgba(60, 64, 67, 0.3), 0px 1px 3px 1px rgba(60, 64, 67, 0.15);\n",
              "      fill: #174EA6;\n",
              "    }\n",
              "\n",
              "    [theme=dark] .colab-df-convert {\n",
              "      background-color: #3B4455;\n",
              "      fill: #D2E3FC;\n",
              "    }\n",
              "\n",
              "    [theme=dark] .colab-df-convert:hover {\n",
              "      background-color: #434B5C;\n",
              "      box-shadow: 0px 1px 3px 1px rgba(0, 0, 0, 0.15);\n",
              "      filter: drop-shadow(0px 1px 2px rgba(0, 0, 0, 0.3));\n",
              "      fill: #FFFFFF;\n",
              "    }\n",
              "  </style>\n",
              "\n",
              "      <script>\n",
              "        const buttonEl =\n",
              "          document.querySelector('#df-daf41daf-a25d-4931-b1ee-3003dfda9059 button.colab-df-convert');\n",
              "        buttonEl.style.display =\n",
              "          google.colab.kernel.accessAllowed ? 'block' : 'none';\n",
              "\n",
              "        async function convertToInteractive(key) {\n",
              "          const element = document.querySelector('#df-daf41daf-a25d-4931-b1ee-3003dfda9059');\n",
              "          const dataTable =\n",
              "            await google.colab.kernel.invokeFunction('convertToInteractive',\n",
              "                                                     [key], {});\n",
              "          if (!dataTable) return;\n",
              "\n",
              "          const docLinkHtml = 'Like what you see? Visit the ' +\n",
              "            '<a target=\"_blank\" href=https://colab.research.google.com/notebooks/data_table.ipynb>data table notebook</a>'\n",
              "            + ' to learn more about interactive tables.';\n",
              "          element.innerHTML = '';\n",
              "          dataTable['output_type'] = 'display_data';\n",
              "          await google.colab.output.renderOutput(dataTable, element);\n",
              "          const docLink = document.createElement('div');\n",
              "          docLink.innerHTML = docLinkHtml;\n",
              "          element.appendChild(docLink);\n",
              "        }\n",
              "      </script>\n",
              "    </div>\n",
              "  </div>\n",
              "  "
            ]
          },
          "metadata": {},
          "execution_count": 34
        }
      ]
    },
    {
      "cell_type": "code",
      "source": [
        "data_precidt = []\n",
        "for preData in small_test[\"utterance\"]:\n",
        "    if not pd.isnull(preData):\n",
        "        data_precidt.append(preData)"
      ],
      "metadata": {
        "id": "7oJ391db4ENi"
      },
      "execution_count": null,
      "outputs": []
    },
    {
      "cell_type": "code",
      "source": [
        "data_precidt"
      ],
      "metadata": {
        "colab": {
          "base_uri": "https://localhost:8080/"
        },
        "id": "G2vtWEGM4Sn6",
        "outputId": "e15d5724-394c-4cca-e709-e26cf8f73a1f"
      },
      "execution_count": null,
      "outputs": [
        {
          "output_type": "execute_result",
          "data": {
            "text/plain": [
              "['add this tune to my playlist guest list mashable',\n",
              " 'i d like to listen to the song the natural farmer',\n",
              " 'i need a table for 8 people at a restaurant in district of columbia',\n",
              " 'open the canciones del recuerdo playlist and play songs',\n",
              " 'i want to hear something from the top-fifty by jose pasillas',\n",
              " 'i rate the mathematical magpie chronicle a 0 of 6',\n",
              " 'show the movie schedule of animated movies close by',\n",
              " 'what time is careful  he might hear you playing at the cinema',\n",
              " 'i m looking to get a seat at a brasserie in togo',\n",
              " 'i need a table for 8 during midday in montana',\n",
              " 'play rain by subliminal on groove shark',\n",
              " 'what animated movies are playing close by at four o clock',\n",
              " 'add album to bajo las estrellas',\n",
              " 'i am giving this novel 3 stars',\n",
              " 'i need to episodes for the tv series  fast food nation',\n",
              " 'book a reservation for seven people at a steakhouse in kenya',\n",
              " 'reserve a spotat the food truck twelve weeks from now',\n",
              " 'where is the nearest movie theatre that is playing the king maker',\n",
              " 'add lisa dalbello to my 2015 cma awards nominees list',\n",
              " 'can i have the movie schedule for right now',\n",
              " 'play some spotify by danni bassan',\n",
              " 'find the passion of michel foucault novel',\n",
              " 'please add this track to my weekend list',\n",
              " 'give zero out of 6 points to mr american',\n",
              " 'give heartland chronicle four points',\n",
              " 'this book gets a 1 out of 6 rating from me',\n",
              " 'i want to book a table for me and josefa at jacob wirth restaurant in branford',\n",
              " 'what s the weather forecast for 3 hours from now at christmas island',\n",
              " 'weather for ringold',\n",
              " 'do an image search for the picture perfect storm: disasters that changed the world',\n",
              " 'book in rocky mound for four 1 hour from now',\n",
              " 'i d like to watch films at the closest movie theatre',\n",
              " 'rate the current essay a one',\n",
              " 'find a reservation for six at a top-rated brasserie',\n",
              " 'for my fantastic workout can you add sara bareilles',\n",
              " 'find me nights in harlem',\n",
              " 'give this series 4 stars',\n",
              " 'put a molly mcguire album in my metal talks kreator playlist',\n",
              " 'how do i get the soundtrack for hearts of fencing',\n",
              " 'i d like to watch the freckled fish at 00:47:43 at magic johnson theatres',\n",
              " 'rate the book the orchard book of first greek myths a 0',\n",
              " 'i would like a restaurant reservation for this year for 4 people',\n",
              " 'when is the woman going to be scheduled at the closest movie house',\n",
              " 'book a popular restaurant in new jersey',\n",
              " 'i want to book the black cat bar in ar',\n",
              " 'need to find the soundtrack called fire in the valley',\n",
              " 'what is the colder forecast for nationaal park bidoup núi bà in a week',\n",
              " 'show me the movie times for animated movies that are in theaters close by',\n",
              " 'where can i watch gaddar: the traitor',\n",
              " 'look for the tv series the stars at saint andrea',\n",
              " 'make reservations for 7 people at a top-rated brazilian pub around rockaway park-beach 116th',\n",
              " 'find animated movies close by with a movie schedule',\n",
              " 'add i roy to my this is rosana playlist',\n",
              " 'i m looking for an album called the orchestrion project',\n",
              " 'book in oh in gurabo for velma and gloria',\n",
              " 'rate from a buick 8 0 out of 6',\n",
              " 'where can i find the work it was raining that night',\n",
              " 'add this track to llegando a casa',\n",
              " 'show movie schedules for animated movies playing close by now',\n",
              " 'is it warm in sierra blanca now',\n",
              " 'i need the weather for 7/13/2036 in gwynedd valley',\n",
              " 'what is the forecast for lesotho for starting this fall',\n",
              " 'give 4 out of 6 stars to current chronicle',\n",
              " 'where is wild america showing at zero p m',\n",
              " 'show movie times of films close by',\n",
              " 'will dick tracy e il gas misterioso start twenty one hours from now',\n",
              " 'find the movie schedules at goodrich quality theaters',\n",
              " 'what s the weather forecast for elida  rhode island',\n",
              " 'what is the cheapest price for the saga called 2006 wikipedia cd selection',\n",
              " 'put this yury chernavsky tune on my alternative route playlist',\n",
              " 'for my playlist chill add the name cater fe she',\n",
              " 'play some drum & bass',\n",
              " 'where is the closest cinema playing a drink in the passage',\n",
              " 'is the forecast windy in nigeria on nov  the 6th',\n",
              " 'include dschiwan gasparjan in beth s rare groove playlist',\n",
              " 'book a reservation for 10 people at an oyster bar with a pool within the same area of cowansburg for 10 pm',\n",
              " 'i want to view the picture in old monterey',\n",
              " 'rate the current textbook 5 stars',\n",
              " 'what s the weather going to be in 7 hours in fm',\n",
              " 'put bring me down onto my tokyo rising playlist',\n",
              " 'rate the book the outlaws of sherwood two stars',\n",
              " 'will there be a blizzard in kettleman city today',\n",
              " 'play top 100 indie tracks on spotify on lastfm',\n",
              " 'i need a reservation for the best asian joint on jan  3 in bradford alabama for a party of 9',\n",
              " 'show creative devils to some',\n",
              " 'what movie theatre is playing the deaths of ian stone',\n",
              " 'add artist to novedades pop',\n",
              " 'please rate this book and album 4 to 6 stars',\n",
              " 'whaere is bloody bloody bible camp playing in the cinema',\n",
              " 'i need a table for 5 at the restaurant i ate at last oct',\n",
              " 'play me the greatest track of 1966',\n",
              " 'play a track by mila islam from deezer',\n",
              " 'give northern lights audio 5 / 6 points',\n",
              " 'what is the loco weather forecast',\n",
              " 'turn on google music to play 1991',\n",
              " 'add dr know to the playlist named i love my 90 s r&b',\n",
              " 'rate the nightmare fair five out of 6 stars',\n",
              " 'please add a track from jeff mills to my hiphop hot 50 playlist',\n",
              " 'make me a reservation in ne at a distant resturant that is a pizzeria',\n",
              " 'play some maynard james keenan songs from scenes from the big chair',\n",
              " 'rate the following novel one of 6',\n",
              " 'add a very cellular song to masters of metal playlist',\n",
              " 'is the weather chilly in dew de',\n",
              " 'i d like to see a movies  at the nearest movie house',\n",
              " 'play murder the mountains by mana on netflix',\n",
              " 'tell me the weather forecast for murone kōgen prefectural natural park at elevenses',\n",
              " 'find close by films with a movie schedule',\n",
              " 'give the current essay five points / 6',\n",
              " 'add tune to my country playlist',\n",
              " 'please play something on iheart from artist ari gold last album',\n",
              " 'tell me the weather forecast for ut on thursday',\n",
              " 'add slave to the rhythm to the playlist massive soca hits',\n",
              " 'rate this album 4 points',\n",
              " 'give the case of jennie brice 4 stars out of 6',\n",
              " 'use lastfm to play attack of the planet smashers',\n",
              " 'play music on the playlist urban hits',\n",
              " 'rate this textbook four of 6 points',\n",
              " 'play asia nitollano using itunes',\n",
              " 'give the fox and the hound a 1',\n",
              " 'what s the weather forecast for tn on december seventh  2026',\n",
              " 'add album to feeling blue',\n",
              " 'i need a table at light horse tavern in city of the dalles nh for kathleen  brianna and i',\n",
              " 'play the top twenty movement songs from roberto valverde',\n",
              " 'book a reservation for a trentino restaurant in kansas',\n",
              " 'play donna summer',\n",
              " 'play a paolo gregoletto song',\n",
              " 'play music by keren woodward',\n",
              " 'add song to marta s endorphin rush playlist',\n",
              " 'i gave perchance to dream 4 of 6 points',\n",
              " 'add a track to my alok house party playlist',\n",
              " 'give the current album 0 out of 6 stars',\n",
              " 'add daigo to indietronic',\n",
              " 'give four out of 6 rating to the cattle king',\n",
              " 'ad sabah to my evening groove playlist',\n",
              " 'in a week  make a reservation for a table of 7 in district of columbia',\n",
              " 'what will the weather be a nine in willow river state park',\n",
              " 'find the creeper',\n",
              " 'what is the forecast in the same area as fiji',\n",
              " 'add janie jones to my indie pop',\n",
              " 'get me the trick or treats soundtrack',\n",
              " 'i rate the current textbook a 0 of 6',\n",
              " 'search for the adventure of the blue carbuncle',\n",
              " 'put a bunky green tune into the phunkadelic playlist',\n",
              " 'play brenda kahn s rushall station',\n",
              " 'add vertexguy to beach vibes',\n",
              " 'i have six people who would like to eat at a cafe that serves american chinese cuisine in tx',\n",
              " 'read the black-body theory and the quantum discontinuity novel',\n",
              " 'i would rate the kid from hell a value of 1 and a best rating of 6',\n",
              " 'use deezer to play top five moya brennan',\n",
              " 'give grand conspiracy zero out of 6 points',\n",
              " 'what is the weather like in detroit lakes',\n",
              " 'find show-ya 20th anniversary the best',\n",
              " 'add a tune to my playlist women of k-pop',\n",
              " 'i want to take nine people to a diner close to the spa',\n",
              " 'give 2 out of 6 points to current essay',\n",
              " 'book a jewish churrascaria in minnesota for 9 people',\n",
              " 'make me a reservation that serves kebab at a delicatessen in ambler',\n",
              " 'do you know of a song by the mande studies association',\n",
              " 'will it be humid in beedeville on november 20',\n",
              " 'please play music from itunes',\n",
              " 'look for every little crook and nanny',\n",
              " 'find the good wife',\n",
              " 'play cherry pink by trapp mendoza on iheart',\n",
              " 'what is the weather forecast nearby sc',\n",
              " 'i want to watch manthan',\n",
              " 'add even serpents shine to dorothea s indie hipster playlist',\n",
              " 'what s the weather in stone mountain kentucky',\n",
              " 'will the weather in falcon heights call for rain',\n",
              " 'book the best table in tanzania for 5 people at a diner',\n",
              " 'put kan on my indie rock road trip',\n",
              " 'play some eddie vinson on deezer',\n",
              " 'add family tree to conexiones',\n",
              " 'play me a felix kubin from no light on spotify',\n",
              " 'i d like a table for two at a place in west whittier nevada on indigenous people s day',\n",
              " 'put abe laboriel onto the escapada playlist',\n",
              " 'book a table for mindy and angelita at a restaurant which serves café liégeois',\n",
              " 'i want to add this so chan whee tune to latin alternative music',\n",
              " 'whens the next showing of the game of their lives',\n",
              " 'play blind company',\n",
              " 'show me the video game the stillest hour',\n",
              " 'play no more sorrow',\n",
              " 'rate lost boys: why our sons turn violent and how we can save them zero of 6',\n",
              " 'add all bad to the summer of love playlist',\n",
              " 'find a trailer called peggy sue',\n",
              " 'find the soundtrack titled this side of paradise',\n",
              " 'how will the weather be on may 9 in wyoming',\n",
              " 'add this tune to my rockabilly mania',\n",
              " 'what is the forecast for niger',\n",
              " 'add inconfundible to stomp & holler',\n",
              " 'play melody and sort the newest in dj format',\n",
              " 'i am rating book of challenges four stars',\n",
              " 'list all the movies playing in the area now',\n",
              " 'what are the movie schedules for the loews cineplex',\n",
              " 'play march of the soviet tankmen from gloria gaither',\n",
              " 'play movement by duane allman',\n",
              " 'give the cia and the cult of intelligence a rating of 5',\n",
              " 'put this album on my conexiones list',\n",
              " 'book a churrascaria restaurant that serves spring rolls for one person',\n",
              " 'book a restaurant that serves pasta for 5 people',\n",
              " 'look for the nightmare on providence street saga',\n",
              " 'play me a 1990 sound track',\n",
              " 'what is the movie schedule for general cinema corporation',\n",
              " 'where is the closest cinema playing osmanthus alley',\n",
              " 'book a tyrolean restaurant in crocker indiana now for 3 people',\n",
              " 'add xsuie in your favorite coffeehouse',\n",
              " 'play music by fidel nadal sorted by newest',\n",
              " 'find me the album the demon',\n",
              " 'book a restaurant that serves bouchée for midnight',\n",
              " 'what s the weather in waretown lebanon',\n",
              " 'book a restaurant for one in al',\n",
              " 'play giovanni battista guadagnini s 1982 tracks',\n",
              " 'show me the nearest movies at movie theatre for twenty one o clock',\n",
              " 'show me firepower',\n",
              " 'what is the movie schedule at mjr theatres',\n",
              " 'what will the weather be in wakarusa',\n",
              " 'i rated the island of adventure saga a 2 of 6',\n",
              " 'find a movie schedule in the neighborhood for films',\n",
              " 'what is the foggy forecast for nov  15 in france in brookland terrace',\n",
              " 'what will the weather be like on january the twenty-third  2034 in ga',\n",
              " 'what is the forecast for colder temps beginning on law day here',\n",
              " 'play oliver cheatham s symphony from the thirties',\n",
              " 'what kind of weather was forecast near harmony flats nature reserve last march',\n",
              " 'find the movie schedule for animated movies in the neighbourhood',\n",
              " 'book a reservation for 1 at pm park  clear lake  iowa in mongolia in 1 hour',\n",
              " 'rate this novel 0 of 6 stars',\n",
              " 'give one out of 6 points to this album',\n",
              " 'party of two for a food truck on december 22 that serves chicken french in bolivia',\n",
              " 'are there any movies playing around here',\n",
              " 'what time does the next movie play around here',\n",
              " 'find the movie schedule for great escape theatres',\n",
              " 'please include danni bassan in my perfect concentration',\n",
              " 'book me a table at a bistro that serves maple syrup for a party of 10',\n",
              " 'play my tribute by billy cox',\n",
              " 'i need another tune in my legendary guitar solos playlist',\n",
              " 'find the game endangered species',\n",
              " 'put this tune on dancepop',\n",
              " 'play joshua homme belle and sebastian write about love',\n",
              " 'i wish to enjoy some fifties music by johnny paycheck',\n",
              " 'table for eight at the berghoff in sistersville in jul',\n",
              " 'i d like to book a place to eat in ny',\n",
              " 'find a book called the mad magician',\n",
              " 'warmer condition in haiti  south otselic',\n",
              " 'book a bakery with smoking room for nine in niger',\n",
              " 'play something on zvooq',\n",
              " 'for the saga magic in ithkar 2 i give two stars',\n",
              " 'will there be rain today in greece',\n",
              " 'i want to book an indonesian food truck',\n",
              " 'rate this saga two out of 6 points',\n",
              " 'give the current part of the saga 4 points out of 6',\n",
              " 'please add emanuel kiriakou to my playlist llegando a casa',\n",
              " 'add this artist to my the road to punk rock playlist',\n",
              " 'put unbound into found them first for me',\n",
              " 'add this song to my love hurts playlist',\n",
              " 'please find the closest cinema that s playing movies at 9 am',\n",
              " 'what s the weather now in salmon lake state park',\n",
              " 'are there any animated movies playing at the closest cinema',\n",
              " 'listen to ballad songs from the twenties',\n",
              " 'rate the current novel 1 of 6',\n",
              " 'please let me know the weather forecast in louisiana state',\n",
              " 'show force of nature',\n",
              " 'rate this essay 4 of 6 stars',\n",
              " 'find movie times nearby for animated movies',\n",
              " 'play me some music on deezer',\n",
              " 'add this david cole track to my totally stress free',\n",
              " 'add don and sherri to the electrosafari playlist',\n",
              " 'play me a cinder block movement',\n",
              " 'play the top-twenty from alexander braginsky',\n",
              " 'please show me the closest movie house playing wild on the beach in 1 minute',\n",
              " 'i need seats for 6 at char no 4 in georgia',\n",
              " 'please fine me  ties that bind',\n",
              " 'rate this textbook two out of 6',\n",
              " 'will the sun be out close-by admiralty island national monument',\n",
              " 'add a norma jean tune to the soul revived playlist',\n",
              " 'add thomas a dorsey to my big band',\n",
              " 'weather within the same area as qatar at four',\n",
              " 'will it get foggy in spring hill',\n",
              " 'tell me when it will be hotter in china',\n",
              " 'when is for lovers only playing',\n",
              " 'i need to get seats for me and my ex wife to eat in egypt',\n",
              " 'find the real dirt on farmer john  a saga',\n",
              " 'i want to listen to speed metal symphony',\n",
              " 'play a ballad by heath',\n",
              " 'find phinally phamous',\n",
              " 'reserve a table in top of the mark lambertville  vermont',\n",
              " 'find the novel a civil war: army vs  navy',\n",
              " 'i want to hear a top-50 track from takahito eguchi on google music',\n",
              " 'book cornelia and bettie a table at a brasserie restaurant in colombia',\n",
              " 'will it hail in 1 second on riceboro delaware',\n",
              " 'can you bring up the movie schedule for arclight hollywood',\n",
              " 'show weather forecast in as',\n",
              " 'what time is amc theaters playing unnikrishnante adyathe christmas',\n",
              " 'what movies are playing in the area',\n",
              " 'can you add some disco to my playlist called genuine r&b',\n",
              " 'i need a table for ten on april the eighteenth  2030',\n",
              " 'what are the movies showing in the neighbourhood',\n",
              " 'show weather forecast in west wildwood south carolina',\n",
              " 'add this track to the playlist hits of the 70s',\n",
              " 'i want to eat at a food truck this week with my colleague and i',\n",
              " 'rate company for gertrude 4 of 6',\n",
              " 'i need a table for four at a pub in heard island and mcdonald islands']"
            ]
          },
          "metadata": {},
          "execution_count": 36
        }
      ]
    },
    {
      "cell_type": "code",
      "source": [
        "sample_submission"
      ],
      "metadata": {
        "colab": {
          "base_uri": "https://localhost:8080/",
          "height": 423
        },
        "id": "O0eOTvm46evB",
        "outputId": "0b56bf73-c4e0-4989-cded-bd7391b49fc7"
      },
      "execution_count": null,
      "outputs": [
        {
          "output_type": "execute_result",
          "data": {
            "text/plain": [
              "      id         intent\n",
              "0      1  AddToPlaylist\n",
              "1      2            NaN\n",
              "2      3            NaN\n",
              "3      4            NaN\n",
              "4      5            NaN\n",
              "..   ...            ...\n",
              "295  296            NaN\n",
              "296  297            NaN\n",
              "297  298            NaN\n",
              "298  299            NaN\n",
              "299  300            NaN\n",
              "\n",
              "[300 rows x 2 columns]"
            ],
            "text/html": [
              "\n",
              "  <div id=\"df-6489db64-8021-4985-926e-a5e6f81cc49e\">\n",
              "    <div class=\"colab-df-container\">\n",
              "      <div>\n",
              "<style scoped>\n",
              "    .dataframe tbody tr th:only-of-type {\n",
              "        vertical-align: middle;\n",
              "    }\n",
              "\n",
              "    .dataframe tbody tr th {\n",
              "        vertical-align: top;\n",
              "    }\n",
              "\n",
              "    .dataframe thead th {\n",
              "        text-align: right;\n",
              "    }\n",
              "</style>\n",
              "<table border=\"1\" class=\"dataframe\">\n",
              "  <thead>\n",
              "    <tr style=\"text-align: right;\">\n",
              "      <th></th>\n",
              "      <th>id</th>\n",
              "      <th>intent</th>\n",
              "    </tr>\n",
              "  </thead>\n",
              "  <tbody>\n",
              "    <tr>\n",
              "      <th>0</th>\n",
              "      <td>1</td>\n",
              "      <td>AddToPlaylist</td>\n",
              "    </tr>\n",
              "    <tr>\n",
              "      <th>1</th>\n",
              "      <td>2</td>\n",
              "      <td>NaN</td>\n",
              "    </tr>\n",
              "    <tr>\n",
              "      <th>2</th>\n",
              "      <td>3</td>\n",
              "      <td>NaN</td>\n",
              "    </tr>\n",
              "    <tr>\n",
              "      <th>3</th>\n",
              "      <td>4</td>\n",
              "      <td>NaN</td>\n",
              "    </tr>\n",
              "    <tr>\n",
              "      <th>4</th>\n",
              "      <td>5</td>\n",
              "      <td>NaN</td>\n",
              "    </tr>\n",
              "    <tr>\n",
              "      <th>...</th>\n",
              "      <td>...</td>\n",
              "      <td>...</td>\n",
              "    </tr>\n",
              "    <tr>\n",
              "      <th>295</th>\n",
              "      <td>296</td>\n",
              "      <td>NaN</td>\n",
              "    </tr>\n",
              "    <tr>\n",
              "      <th>296</th>\n",
              "      <td>297</td>\n",
              "      <td>NaN</td>\n",
              "    </tr>\n",
              "    <tr>\n",
              "      <th>297</th>\n",
              "      <td>298</td>\n",
              "      <td>NaN</td>\n",
              "    </tr>\n",
              "    <tr>\n",
              "      <th>298</th>\n",
              "      <td>299</td>\n",
              "      <td>NaN</td>\n",
              "    </tr>\n",
              "    <tr>\n",
              "      <th>299</th>\n",
              "      <td>300</td>\n",
              "      <td>NaN</td>\n",
              "    </tr>\n",
              "  </tbody>\n",
              "</table>\n",
              "<p>300 rows × 2 columns</p>\n",
              "</div>\n",
              "      <button class=\"colab-df-convert\" onclick=\"convertToInteractive('df-6489db64-8021-4985-926e-a5e6f81cc49e')\"\n",
              "              title=\"Convert this dataframe to an interactive table.\"\n",
              "              style=\"display:none;\">\n",
              "        \n",
              "  <svg xmlns=\"http://www.w3.org/2000/svg\" height=\"24px\"viewBox=\"0 0 24 24\"\n",
              "       width=\"24px\">\n",
              "    <path d=\"M0 0h24v24H0V0z\" fill=\"none\"/>\n",
              "    <path d=\"M18.56 5.44l.94 2.06.94-2.06 2.06-.94-2.06-.94-.94-2.06-.94 2.06-2.06.94zm-11 1L8.5 8.5l.94-2.06 2.06-.94-2.06-.94L8.5 2.5l-.94 2.06-2.06.94zm10 10l.94 2.06.94-2.06 2.06-.94-2.06-.94-.94-2.06-.94 2.06-2.06.94z\"/><path d=\"M17.41 7.96l-1.37-1.37c-.4-.4-.92-.59-1.43-.59-.52 0-1.04.2-1.43.59L10.3 9.45l-7.72 7.72c-.78.78-.78 2.05 0 2.83L4 21.41c.39.39.9.59 1.41.59.51 0 1.02-.2 1.41-.59l7.78-7.78 2.81-2.81c.8-.78.8-2.07 0-2.86zM5.41 20L4 18.59l7.72-7.72 1.47 1.35L5.41 20z\"/>\n",
              "  </svg>\n",
              "      </button>\n",
              "      \n",
              "  <style>\n",
              "    .colab-df-container {\n",
              "      display:flex;\n",
              "      flex-wrap:wrap;\n",
              "      gap: 12px;\n",
              "    }\n",
              "\n",
              "    .colab-df-convert {\n",
              "      background-color: #E8F0FE;\n",
              "      border: none;\n",
              "      border-radius: 50%;\n",
              "      cursor: pointer;\n",
              "      display: none;\n",
              "      fill: #1967D2;\n",
              "      height: 32px;\n",
              "      padding: 0 0 0 0;\n",
              "      width: 32px;\n",
              "    }\n",
              "\n",
              "    .colab-df-convert:hover {\n",
              "      background-color: #E2EBFA;\n",
              "      box-shadow: 0px 1px 2px rgba(60, 64, 67, 0.3), 0px 1px 3px 1px rgba(60, 64, 67, 0.15);\n",
              "      fill: #174EA6;\n",
              "    }\n",
              "\n",
              "    [theme=dark] .colab-df-convert {\n",
              "      background-color: #3B4455;\n",
              "      fill: #D2E3FC;\n",
              "    }\n",
              "\n",
              "    [theme=dark] .colab-df-convert:hover {\n",
              "      background-color: #434B5C;\n",
              "      box-shadow: 0px 1px 3px 1px rgba(0, 0, 0, 0.15);\n",
              "      filter: drop-shadow(0px 1px 2px rgba(0, 0, 0, 0.3));\n",
              "      fill: #FFFFFF;\n",
              "    }\n",
              "  </style>\n",
              "\n",
              "      <script>\n",
              "        const buttonEl =\n",
              "          document.querySelector('#df-6489db64-8021-4985-926e-a5e6f81cc49e button.colab-df-convert');\n",
              "        buttonEl.style.display =\n",
              "          google.colab.kernel.accessAllowed ? 'block' : 'none';\n",
              "\n",
              "        async function convertToInteractive(key) {\n",
              "          const element = document.querySelector('#df-6489db64-8021-4985-926e-a5e6f81cc49e');\n",
              "          const dataTable =\n",
              "            await google.colab.kernel.invokeFunction('convertToInteractive',\n",
              "                                                     [key], {});\n",
              "          if (!dataTable) return;\n",
              "\n",
              "          const docLinkHtml = 'Like what you see? Visit the ' +\n",
              "            '<a target=\"_blank\" href=https://colab.research.google.com/notebooks/data_table.ipynb>data table notebook</a>'\n",
              "            + ' to learn more about interactive tables.';\n",
              "          element.innerHTML = '';\n",
              "          dataTable['output_type'] = 'display_data';\n",
              "          await google.colab.output.renderOutput(dataTable, element);\n",
              "          const docLink = document.createElement('div');\n",
              "          docLink.innerHTML = docLinkHtml;\n",
              "          element.appendChild(docLink);\n",
              "        }\n",
              "      </script>\n",
              "    </div>\n",
              "  </div>\n",
              "  "
            ]
          },
          "metadata": {},
          "execution_count": 37
        }
      ]
    },
    {
      "cell_type": "code",
      "source": [
        "CtV = count_vect.transform(data_precidt)\n",
        "tfi = tf_transformer.transform(CtV)\n",
        "list_data_predict = ANN.predict(tfi)\n",
        "list_data_predict"
      ],
      "metadata": {
        "colab": {
          "base_uri": "https://localhost:8080/"
        },
        "id": "JoOo1Zct0Mdd",
        "outputId": "c1531299-7090-486f-90b1-5a1ef83dfee2"
      },
      "execution_count": null,
      "outputs": [
        {
          "output_type": "stream",
          "name": "stderr",
          "text": [
            "/usr/local/lib/python3.9/dist-packages/sklearn/base.py:439: UserWarning: X does not have valid feature names, but TfidfTransformer was fitted with feature names\n",
            "  warnings.warn(\n"
          ]
        },
        {
          "output_type": "execute_result",
          "data": {
            "text/plain": [
              "array([0, 5, 1, 3, 3, 4, 6, 6, 1, 1, 3, 6, 0, 4, 5, 1, 1, 6, 0, 6, 3, 5,\n",
              "       0, 4, 4, 4, 1, 2, 2, 5, 1, 6, 4, 1, 0, 5, 4, 0, 5, 6, 4, 1, 6, 1,\n",
              "       1, 5, 2, 6, 6, 5, 1, 6, 0, 5, 1, 4, 5, 0, 6, 2, 2, 2, 4, 6, 6, 2,\n",
              "       6, 2, 5, 0, 0, 3, 6, 2, 0, 1, 5, 4, 2, 0, 4, 2, 3, 1, 5, 6, 0, 4,\n",
              "       6, 1, 3, 3, 4, 2, 3, 0, 4, 0, 1, 3, 4, 0, 2, 6, 3, 2, 6, 4, 0, 3,\n",
              "       2, 0, 4, 4, 3, 3, 4, 3, 4, 2, 0, 1, 3, 1, 3, 3, 3, 0, 4, 0, 4, 0,\n",
              "       4, 0, 1, 2, 5, 2, 0, 5, 4, 5, 0, 3, 0, 1, 5, 4, 3, 4, 2, 5, 0, 1,\n",
              "       4, 1, 1, 5, 2, 3, 5, 5, 3, 2, 5, 0, 2, 2, 1, 0, 3, 0, 3, 1, 0, 1,\n",
              "       0, 5, 3, 5, 3, 4, 0, 5, 5, 2, 0, 2, 0, 3, 4, 6, 6, 5, 3, 4, 0, 1,\n",
              "       1, 5, 3, 6, 6, 1, 0, 3, 5, 1, 2, 1, 3, 6, 5, 6, 2, 4, 6, 2, 2, 2,\n",
              "       3, 2, 6, 1, 4, 4, 1, 6, 6, 6, 0, 1, 3, 0, 5, 0, 3, 3, 1, 1, 5, 2,\n",
              "       1, 3, 4, 2, 1, 4, 4, 0, 0, 0, 0, 6, 2, 6, 3, 4, 2, 5, 4, 6, 3, 0,\n",
              "       0, 3, 3, 6, 1, 5, 4, 2, 0, 0, 2, 2, 2, 6, 1, 5, 3, 3, 6, 1, 5, 3,\n",
              "       1, 2, 6, 2, 6, 6, 0, 1, 6, 2, 0, 1, 4, 1])"
            ]
          },
          "metadata": {},
          "execution_count": 38
        }
      ]
    },
    {
      "cell_type": "code",
      "source": [
        "dict_data[3]"
      ],
      "metadata": {
        "colab": {
          "base_uri": "https://localhost:8080/",
          "height": 36
        },
        "id": "k78X7uTnGyKd",
        "outputId": "4db8009c-3b22-4b82-87a9-fab8da17177d"
      },
      "execution_count": null,
      "outputs": [
        {
          "output_type": "execute_result",
          "data": {
            "text/plain": [
              "'PlayMusic'"
            ],
            "application/vnd.google.colaboratory.intrinsic+json": {
              "type": "string"
            }
          },
          "metadata": {},
          "execution_count": 32
        }
      ]
    },
    {
      "cell_type": "code",
      "source": [
        "for preData in range(len(list_data_predict)):\n",
        "  sample_submission[\"intent\"][preData] = dict_data[list_data_predict[preData]]\n",
        "\n",
        "sample_submission.to_csv('Submission.csv', index=False)"
      ],
      "metadata": {
        "colab": {
          "base_uri": "https://localhost:8080/"
        },
        "id": "xJbZj1DW6X8F",
        "outputId": "8372fa05-8676-45fa-ebd7-2550afe6fb2a"
      },
      "execution_count": null,
      "outputs": [
        {
          "output_type": "stream",
          "name": "stderr",
          "text": [
            "<ipython-input-39-34df61f78847>:2: SettingWithCopyWarning: \n",
            "A value is trying to be set on a copy of a slice from a DataFrame\n",
            "\n",
            "See the caveats in the documentation: https://pandas.pydata.org/pandas-docs/stable/user_guide/indexing.html#returning-a-view-versus-a-copy\n",
            "  sample_submission[\"intent\"][preData] = dict_data[list_data_predict[preData]]\n"
          ]
        }
      ]
    },
    {
      "cell_type": "code",
      "source": [
        "sample_submission"
      ],
      "metadata": {
        "colab": {
          "base_uri": "https://localhost:8080/",
          "height": 423
        },
        "id": "awnUl7P__wUw",
        "outputId": "4a7ab1cf-36be-4f36-94af-7ec3ac5db6d6"
      },
      "execution_count": null,
      "outputs": [
        {
          "output_type": "execute_result",
          "data": {
            "text/plain": [
              "      id              intent\n",
              "0      1       AddToPlaylist\n",
              "1      2  SearchCreativeWork\n",
              "2      3      BookRestaurant\n",
              "3      4           PlayMusic\n",
              "4      5           PlayMusic\n",
              "..   ...                 ...\n",
              "295  296          GetWeather\n",
              "296  297       AddToPlaylist\n",
              "297  298      BookRestaurant\n",
              "298  299            RateBook\n",
              "299  300      BookRestaurant\n",
              "\n",
              "[300 rows x 2 columns]"
            ],
            "text/html": [
              "\n",
              "  <div id=\"df-62b7d141-75ca-4219-848a-8ae4617223fc\">\n",
              "    <div class=\"colab-df-container\">\n",
              "      <div>\n",
              "<style scoped>\n",
              "    .dataframe tbody tr th:only-of-type {\n",
              "        vertical-align: middle;\n",
              "    }\n",
              "\n",
              "    .dataframe tbody tr th {\n",
              "        vertical-align: top;\n",
              "    }\n",
              "\n",
              "    .dataframe thead th {\n",
              "        text-align: right;\n",
              "    }\n",
              "</style>\n",
              "<table border=\"1\" class=\"dataframe\">\n",
              "  <thead>\n",
              "    <tr style=\"text-align: right;\">\n",
              "      <th></th>\n",
              "      <th>id</th>\n",
              "      <th>intent</th>\n",
              "    </tr>\n",
              "  </thead>\n",
              "  <tbody>\n",
              "    <tr>\n",
              "      <th>0</th>\n",
              "      <td>1</td>\n",
              "      <td>AddToPlaylist</td>\n",
              "    </tr>\n",
              "    <tr>\n",
              "      <th>1</th>\n",
              "      <td>2</td>\n",
              "      <td>SearchCreativeWork</td>\n",
              "    </tr>\n",
              "    <tr>\n",
              "      <th>2</th>\n",
              "      <td>3</td>\n",
              "      <td>BookRestaurant</td>\n",
              "    </tr>\n",
              "    <tr>\n",
              "      <th>3</th>\n",
              "      <td>4</td>\n",
              "      <td>PlayMusic</td>\n",
              "    </tr>\n",
              "    <tr>\n",
              "      <th>4</th>\n",
              "      <td>5</td>\n",
              "      <td>PlayMusic</td>\n",
              "    </tr>\n",
              "    <tr>\n",
              "      <th>...</th>\n",
              "      <td>...</td>\n",
              "      <td>...</td>\n",
              "    </tr>\n",
              "    <tr>\n",
              "      <th>295</th>\n",
              "      <td>296</td>\n",
              "      <td>GetWeather</td>\n",
              "    </tr>\n",
              "    <tr>\n",
              "      <th>296</th>\n",
              "      <td>297</td>\n",
              "      <td>AddToPlaylist</td>\n",
              "    </tr>\n",
              "    <tr>\n",
              "      <th>297</th>\n",
              "      <td>298</td>\n",
              "      <td>BookRestaurant</td>\n",
              "    </tr>\n",
              "    <tr>\n",
              "      <th>298</th>\n",
              "      <td>299</td>\n",
              "      <td>RateBook</td>\n",
              "    </tr>\n",
              "    <tr>\n",
              "      <th>299</th>\n",
              "      <td>300</td>\n",
              "      <td>BookRestaurant</td>\n",
              "    </tr>\n",
              "  </tbody>\n",
              "</table>\n",
              "<p>300 rows × 2 columns</p>\n",
              "</div>\n",
              "      <button class=\"colab-df-convert\" onclick=\"convertToInteractive('df-62b7d141-75ca-4219-848a-8ae4617223fc')\"\n",
              "              title=\"Convert this dataframe to an interactive table.\"\n",
              "              style=\"display:none;\">\n",
              "        \n",
              "  <svg xmlns=\"http://www.w3.org/2000/svg\" height=\"24px\"viewBox=\"0 0 24 24\"\n",
              "       width=\"24px\">\n",
              "    <path d=\"M0 0h24v24H0V0z\" fill=\"none\"/>\n",
              "    <path d=\"M18.56 5.44l.94 2.06.94-2.06 2.06-.94-2.06-.94-.94-2.06-.94 2.06-2.06.94zm-11 1L8.5 8.5l.94-2.06 2.06-.94-2.06-.94L8.5 2.5l-.94 2.06-2.06.94zm10 10l.94 2.06.94-2.06 2.06-.94-2.06-.94-.94-2.06-.94 2.06-2.06.94z\"/><path d=\"M17.41 7.96l-1.37-1.37c-.4-.4-.92-.59-1.43-.59-.52 0-1.04.2-1.43.59L10.3 9.45l-7.72 7.72c-.78.78-.78 2.05 0 2.83L4 21.41c.39.39.9.59 1.41.59.51 0 1.02-.2 1.41-.59l7.78-7.78 2.81-2.81c.8-.78.8-2.07 0-2.86zM5.41 20L4 18.59l7.72-7.72 1.47 1.35L5.41 20z\"/>\n",
              "  </svg>\n",
              "      </button>\n",
              "      \n",
              "  <style>\n",
              "    .colab-df-container {\n",
              "      display:flex;\n",
              "      flex-wrap:wrap;\n",
              "      gap: 12px;\n",
              "    }\n",
              "\n",
              "    .colab-df-convert {\n",
              "      background-color: #E8F0FE;\n",
              "      border: none;\n",
              "      border-radius: 50%;\n",
              "      cursor: pointer;\n",
              "      display: none;\n",
              "      fill: #1967D2;\n",
              "      height: 32px;\n",
              "      padding: 0 0 0 0;\n",
              "      width: 32px;\n",
              "    }\n",
              "\n",
              "    .colab-df-convert:hover {\n",
              "      background-color: #E2EBFA;\n",
              "      box-shadow: 0px 1px 2px rgba(60, 64, 67, 0.3), 0px 1px 3px 1px rgba(60, 64, 67, 0.15);\n",
              "      fill: #174EA6;\n",
              "    }\n",
              "\n",
              "    [theme=dark] .colab-df-convert {\n",
              "      background-color: #3B4455;\n",
              "      fill: #D2E3FC;\n",
              "    }\n",
              "\n",
              "    [theme=dark] .colab-df-convert:hover {\n",
              "      background-color: #434B5C;\n",
              "      box-shadow: 0px 1px 3px 1px rgba(0, 0, 0, 0.15);\n",
              "      filter: drop-shadow(0px 1px 2px rgba(0, 0, 0, 0.3));\n",
              "      fill: #FFFFFF;\n",
              "    }\n",
              "  </style>\n",
              "\n",
              "      <script>\n",
              "        const buttonEl =\n",
              "          document.querySelector('#df-62b7d141-75ca-4219-848a-8ae4617223fc button.colab-df-convert');\n",
              "        buttonEl.style.display =\n",
              "          google.colab.kernel.accessAllowed ? 'block' : 'none';\n",
              "\n",
              "        async function convertToInteractive(key) {\n",
              "          const element = document.querySelector('#df-62b7d141-75ca-4219-848a-8ae4617223fc');\n",
              "          const dataTable =\n",
              "            await google.colab.kernel.invokeFunction('convertToInteractive',\n",
              "                                                     [key], {});\n",
              "          if (!dataTable) return;\n",
              "\n",
              "          const docLinkHtml = 'Like what you see? Visit the ' +\n",
              "            '<a target=\"_blank\" href=https://colab.research.google.com/notebooks/data_table.ipynb>data table notebook</a>'\n",
              "            + ' to learn more about interactive tables.';\n",
              "          element.innerHTML = '';\n",
              "          dataTable['output_type'] = 'display_data';\n",
              "          await google.colab.output.renderOutput(dataTable, element);\n",
              "          const docLink = document.createElement('div');\n",
              "          docLink.innerHTML = docLinkHtml;\n",
              "          element.appendChild(docLink);\n",
              "        }\n",
              "      </script>\n",
              "    </div>\n",
              "  </div>\n",
              "  "
            ]
          },
          "metadata": {},
          "execution_count": 40
        }
      ]
    },
    {
      "cell_type": "markdown",
      "source": [
        "#save model"
      ],
      "metadata": {
        "id": "L33PuzcK4bb5"
      }
    },
    {
      "cell_type": "code",
      "source": [
        "import pickle\n",
        "pickle.dump((count_vect, tf_transformer ,dict_data , ANN), open('0.96NLU_Intent_Classification_Super_AI_EngineerSS3.pkl', 'wb'))"
      ],
      "metadata": {
        "id": "8DuKrOcJ0Mau"
      },
      "execution_count": null,
      "outputs": []
    },
    {
      "cell_type": "code",
      "source": [
        "!cp /content/0.96NLU_Intent_Classification_Super_AI_EngineerSS3.pkl /content/drive/MyDrive/SuperAI"
      ],
      "metadata": {
        "id": "UMhjLL5R5BR9"
      },
      "execution_count": null,
      "outputs": []
    },
    {
      "cell_type": "markdown",
      "source": [
        "#load Model"
      ],
      "metadata": {
        "id": "c89fFMwP8fUC"
      }
    },
    {
      "cell_type": "code",
      "source": [
        "import pickle\n",
        "with open('/content/drive/MyDrive/SuperAI/0.96NLU_Intent_Classification_Super_AI_EngineerSS3.pkl', 'rb') as f:\n",
        "    count_vect,tf_transformer,dict_data,model = pickle.load(f)"
      ],
      "metadata": {
        "id": "aFofLYdy8hS8"
      },
      "execution_count": null,
      "outputs": []
    },
    {
      "cell_type": "markdown",
      "source": [
        "#Submission"
      ],
      "metadata": {
        "id": "24aUBbJNmFec"
      }
    },
    {
      "cell_type": "code",
      "source": [
        "!kaggle competitions submit -c hackathon-online-nlu-intent-classification -f /content/Submission.csv -m \"time 4 full test VotingClassifier\""
      ],
      "metadata": {
        "colab": {
          "base_uri": "https://localhost:8080/"
        },
        "id": "Sn_f3wO6mE4f",
        "outputId": "181310a6-3208-4f69-cbe9-52887bd165f2"
      },
      "execution_count": null,
      "outputs": [
        {
          "output_type": "stream",
          "name": "stdout",
          "text": [
            "100% 5.17k/5.17k [00:02<00:00, 2.59kB/s]\n",
            "Successfully submitted to Hackathon Online: NLU Intent Classification"
          ]
        }
      ]
    },
    {
      "cell_type": "code",
      "source": [],
      "metadata": {
        "id": "MhGpQT-4HZs7"
      },
      "execution_count": null,
      "outputs": []
    }
  ]
}